{
 "cells": [
  {
   "cell_type": "code",
   "execution_count": 2,
   "metadata": {},
   "outputs": [],
   "source": [
    "# need to run this twice due to bug in imported package\n",
    "\n",
    "import pandas as pd\n",
    "import matplotlib.pyplot as plt\n",
    "from sklearn.model_selection import ShuffleSplit\n",
    "import numpy as np\n",
    "import seaborn as sns\n",
    "import sys\n",
    "from scipy import stats\n",
    "import math\n",
    "\n",
    "sys.path.append(\"../\")\n",
    "from protocols import Helpers\n",
    "from protocols.BuildCatalogue3 import BuildCatalogue\n",
    "\n",
    "from protocols.Predict import predict, predict_cv, piezo_predict, piezo_predict_cv\n",
    "\n",
    "import warnings\n",
    "warnings.filterwarnings(\n",
    "    \"ignore\",\n",
    "    category=RuntimeWarning,\n",
    "    message=\"invalid value encountered in scalar divide\",\n",
    ")"
   ]
  },
  {
   "cell_type": "markdown",
   "metadata": {},
   "source": [
    "## Data imports"
   ]
  },
  {
   "cell_type": "code",
   "execution_count": 62,
   "metadata": {},
   "outputs": [],
   "source": [
    "mutations = pd.read_csv(\"../../Data/cryptic2/tables/bdq_mutations.csv\")\n",
    "mutations[\"UNIQUEID\"] = [i[:-19] for i in mutations.UNIQUEID]\n",
    "\n",
    "genomes = pd.read_pickle(\"../../Data/cryptic2/tables/GENOMES.pkl.gz\").reset_index()\n",
    "\n",
    "phenotypes = pd.read_pickle(\n",
    "    \"../../Data/cryptic2/tables/PHENOTYPES.pkl.gz\"\n",
    ").reset_index()\n",
    "\n",
    "sha_phenotypes = pd.read_pickle(\n",
    "    \"../../Data/tables/shaheed_tables/DST_MEASUREMENTS.pkl.gz\"\n",
    ").reset_index()\n",
    "sha_phenotypes = sha_phenotypes[sha_phenotypes.DRUG == \"BDQ\"][\n",
    "    [\"UNIQUEID\", \"DRUG\", \"PHENOTYPE\", \"METHOD_MIC\"]\n",
    "]\n",
    "\n",
    "growth = pd.read_pickle(\"../../Data/cryptic2/tables/UKMYC_GROWTH.pkl.gz\").reset_index()\n",
    "growth = growth[growth.DRUG=='BDQ']\n",
    "# Import and prepare WHO catalogue!!"
   ]
  },
  {
   "cell_type": "markdown",
   "metadata": {},
   "source": [
    "## Data prep for catalogue building"
   ]
  },
  {
   "cell_type": "code",
   "execution_count": 63,
   "metadata": {},
   "outputs": [],
   "source": [
    "# filter for high quality phenotypes\n",
    "phenotypes = phenotypes[\n",
    "    (phenotypes.DRUG == \"BDQ\") & (phenotypes.PHENOTYPE_QUALITY == \"HIGH\")\n",
    "][[\"UNIQUEID\", \"DRUG\", \"BINARY_PHENOTYPE\", \"MIC\"]].rename(\n",
    "    columns={\"BINARY_PHENOTYPE\": \"PHENOTYPE\", \"MIC\": \"METHOD_MIC\"}\n",
    ")\n",
    "phenotypes = pd.concat([phenotypes, sha_phenotypes], ignore_index=True)\n",
    "phenotypes = phenotypes[~phenotypes.METHOD_MIC.isna()]\n",
    "phenotypes = phenotypes[~phenotypes.PHENOTYPE.isna()]\n",
    "\n",
    "\n",
    "mutations_copy = mutations.copy()\n",
    "\n",
    "# create column with gene_mutation entries\n",
    "gene_muts, is_synonymous = [], []\n",
    "for i in mutations_copy.index:\n",
    "    if mutations_copy[\"MUTATION\"][i][0] == mutations_copy[\"MUTATION\"][i][-1]:\n",
    "        is_synonymous.append(True)\n",
    "    else:\n",
    "        is_synonymous.append(False)\n",
    "    if mutations_copy[\"IS_MINOR_ALLELE\"][i]:\n",
    "        gene_muts.append(\n",
    "            mutations_copy[\"GENE\"][i] + \"@\" + mutations_copy[\"MINOR_MUTATION\"][i]\n",
    "        )\n",
    "    else:\n",
    "        gene_muts.append(\n",
    "            mutations_copy[\"GENE\"][i] + \"@\" + mutations_copy[\"MUTATION\"][i]\n",
    "        )\n",
    "\n",
    "mutations_copy[\"GENE_MUT\"] = gene_muts\n",
    "mutations_copy[\"IS_SYNONYMOUS\"] = is_synonymous\n",
    "mutations = mutations_copy\n",
    "\n",
    "# fil in FRS values of for non-minor alelles\n",
    "mutations[\"FRS\"] = [\n",
    "    1 if ~mutations[\"IS_MINOR_ALLELE\"][i] else mutations[\"FRS\"][i]\n",
    "    for i in mutations.index\n",
    "]\n",
    "\n",
    "cat_mutations = mutations.copy()\n",
    "cat_mutations = cat_mutations[~cat_mutations.IS_SYNONYMOUS]\n",
    "\n",
    "# merge genomes and phenotypes tables\n",
    "samples = pd.merge(genomes, phenotypes, on=[\"UNIQUEID\"], how=\"inner\")\n",
    "samples = samples[[\"UNIQUEID\", \"DRUG\", \"PHENOTYPE\", \"METHOD_MIC\"]]\n",
    "\n",
    "piezo_wildcards = {\n",
    "    \"Rv0678@*=\": {\"pred\": \"S\", \"evid\": {}},\n",
    "    \"Rv0678@-*_indel\": {\"pred\": \"U\", \"evid\": {}},\n",
    "    \"Rv0678@*_indel\": {\"pred\": \"U\", \"evid\": {}},\n",
    "    \"Rv0678@-*?\": {\"pred\": \"U\", \"evid\": {}},\n",
    "    \"Rv0678@*?\": {\"pred\": \"U\", \"evid\": {}},\n",
    "    \"Rv0678@del_0.0\": {\"pred\": \"U\", \"evid\": {}},\n",
    "    \"pepQ@*=\": {\"pred\": \"S\", \"evid\": {}},\n",
    "    \"pepQ@-*_indel\": {\"pred\": \"U\", \"evid\": {}},\n",
    "    \"pepQ@*_indel\": {\"pred\": \"U\", \"evid\": {}},\n",
    "    \"pepQ@-*?\": {\"pred\": \"U\", \"evid\": {}},\n",
    "    \"pepQ@*?\": {\"pred\": \"U\", \"evid\": {}},\n",
    "    \"pepQ@del_0.0\": {\"pred\": \"U\", \"evid\": {}},\n",
    "    \"mmpS5@del_0.0\": {\"pred\": \"U\", \"evid\": {}},\n",
    "    \"mmpS5@*=\": {\"pred\": \"S\", \"evid\": {}},\n",
    "    \"mmpS5@-*_indel\": {\"pred\": \"U\", \"evid\": {}},\n",
    "    \"mmpS5@*_indel\": {\"pred\": \"U\", \"evid\": {}},\n",
    "    \"mmpS5@-*?\": {\"pred\": \"U\", \"evid\": {}},\n",
    "    \"mmpS5@*?\": {\"pred\": \"U\", \"evid\": {}},\n",
    "    \"mmpS5@del_0.0\": {\"pred\": \"U\", \"evid\": {}},\n",
    "    \"mmpL5@*=\": {\"pred\": \"S\", \"evid\": {}},\n",
    "    \"mmpL5@-*_indel\": {\"pred\": \"U\", \"evid\": {}},\n",
    "    \"mmpL5@*_indel\": {\"pred\": \"U\", \"evid\": {}},\n",
    "    \"mmpL5@-*?\": {\"pred\": \"U\", \"evid\": {}},\n",
    "    \"mmpL5@*?\": {\"pred\": \"U\", \"evid\": {}},\n",
    "    \"mmpL5@del_0.0\": {\"pred\": \"U\", \"evid\": {}},\n",
    "    \"atpE@*=\": {\"pred\": \"S\", \"evid\": {}},\n",
    "    \"atpE@-*_indel\": {\"pred\": \"U\", \"evid\": {}},\n",
    "    \"atpE@*_indel\": {\"pred\": \"U\", \"evid\": {}},\n",
    "    \"atpE@-*?\": {\"pred\": \"U\", \"evid\": {}},\n",
    "    \"atpE@*?\": {\"pred\": \"U\", \"evid\": {}},\n",
    "    \"atpE@RFill\": {\"pred\": \"R\", \"evid\": {}},\n",
    "    \"atpE@del_0.0\": {\"pred\": \"U\", \"evid\": {}},\n",
    "}"
   ]
  },
  {
   "cell_type": "code",
   "execution_count": 64,
   "metadata": {},
   "outputs": [
    {
     "data": {
      "text/plain": [
       "4      205\n",
       "2      138\n",
       "8      123\n",
       "0.5    100\n",
       "1       31\n",
       ">1      22\n",
       ">2      12\n",
       ">8       6\n",
       "2        2\n",
       "Name: METHOD_MIC, dtype: int64"
      ]
     },
     "execution_count": 64,
     "metadata": {},
     "output_type": "execute_result"
    }
   ],
   "source": [
    "phenotypes[phenotypes.PHENOTYPE=='R'].METHOD_MIC.value_counts()"
   ]
  },
  {
   "cell_type": "markdown",
   "metadata": {},
   "source": [
    "We use high quality phenotypes only as low signal in CRypTIC 1, and therefore good chance of FP. So get rid of them. "
   ]
  },
  {
   "cell_type": "markdown",
   "metadata": {},
   "source": [
    "## Basic Numbers"
   ]
  },
  {
   "cell_type": "code",
   "execution_count": 74,
   "metadata": {},
   "outputs": [
    {
     "data": {
      "text/html": [
       "<div>\n",
       "<style scoped>\n",
       "    .dataframe tbody tr th:only-of-type {\n",
       "        vertical-align: middle;\n",
       "    }\n",
       "\n",
       "    .dataframe tbody tr th {\n",
       "        vertical-align: top;\n",
       "    }\n",
       "\n",
       "    .dataframe thead tr th {\n",
       "        text-align: left;\n",
       "    }\n",
       "</style>\n",
       "<table border=\"1\" class=\"dataframe\">\n",
       "  <thead>\n",
       "    <tr>\n",
       "      <th></th>\n",
       "      <th>All</th>\n",
       "      <th colspan=\"2\" halign=\"left\"></th>\n",
       "      <th>Minor alleles</th>\n",
       "      <th colspan=\"2\" halign=\"left\"></th>\n",
       "      <th>All</th>\n",
       "      <th colspan=\"2\" halign=\"left\"></th>\n",
       "      <th>Minor alleles</th>\n",
       "      <th colspan=\"2\" halign=\"left\"></th>\n",
       "    </tr>\n",
       "    <tr>\n",
       "      <th></th>\n",
       "      <th>R</th>\n",
       "      <th>S</th>\n",
       "      <th>Total</th>\n",
       "      <th>R</th>\n",
       "      <th>S</th>\n",
       "      <th>Total</th>\n",
       "      <th>R</th>\n",
       "      <th>S</th>\n",
       "      <th>Total</th>\n",
       "      <th>R</th>\n",
       "      <th>S</th>\n",
       "      <th>Total</th>\n",
       "    </tr>\n",
       "  </thead>\n",
       "  <tbody>\n",
       "    <tr>\n",
       "      <th>Total</th>\n",
       "      <td>581</td>\n",
       "      <td>13641</td>\n",
       "      <td>14218</td>\n",
       "      <td>190</td>\n",
       "      <td>415</td>\n",
       "      <td>604</td>\n",
       "      <td>1788</td>\n",
       "      <td>28682</td>\n",
       "      <td>30470</td>\n",
       "      <td>371</td>\n",
       "      <td>752</td>\n",
       "      <td>1123</td>\n",
       "    </tr>\n",
       "    <tr>\n",
       "      <th>mmpL5</th>\n",
       "      <td>581</td>\n",
       "      <td>13636</td>\n",
       "      <td>14217</td>\n",
       "      <td>8</td>\n",
       "      <td>238</td>\n",
       "      <td>246</td>\n",
       "      <td>1083</td>\n",
       "      <td>27265</td>\n",
       "      <td>28348</td>\n",
       "      <td>23</td>\n",
       "      <td>341</td>\n",
       "      <td>364</td>\n",
       "    </tr>\n",
       "    <tr>\n",
       "      <th>Rv0678</th>\n",
       "      <td>500</td>\n",
       "      <td>530</td>\n",
       "      <td>1030</td>\n",
       "      <td>178</td>\n",
       "      <td>130</td>\n",
       "      <td>308</td>\n",
       "      <td>666</td>\n",
       "      <td>634</td>\n",
       "      <td>1300</td>\n",
       "      <td>324</td>\n",
       "      <td>208</td>\n",
       "      <td>532</td>\n",
       "    </tr>\n",
       "    <tr>\n",
       "      <th>pepQ</th>\n",
       "      <td>21</td>\n",
       "      <td>254</td>\n",
       "      <td>275</td>\n",
       "      <td>12</td>\n",
       "      <td>75</td>\n",
       "      <td>87</td>\n",
       "      <td>27</td>\n",
       "      <td>526</td>\n",
       "      <td>553</td>\n",
       "      <td>18</td>\n",
       "      <td>88</td>\n",
       "      <td>106</td>\n",
       "    </tr>\n",
       "    <tr>\n",
       "      <th>mmpS5</th>\n",
       "      <td>2</td>\n",
       "      <td>95</td>\n",
       "      <td>97</td>\n",
       "      <td>1</td>\n",
       "      <td>5</td>\n",
       "      <td>6</td>\n",
       "      <td>3</td>\n",
       "      <td>103</td>\n",
       "      <td>106</td>\n",
       "      <td>2</td>\n",
       "      <td>5</td>\n",
       "      <td>7</td>\n",
       "    </tr>\n",
       "    <tr>\n",
       "      <th>atpE</th>\n",
       "      <td>9</td>\n",
       "      <td>21</td>\n",
       "      <td>30</td>\n",
       "      <td>4</td>\n",
       "      <td>6</td>\n",
       "      <td>10</td>\n",
       "      <td>9</td>\n",
       "      <td>154</td>\n",
       "      <td>163</td>\n",
       "      <td>4</td>\n",
       "      <td>110</td>\n",
       "      <td>114</td>\n",
       "    </tr>\n",
       "  </tbody>\n",
       "</table>\n",
       "</div>"
      ],
      "text/plain": [
       "        All               Minor alleles              All                \\\n",
       "          R      S  Total             R    S Total     R      S  Total   \n",
       "Total   581  13641  14218           190  415   604  1788  28682  30470   \n",
       "mmpL5   581  13636  14217             8  238   246  1083  27265  28348   \n",
       "Rv0678  500    530   1030           178  130   308   666    634   1300   \n",
       "pepQ     21    254    275            12   75    87    27    526    553   \n",
       "mmpS5     2     95     97             1    5     6     3    103    106   \n",
       "atpE      9     21     30             4    6    10     9    154    163   \n",
       "\n",
       "       Minor alleles             \n",
       "                   R    S Total  \n",
       "Total            371  752  1123  \n",
       "mmpL5             23  341   364  \n",
       "Rv0678           324  208   532  \n",
       "pepQ              18   88   106  \n",
       "mmpS5              2    5     7  \n",
       "atpE               4  110   114  "
      ]
     },
     "execution_count": 74,
     "metadata": {},
     "output_type": "execute_result"
    }
   ],
   "source": [
    "all_cat = pd.merge(cat_mutations, phenotypes, on=[\"UNIQUEID\"], how=\"inner\")\n",
    "all_cat = all_cat[~all_cat.METHOD_MIC.isna()]\n",
    "\n",
    "df = Helpers.RSIsolateTable(all_cat, all_cat.GENE.unique())\n",
    "df1 = Helpers.RSIsolateTable(all_cat[all_cat.FRS < 0.9], all_cat.GENE.unique())\n",
    "df2 = Helpers.RSVariantTable(all_cat, all_cat.GENE.unique())\n",
    "df3 = Helpers.RSVariantTable(all_cat[all_cat.FRS < 0.9], all_cat.GENE.unique())\n",
    "df = pd.concat([df, df1, df2, df3], axis=1)\n",
    "\n",
    "df.columns = pd.MultiIndex.from_tuples(\n",
    "    zip(\n",
    "        [\n",
    "            \"All\",\n",
    "            \"\",\n",
    "            \"\",\n",
    "            \"Minor alleles\",\n",
    "            \"\",\n",
    "            \"\",\n",
    "            \"All\",\n",
    "            \"\",\n",
    "            \"\",\n",
    "            \"Minor alleles\",\n",
    "            \"\",\n",
    "            \"\",\n",
    "        ],\n",
    "        df.columns,\n",
    "    )\n",
    ")\n",
    "df"
   ]
  },
  {
   "cell_type": "code",
   "execution_count": 75,
   "metadata": {},
   "outputs": [
    {
     "name": "stderr",
     "output_type": "stream",
     "text": [
      "/var/folders/s5/pshvb2093574r5hqnwcy6klw0000gn/T/ipykernel_40668/1669264725.py:1: FutureWarning: In future versions `DataFrame.to_latex` is expected to utilise the base implementation of `Styler.to_latex` for formatting and rendering. The arguments signature may therefore change. It is recommended instead to use `DataFrame.style.to_latex` which also contains additional functionality.\n",
      "  df.to_latex()\n"
     ]
    },
    {
     "data": {
      "text/plain": [
       "'\\\\begin{tabular}{lrrrrrrrrrrrr}\\n\\\\toprule\\n{} & \\\\multicolumn{3}{l}{All} & \\\\multicolumn{3}{l}{Minor alleles} & \\\\multicolumn{3}{l}{All} & \\\\multicolumn{3}{l}{Minor alleles} \\\\\\\\\\n{} &    R &      S &  Total &             R &    S & Total &     R &      S &  Total &             R &    S & Total \\\\\\\\\\n\\\\midrule\\nTotal  &  581 &  13641 &  14218 &           190 &  415 &   604 &  1788 &  28682 &  30470 &           371 &  752 &  1123 \\\\\\\\\\nmmpL5  &  581 &  13636 &  14217 &             8 &  238 &   246 &  1083 &  27265 &  28348 &            23 &  341 &   364 \\\\\\\\\\nRv0678 &  500 &    530 &   1030 &           178 &  130 &   308 &   666 &    634 &   1300 &           324 &  208 &   532 \\\\\\\\\\npepQ   &   21 &    254 &    275 &            12 &   75 &    87 &    27 &    526 &    553 &            18 &   88 &   106 \\\\\\\\\\nmmpS5  &    2 &     95 &     97 &             1 &    5 &     6 &     3 &    103 &    106 &             2 &    5 &     7 \\\\\\\\\\natpE   &    9 &     21 &     30 &             4 &    6 &    10 &     9 &    154 &    163 &             4 &  110 &   114 \\\\\\\\\\n\\\\bottomrule\\n\\\\end{tabular}\\n'"
      ]
     },
     "execution_count": 75,
     "metadata": {},
     "output_type": "execute_result"
    }
   ],
   "source": [
    "df.to_latex()"
   ]
  },
  {
   "cell_type": "code",
   "execution_count": 76,
   "metadata": {},
   "outputs": [
    {
     "data": {
      "text/html": [
       "<div>\n",
       "<style scoped>\n",
       "    .dataframe tbody tr th:only-of-type {\n",
       "        vertical-align: middle;\n",
       "    }\n",
       "\n",
       "    .dataframe tbody tr th {\n",
       "        vertical-align: top;\n",
       "    }\n",
       "\n",
       "    .dataframe thead tr th {\n",
       "        text-align: left;\n",
       "    }\n",
       "</style>\n",
       "<table border=\"1\" class=\"dataframe\">\n",
       "  <thead>\n",
       "    <tr>\n",
       "      <th></th>\n",
       "      <th>All</th>\n",
       "      <th colspan=\"2\" halign=\"left\"></th>\n",
       "      <th>Minor alleles</th>\n",
       "      <th colspan=\"2\" halign=\"left\"></th>\n",
       "      <th>All</th>\n",
       "      <th colspan=\"2\" halign=\"left\"></th>\n",
       "      <th>Minor alleles</th>\n",
       "      <th colspan=\"2\" halign=\"left\"></th>\n",
       "    </tr>\n",
       "    <tr>\n",
       "      <th></th>\n",
       "      <th>R</th>\n",
       "      <th>S</th>\n",
       "      <th>Total</th>\n",
       "      <th>R</th>\n",
       "      <th>S</th>\n",
       "      <th>Total</th>\n",
       "      <th>R</th>\n",
       "      <th>S</th>\n",
       "      <th>Total</th>\n",
       "      <th>R</th>\n",
       "      <th>S</th>\n",
       "      <th>Total</th>\n",
       "    </tr>\n",
       "  </thead>\n",
       "  <tbody>\n",
       "    <tr>\n",
       "      <th>Total</th>\n",
       "      <td>584</td>\n",
       "      <td>13745</td>\n",
       "      <td>14325</td>\n",
       "      <td>190</td>\n",
       "      <td>415</td>\n",
       "      <td>604</td>\n",
       "      <td>1821</td>\n",
       "      <td>29900</td>\n",
       "      <td>31721</td>\n",
       "      <td>371</td>\n",
       "      <td>752</td>\n",
       "      <td>1123</td>\n",
       "    </tr>\n",
       "    <tr>\n",
       "      <th>mmpL5</th>\n",
       "      <td>581</td>\n",
       "      <td>13638</td>\n",
       "      <td>14219</td>\n",
       "      <td>8</td>\n",
       "      <td>238</td>\n",
       "      <td>246</td>\n",
       "      <td>1112</td>\n",
       "      <td>27885</td>\n",
       "      <td>28997</td>\n",
       "      <td>23</td>\n",
       "      <td>341</td>\n",
       "      <td>364</td>\n",
       "    </tr>\n",
       "    <tr>\n",
       "      <th>Rv0678</th>\n",
       "      <td>500</td>\n",
       "      <td>557</td>\n",
       "      <td>1057</td>\n",
       "      <td>178</td>\n",
       "      <td>130</td>\n",
       "      <td>308</td>\n",
       "      <td>666</td>\n",
       "      <td>665</td>\n",
       "      <td>1331</td>\n",
       "      <td>324</td>\n",
       "      <td>208</td>\n",
       "      <td>532</td>\n",
       "    </tr>\n",
       "    <tr>\n",
       "      <th>pepQ</th>\n",
       "      <td>21</td>\n",
       "      <td>337</td>\n",
       "      <td>358</td>\n",
       "      <td>12</td>\n",
       "      <td>75</td>\n",
       "      <td>87</td>\n",
       "      <td>27</td>\n",
       "      <td>918</td>\n",
       "      <td>945</td>\n",
       "      <td>18</td>\n",
       "      <td>88</td>\n",
       "      <td>106</td>\n",
       "    </tr>\n",
       "    <tr>\n",
       "      <th>mmpS5</th>\n",
       "      <td>2</td>\n",
       "      <td>120</td>\n",
       "      <td>122</td>\n",
       "      <td>1</td>\n",
       "      <td>5</td>\n",
       "      <td>6</td>\n",
       "      <td>3</td>\n",
       "      <td>129</td>\n",
       "      <td>132</td>\n",
       "      <td>2</td>\n",
       "      <td>5</td>\n",
       "      <td>7</td>\n",
       "    </tr>\n",
       "    <tr>\n",
       "      <th>atpE</th>\n",
       "      <td>10</td>\n",
       "      <td>37</td>\n",
       "      <td>47</td>\n",
       "      <td>4</td>\n",
       "      <td>6</td>\n",
       "      <td>10</td>\n",
       "      <td>10</td>\n",
       "      <td>201</td>\n",
       "      <td>211</td>\n",
       "      <td>4</td>\n",
       "      <td>110</td>\n",
       "      <td>114</td>\n",
       "    </tr>\n",
       "    <tr>\n",
       "      <th>NaN</th>\n",
       "      <td>0</td>\n",
       "      <td>0</td>\n",
       "      <td>0</td>\n",
       "      <td>0</td>\n",
       "      <td>0</td>\n",
       "      <td>0</td>\n",
       "      <td>0</td>\n",
       "      <td>0</td>\n",
       "      <td>0</td>\n",
       "      <td>0</td>\n",
       "      <td>0</td>\n",
       "      <td>0</td>\n",
       "    </tr>\n",
       "  </tbody>\n",
       "</table>\n",
       "</div>"
      ],
      "text/plain": [
       "        All               Minor alleles              All                \\\n",
       "          R      S  Total             R    S Total     R      S  Total   \n",
       "Total   584  13745  14325           190  415   604  1821  29900  31721   \n",
       "mmpL5   581  13638  14219             8  238   246  1112  27885  28997   \n",
       "Rv0678  500    557   1057           178  130   308   666    665   1331   \n",
       "pepQ     21    337    358            12   75    87    27    918    945   \n",
       "mmpS5     2    120    122             1    5     6     3    129    132   \n",
       "atpE     10     37     47             4    6    10    10    201    211   \n",
       "NaN       0      0      0             0    0     0     0      0      0   \n",
       "\n",
       "       Minor alleles             \n",
       "                   R    S Total  \n",
       "Total            371  752  1123  \n",
       "mmpL5             23  341   364  \n",
       "Rv0678           324  208   532  \n",
       "pepQ              18   88   106  \n",
       "mmpS5              2    5     7  \n",
       "atpE               4  110   114  \n",
       "NaN                0    0     0  "
      ]
     },
     "execution_count": 76,
     "metadata": {},
     "output_type": "execute_result"
    }
   ],
   "source": [
    "all = pd.merge(samples, mutations, on=[\"UNIQUEID\"], how=\"left\")\n",
    "\n",
    "# General isolates\n",
    "df = Helpers.RSIsolateTable(all, all.GENE.unique())\n",
    "# minor allele isolates\n",
    "df1 = Helpers.RSIsolateTable(all[all.FRS < 0.9], all.GENE.unique())\n",
    "# General variants\n",
    "df2 = Helpers.RSVariantTable(all, all.GENE.unique())\n",
    "df3 = Helpers.RSVariantTable(all[all.FRS < 0.9], all.GENE.unique())\n",
    "df = pd.concat([df, df1, df2, df3], axis=1)\n",
    "df.columns = pd.MultiIndex.from_tuples(\n",
    "    zip(\n",
    "        [\n",
    "            \"All\",\n",
    "            \"\",\n",
    "            \"\",\n",
    "            \"Minor alleles\",\n",
    "            \"\",\n",
    "            \"\",\n",
    "            \"All\",\n",
    "            \"\",\n",
    "            \"\",\n",
    "            \"Minor alleles\",\n",
    "            \"\",\n",
    "            \"\",\n",
    "        ],\n",
    "        df.columns,\n",
    "    )\n",
    ")\n",
    "df"
   ]
  },
  {
   "cell_type": "code",
   "execution_count": 77,
   "metadata": {},
   "outputs": [
    {
     "name": "stderr",
     "output_type": "stream",
     "text": [
      "/var/folders/s5/pshvb2093574r5hqnwcy6klw0000gn/T/ipykernel_40668/1669264725.py:1: FutureWarning: In future versions `DataFrame.to_latex` is expected to utilise the base implementation of `Styler.to_latex` for formatting and rendering. The arguments signature may therefore change. It is recommended instead to use `DataFrame.style.to_latex` which also contains additional functionality.\n",
      "  df.to_latex()\n"
     ]
    },
    {
     "data": {
      "text/plain": [
       "'\\\\begin{tabular}{lrrrrrrrrrrrr}\\n\\\\toprule\\n{} & \\\\multicolumn{3}{l}{All} & \\\\multicolumn{3}{l}{Minor alleles} & \\\\multicolumn{3}{l}{All} & \\\\multicolumn{3}{l}{Minor alleles} \\\\\\\\\\n{} &    R &      S &  Total &             R &    S & Total &     R &      S &  Total &             R &    S & Total \\\\\\\\\\n\\\\midrule\\nTotal  &  584 &  13745 &  14325 &           190 &  415 &   604 &  1821 &  29900 &  31721 &           371 &  752 &  1123 \\\\\\\\\\nmmpL5  &  581 &  13638 &  14219 &             8 &  238 &   246 &  1112 &  27885 &  28997 &            23 &  341 &   364 \\\\\\\\\\nRv0678 &  500 &    557 &   1057 &           178 &  130 &   308 &   666 &    665 &   1331 &           324 &  208 &   532 \\\\\\\\\\npepQ   &   21 &    337 &    358 &            12 &   75 &    87 &    27 &    918 &    945 &            18 &   88 &   106 \\\\\\\\\\nmmpS5  &    2 &    120 &    122 &             1 &    5 &     6 &     3 &    129 &    132 &             2 &    5 &     7 \\\\\\\\\\natpE   &   10 &     37 &     47 &             4 &    6 &    10 &    10 &    201 &    211 &             4 &  110 &   114 \\\\\\\\\\nNaN    &    0 &      0 &      0 &             0 &    0 &     0 &     0 &      0 &      0 &             0 &    0 &     0 \\\\\\\\\\n\\\\bottomrule\\n\\\\end{tabular}\\n'"
      ]
     },
     "execution_count": 77,
     "metadata": {},
     "output_type": "execute_result"
    }
   ],
   "source": [
    "df.to_latex()"
   ]
  },
  {
   "cell_type": "markdown",
   "metadata": {},
   "source": [
    "Isolates on the left half, variants on the right half"
   ]
  },
  {
   "cell_type": "markdown",
   "metadata": {},
   "source": [
    "## How does the WHO catalogue do on CRyPTIC2?"
   ]
  },
  {
   "cell_type": "code",
   "execution_count": 78,
   "metadata": {},
   "outputs": [
    {
     "data": {
      "text/plain": [
       "I948V    42397\n",
       "T794I    22842\n",
       "D767N    10216\n",
       "F696L      737\n",
       "Y300!      249\n",
       "         ...  \n",
       "M232R        1\n",
       "I231A        1\n",
       "A230R        1\n",
       "S229Q        1\n",
       "I501T        1\n",
       "Name: MUTATION, Length: 2449, dtype: int64"
      ]
     },
     "execution_count": 78,
     "metadata": {},
     "output_type": "execute_result"
    }
   ],
   "source": [
    "cat_mutations[cat_mutations.GENE=='mmpL5'].MUTATION.value_counts()"
   ]
  },
  {
   "cell_type": "code",
   "execution_count": 79,
   "metadata": {},
   "outputs": [
    {
     "data": {
      "text/plain": [
       "I948V                14207\n",
       "T794I                 8281\n",
       "D767N                 4382\n",
       "F696L                  199\n",
       "Y300!                  144\n",
       "                     ...  \n",
       "2003_del_cgatgcag        1\n",
       "S647Z                    1\n",
       "K467R                    1\n",
       "M443T                    1\n",
       "G257R                    1\n",
       "Name: MUTATION, Length: 397, dtype: int64"
      ]
     },
     "execution_count": 79,
     "metadata": {},
     "output_type": "execute_result"
    }
   ],
   "source": [
    "all_cat[all_cat.GENE=='mmpL5'].MUTATION.value_counts()"
   ]
  },
  {
   "cell_type": "markdown",
   "metadata": {},
   "source": [
    "## Build Catalogue Using Psuedo-Heuristic Method"
   ]
  },
  {
   "cell_type": "markdown",
   "metadata": {},
   "source": [
    "### Assume Homogeneity and build at FRS 0.9"
   ]
  },
  {
   "cell_type": "code",
   "execution_count": 80,
   "metadata": {},
   "outputs": [
    {
     "data": {
      "text/html": [
       "<div>\n",
       "<style scoped>\n",
       "    .dataframe tbody tr th:only-of-type {\n",
       "        vertical-align: middle;\n",
       "    }\n",
       "\n",
       "    .dataframe tbody tr th {\n",
       "        vertical-align: top;\n",
       "    }\n",
       "\n",
       "    .dataframe thead th {\n",
       "        text-align: right;\n",
       "    }\n",
       "</style>\n",
       "<table border=\"1\" class=\"dataframe\">\n",
       "  <thead>\n",
       "    <tr style=\"text-align: right;\">\n",
       "      <th></th>\n",
       "      <th>MUTATION</th>\n",
       "      <th>PHENOTYPE</th>\n",
       "    </tr>\n",
       "  </thead>\n",
       "  <tbody>\n",
       "    <tr>\n",
       "      <th>0</th>\n",
       "      <td>Rv0678@L40V</td>\n",
       "      <td>S</td>\n",
       "    </tr>\n",
       "    <tr>\n",
       "      <th>1</th>\n",
       "      <td>mmpL5@I948V</td>\n",
       "      <td>U</td>\n",
       "    </tr>\n",
       "  </tbody>\n",
       "</table>\n",
       "</div>"
      ],
      "text/plain": [
       "      MUTATION PHENOTYPE\n",
       "0  Rv0678@L40V         S\n",
       "1  mmpL5@I948V         U"
      ]
     },
     "execution_count": 80,
     "metadata": {},
     "output_type": "execute_result"
    }
   ],
   "source": [
    "#Build Catalogue\n",
    "catalogue_90 = BuildCatalogue(\n",
    "    samples, cat_mutations, 0.9\n",
    ").return_catalogue()\n",
    "catalogue_90 = (\n",
    "    pd.DataFrame.from_dict(catalogue_90, orient=\"index\")\n",
    "    .reset_index(0)\n",
    "    .rename(columns={\"index\": \"MUTATION\"})\n",
    ")\n",
    "catalogue_90"
   ]
  },
  {
   "cell_type": "markdown",
   "metadata": {},
   "source": [
    "I948V doesnt pass the p-value threshold and the method gets stuck"
   ]
  },
  {
   "cell_type": "markdown",
   "metadata": {},
   "source": [
    "However, the WHO did use a lower FRS of 0.75. We know minor alleles are important for the fluorquinolones - we observe 1123 minor alleles in the CRyPTIC2 dataset. Lets allow some in by dropping to the WHO's threshold."
   ]
  },
  {
   "cell_type": "markdown",
   "metadata": {},
   "source": [
    "### Assume Homogeneity and build at FRS 0.75"
   ]
  },
  {
   "cell_type": "code",
   "execution_count": 81,
   "metadata": {},
   "outputs": [
    {
     "data": {
      "text/html": [
       "<div>\n",
       "<style scoped>\n",
       "    .dataframe tbody tr th:only-of-type {\n",
       "        vertical-align: middle;\n",
       "    }\n",
       "\n",
       "    .dataframe tbody tr th {\n",
       "        vertical-align: top;\n",
       "    }\n",
       "\n",
       "    .dataframe thead th {\n",
       "        text-align: right;\n",
       "    }\n",
       "</style>\n",
       "<table border=\"1\" class=\"dataframe\">\n",
       "  <thead>\n",
       "    <tr style=\"text-align: right;\">\n",
       "      <th></th>\n",
       "      <th>MUTATION</th>\n",
       "      <th>PHENOTYPE</th>\n",
       "    </tr>\n",
       "  </thead>\n",
       "  <tbody>\n",
       "    <tr>\n",
       "      <th>0</th>\n",
       "      <td>Rv0678@L40V</td>\n",
       "      <td>S</td>\n",
       "    </tr>\n",
       "    <tr>\n",
       "      <th>1</th>\n",
       "      <td>mmpL5@I948V</td>\n",
       "      <td>U</td>\n",
       "    </tr>\n",
       "  </tbody>\n",
       "</table>\n",
       "</div>"
      ],
      "text/plain": [
       "      MUTATION PHENOTYPE\n",
       "0  Rv0678@L40V         S\n",
       "1  mmpL5@I948V         U"
      ]
     },
     "execution_count": 81,
     "metadata": {},
     "output_type": "execute_result"
    }
   ],
   "source": [
    "#Build catalogue\n",
    "catalogue_75 = BuildCatalogue(samples, cat_mutations, 0.75).return_catalogue()\n",
    "catalogue_75 = (\n",
    "    pd.DataFrame.from_dict(catalogue_75, orient=\"index\")\n",
    "    .reset_index(0)\n",
    "    .rename(columns={\"index\": \"MUTATION\"})\n",
    ")\n",
    "catalogue_75"
   ]
  },
  {
   "cell_type": "markdown",
   "metadata": {},
   "source": [
    "It is still getting stuck as I948V doesn't pass P-value threshold. Although the WHO built their catalogue at FRS 0.75, they tested at 0.25:"
   ]
  },
  {
   "cell_type": "markdown",
   "metadata": {},
   "source": [
    "### Assume Heterogeneity and build at FRS 0.25"
   ]
  },
  {
   "cell_type": "code",
   "execution_count": 82,
   "metadata": {},
   "outputs": [
    {
     "data": {
      "text/html": [
       "<div>\n",
       "<style scoped>\n",
       "    .dataframe tbody tr th:only-of-type {\n",
       "        vertical-align: middle;\n",
       "    }\n",
       "\n",
       "    .dataframe tbody tr th {\n",
       "        vertical-align: top;\n",
       "    }\n",
       "\n",
       "    .dataframe thead th {\n",
       "        text-align: right;\n",
       "    }\n",
       "</style>\n",
       "<table border=\"1\" class=\"dataframe\">\n",
       "  <thead>\n",
       "    <tr style=\"text-align: right;\">\n",
       "      <th></th>\n",
       "      <th>MUTATION</th>\n",
       "      <th>PHENOTYPE</th>\n",
       "    </tr>\n",
       "  </thead>\n",
       "  <tbody>\n",
       "    <tr>\n",
       "      <th>0</th>\n",
       "      <td>Rv0678@*=</td>\n",
       "      <td>S</td>\n",
       "    </tr>\n",
       "    <tr>\n",
       "      <th>1</th>\n",
       "      <td>Rv0678@*?</td>\n",
       "      <td>U</td>\n",
       "    </tr>\n",
       "    <tr>\n",
       "      <th>2</th>\n",
       "      <td>Rv0678@*_indel</td>\n",
       "      <td>U</td>\n",
       "    </tr>\n",
       "    <tr>\n",
       "      <th>3</th>\n",
       "      <td>Rv0678@-*?</td>\n",
       "      <td>U</td>\n",
       "    </tr>\n",
       "    <tr>\n",
       "      <th>4</th>\n",
       "      <td>Rv0678@-*_indel</td>\n",
       "      <td>U</td>\n",
       "    </tr>\n",
       "    <tr>\n",
       "      <th>...</th>\n",
       "      <td>...</td>\n",
       "      <td>...</td>\n",
       "    </tr>\n",
       "    <tr>\n",
       "      <th>710</th>\n",
       "      <td>pepQ@V45L</td>\n",
       "      <td>S</td>\n",
       "    </tr>\n",
       "    <tr>\n",
       "      <th>711</th>\n",
       "      <td>pepQ@Y32H</td>\n",
       "      <td>S</td>\n",
       "    </tr>\n",
       "    <tr>\n",
       "      <th>712</th>\n",
       "      <td>pepQ@del_0.0</td>\n",
       "      <td>U</td>\n",
       "    </tr>\n",
       "    <tr>\n",
       "      <th>713</th>\n",
       "      <td>pepQ@g-5a</td>\n",
       "      <td>S</td>\n",
       "    </tr>\n",
       "    <tr>\n",
       "      <th>714</th>\n",
       "      <td>pepQ@t-14c</td>\n",
       "      <td>S</td>\n",
       "    </tr>\n",
       "  </tbody>\n",
       "</table>\n",
       "<p>715 rows × 2 columns</p>\n",
       "</div>"
      ],
      "text/plain": [
       "            MUTATION PHENOTYPE\n",
       "0          Rv0678@*=         S\n",
       "1          Rv0678@*?         U\n",
       "2     Rv0678@*_indel         U\n",
       "3         Rv0678@-*?         U\n",
       "4    Rv0678@-*_indel         U\n",
       "..               ...       ...\n",
       "710        pepQ@V45L         S\n",
       "711        pepQ@Y32H         S\n",
       "712     pepQ@del_0.0         U\n",
       "713        pepQ@g-5a         S\n",
       "714       pepQ@t-14c         S\n",
       "\n",
       "[715 rows x 2 columns]"
      ]
     },
     "execution_count": 82,
     "metadata": {},
     "output_type": "execute_result"
    }
   ],
   "source": [
    "# Build catalogue\n",
    "catalogue_25 = BuildCatalogue(samples, cat_mutations, 0.25)\n",
    "\n",
    "# locally save catalogue file\n",
    "catalogue_25.return_piezo(\n",
    "    \"NC_000962.3\", \"BDQ-FRS-25-2023.11\", \"1.1\", \"BDQ\", piezo_wildcards\n",
    ").to_csv(\"./catalogues/catalogue_FRS_25.csv\", index=False)\n",
    "\n",
    "# display catalogue\n",
    "pd.DataFrame.from_dict(catalogue_25.return_catalogue(), orient=\"index\").reset_index(\n",
    "    0\n",
    ").rename(columns={\"index\": \"MUTATION\"})"
   ]
  },
  {
   "cell_type": "code",
   "execution_count": 86,
   "metadata": {},
   "outputs": [
    {
     "data": {
      "text/html": [
       "<div>\n",
       "<style scoped>\n",
       "    .dataframe tbody tr th:only-of-type {\n",
       "        vertical-align: middle;\n",
       "    }\n",
       "\n",
       "    .dataframe tbody tr th {\n",
       "        vertical-align: top;\n",
       "    }\n",
       "\n",
       "    .dataframe thead th {\n",
       "        text-align: right;\n",
       "    }\n",
       "</style>\n",
       "<table border=\"1\" class=\"dataframe\">\n",
       "  <thead>\n",
       "    <tr style=\"text-align: right;\">\n",
       "      <th></th>\n",
       "      <th>MUTATION</th>\n",
       "      <th>PHENOTYPE</th>\n",
       "    </tr>\n",
       "  </thead>\n",
       "  <tbody>\n",
       "    <tr>\n",
       "      <th>7</th>\n",
       "      <td>Rv0678@107_ins_g</td>\n",
       "      <td>R</td>\n",
       "    </tr>\n",
       "    <tr>\n",
       "      <th>8</th>\n",
       "      <td>Rv0678@125_del_g</td>\n",
       "      <td>R</td>\n",
       "    </tr>\n",
       "    <tr>\n",
       "      <th>10</th>\n",
       "      <td>Rv0678@128_del_tgctggtgtgt</td>\n",
       "      <td>R</td>\n",
       "    </tr>\n",
       "    <tr>\n",
       "      <th>11</th>\n",
       "      <td>Rv0678@130_del_ctggtgtgt</td>\n",
       "      <td>R</td>\n",
       "    </tr>\n",
       "    <tr>\n",
       "      <th>12</th>\n",
       "      <td>Rv0678@132_ins_gt</td>\n",
       "      <td>R</td>\n",
       "    </tr>\n",
       "    <tr>\n",
       "      <th>...</th>\n",
       "      <td>...</td>\n",
       "      <td>...</td>\n",
       "    </tr>\n",
       "    <tr>\n",
       "      <th>612</th>\n",
       "      <td>pepQ@151_ins_c</td>\n",
       "      <td>R</td>\n",
       "    </tr>\n",
       "    <tr>\n",
       "      <th>613</th>\n",
       "      <td>pepQ@151_ins_cg</td>\n",
       "      <td>R</td>\n",
       "    </tr>\n",
       "    <tr>\n",
       "      <th>614</th>\n",
       "      <td>pepQ@230_ins_g</td>\n",
       "      <td>R</td>\n",
       "    </tr>\n",
       "    <tr>\n",
       "      <th>616</th>\n",
       "      <td>pepQ@298_ins_c</td>\n",
       "      <td>R</td>\n",
       "    </tr>\n",
       "    <tr>\n",
       "      <th>617</th>\n",
       "      <td>pepQ@300_ins_a</td>\n",
       "      <td>R</td>\n",
       "    </tr>\n",
       "  </tbody>\n",
       "</table>\n",
       "<p>123 rows × 2 columns</p>\n",
       "</div>"
      ],
      "text/plain": [
       "                       MUTATION PHENOTYPE\n",
       "7              Rv0678@107_ins_g         R\n",
       "8              Rv0678@125_del_g         R\n",
       "10   Rv0678@128_del_tgctggtgtgt         R\n",
       "11     Rv0678@130_del_ctggtgtgt         R\n",
       "12            Rv0678@132_ins_gt         R\n",
       "..                          ...       ...\n",
       "612              pepQ@151_ins_c         R\n",
       "613             pepQ@151_ins_cg         R\n",
       "614              pepQ@230_ins_g         R\n",
       "616              pepQ@298_ins_c         R\n",
       "617              pepQ@300_ins_a         R\n",
       "\n",
       "[123 rows x 2 columns]"
      ]
     },
     "execution_count": 86,
     "metadata": {},
     "output_type": "execute_result"
    }
   ],
   "source": [
    "Q = (\n",
    "    pd.DataFrame.from_dict(catalogue_25.return_catalogue(), orient=\"index\")\n",
    "    .reset_index(0)\n",
    "    .rename(columns={\"index\": \"MUTATION\"})\n",
    ")\n",
    "Q[Q.PHENOTYPE == \"R\"]"
   ]
  },
  {
   "cell_type": "code",
   "execution_count": 10,
   "metadata": {},
   "outputs": [
    {
     "name": "stdout",
     "output_type": "stream",
     "text": [
      "[[  401   155    21]\n",
      " [  142 13418    81]]\n",
      "Catalogue coverage of isolates: 0.9928259952173302\n",
      "Sensitivity: 0.7212230215827338\n",
      "Specificity: 0.9895280235988201\n"
     ]
    },
    {
     "data": {
      "text/plain": [
       "(array([0.5, 1.5]), [Text(0, 0.5, 'R'), Text(0, 1.5, 'S')])"
      ]
     },
     "execution_count": 10,
     "metadata": {},
     "output_type": "execute_result"
    },
    {
     "data": {
      "image/png": "[encoded data removed]",
      "text/plain": [
       "<Figure size 800x600 with 1 Axes>"
      ]
     },
     "metadata": {},
     "output_type": "display_data"
    }
   ],
   "source": [
    "#Predict with catalogue\n",
    "cm = piezo_predict(all_cat, \"./catalogues/catalogue_FRS_25.csv\", \"BDQ\")[\"cm\"]\n",
    "df_cm = pd.DataFrame(cm, index=[\"R\", \"S\"], columns=[\"R\", \"S\", \"U\"])\n",
    "plt.figure(figsize=(8, 6))\n",
    "sns.set_context(\"talk\")\n",
    "sns.heatmap(df_cm, annot=True, cbar=False, fmt=\"g\", cmap=\"Greens\")\n",
    "plt.xticks(fontsize=12)\n",
    "plt.yticks(fontsize=12)"
   ]
  },
  {
   "cell_type": "code",
   "execution_count": null,
   "metadata": {},
   "outputs": [],
   "source": []
  },
  {
   "cell_type": "markdown",
   "metadata": {},
   "source": [
    "### Assume Heterogeneity and build at FRS 0.1"
   ]
  },
  {
   "cell_type": "code",
   "execution_count": 11,
   "metadata": {},
   "outputs": [
    {
     "name": "stdout",
     "output_type": "stream",
     "text": [
      "[[  405   156    19]\n",
      " [  141 13530    74]]\n",
      "Catalogue coverage of isolates: 0.9935078534031414\n",
      "Sensitivity: 0.7219251336898396\n",
      "Specificity: 0.9896861970594689\n"
     ]
    },
    {
     "data": {
      "text/plain": [
       "(array([0.5, 1.5]), [Text(0, 0.5, 'R'), Text(0, 1.5, 'S')])"
      ]
     },
     "execution_count": 11,
     "metadata": {},
     "output_type": "execute_result"
    },
    {
     "data": {
      "image/png": "[encoded data removed]",
      "text/plain": [
       "<Figure size 800x600 with 1 Axes>"
      ]
     },
     "metadata": {},
     "output_type": "display_data"
    }
   ],
   "source": [
    "# Build catalogue\n",
    "catalogue_01 = BuildCatalogue(samples, cat_mutations, 0.10)\n",
    "catalogue_01_df = (\n",
    "    pd.DataFrame.from_dict(catalogue_01.return_catalogue(), orient=\"index\")\n",
    "    .reset_index(0)\n",
    "    .rename(columns={\"index\": \"MUTATION\"})\n",
    ")\n",
    "\n",
    "#save catalogue file\n",
    "catalogue_01.return_piezo(\n",
    "    \"NC_000962.3\", \"BDQ-FRS-10-2023.11\", \"1.1\", \"BDQ\", piezo_wildcards\n",
    ").to_csv(\"./catalogues/catalogue_FRS_10.csv\", index=False)\n",
    "\n",
    "# Predict with catalogue\n",
    "cm = piezo_predict(all, \"./catalogues/catalogue_FRS_10.csv\", \"BDQ\")[\"cm\"]\n",
    "df_cm = pd.DataFrame(cm, index=[\"R\", \"S\"], columns=[\"R\", \"S\", \"U\"])\n",
    "plt.figure(figsize=(8, 6))\n",
    "sns.heatmap(df_cm, annot=True, cbar=False, fmt=\"g\", cmap=\"Greens\")\n",
    "plt.xticks(fontsize=12)\n",
    "plt.yticks(fontsize=12)"
   ]
  },
  {
   "cell_type": "markdown",
   "metadata": {},
   "source": [
    "Alice used 2 reads - but used variants that they were very confident wtr to resistance, so could use a very low FRS. We are being a little more conservative (particularly with respect to pseudo-heursitc, were only one instance will be allowed in). But could go lower iwth a bigger better dataset.\n",
    "\n"
   ]
  },
  {
   "cell_type": "code",
   "execution_count": 12,
   "metadata": {},
   "outputs": [
    {
     "data": {
      "image/png": "[encoded data removed]",
      "text/plain": [
       "<Figure size 1300x400 with 1 Axes>"
      ]
     },
     "metadata": {},
     "output_type": "display_data"
    }
   ],
   "source": [
    "Helpers.plot_catalogue_counts_h(all, catalogue_01_df)"
   ]
  },
  {
   "cell_type": "code",
   "execution_count": 13,
   "metadata": {},
   "outputs": [],
   "source": [
    "# Record false positives\n",
    "predicted_R = all[\n",
    "    all.GENE_MUT.isin(catalogue_01_df[catalogue_01_df.PHENOTYPE == \"R\"].MUTATION)\n",
    "].UNIQUEID.unique()\n",
    "fp_df = all[(all.UNIQUEID.isin(predicted_R)) & (all.PHENOTYPE == \"S\")]\n",
    "fp_ids = fp_df.UNIQUEID.unique()"
   ]
  },
  {
   "cell_type": "markdown",
   "metadata": {},
   "source": [
    "### Plot sensitivty and specificity at varying FRS thresholds"
   ]
  },
  {
   "cell_type": "code",
   "execution_count": 14,
   "metadata": {},
   "outputs": [
    {
     "name": "stdout",
     "output_type": "stream",
     "text": [
      "[[  405   156    19]\n",
      " [  141 13530    74]]\n",
      "Catalogue coverage of isolates: 0.9935078534031414\n",
      "Sensitivity: 0.7219251336898396\n",
      "Specificity: 0.9896861970594689\n",
      "[[  408   154    18]\n",
      " [  143 13526    76]]\n",
      "Catalogue coverage of isolates: 0.9934380453752182\n",
      "Sensitivity: 0.7259786476868327\n",
      "Specificity: 0.9895383714975492\n",
      "[[  409   154    17]\n",
      " [  144 13529    72]]\n",
      "Catalogue coverage of isolates: 0.9937870855148342\n",
      "Sensitivity: 0.7264653641207816\n",
      "Specificity: 0.9894682951802823\n",
      "[[  405   156    19]\n",
      " [  143 13526    76]]\n",
      "Catalogue coverage of isolates: 0.993368237347295\n",
      "Sensitivity: 0.7219251336898396\n",
      "Specificity: 0.9895383714975492\n",
      "[[  405   156    19]\n",
      " [  143 13524    78]]\n",
      "Catalogue coverage of isolates: 0.9932286212914485\n",
      "Sensitivity: 0.7219251336898396\n",
      "Specificity: 0.9895368405648642\n",
      "[[  402   158    20]\n",
      " [  142 13526    77]]\n",
      "Catalogue coverage of isolates: 0.9932286212914485\n",
      "Sensitivity: 0.7178571428571429\n",
      "Specificity: 0.9896107696810067\n",
      "[[  387   171    22]\n",
      " [  131 13535    79]]\n",
      "Catalogue coverage of isolates: 0.9929493891797557\n",
      "Sensitivity: 0.6935483870967742\n",
      "Specificity: 0.9904141665447095\n",
      "[[  403   158    19]\n",
      " [  142 13522    81]]\n",
      "Catalogue coverage of isolates: 0.9930191972076788\n",
      "Sensitivity: 0.7183600713012478\n",
      "Specificity: 0.9896077283372365\n",
      "[[  402   157    21]\n",
      " [  142 13520    83]]\n",
      "Catalogue coverage of isolates: 0.992739965095986\n",
      "Sensitivity: 0.7191413237924866\n",
      "Specificity: 0.9896062069975113\n",
      "[[  406   156    18]\n",
      " [  143 13516    86]]\n",
      "Catalogue coverage of isolates: 0.992739965095986\n",
      "Sensitivity: 0.7224199288256228\n",
      "Specificity: 0.9895307123508309\n",
      "[[  406   156    18]\n",
      " [  143 13511    91]]\n",
      "Catalogue coverage of isolates: 0.9923909249563699\n",
      "Sensitivity: 0.7224199288256228\n",
      "Specificity: 0.9895268785703824\n",
      "[[  406   156    18]\n",
      " [  143 13511    91]]\n",
      "Catalogue coverage of isolates: 0.9923909249563699\n",
      "Sensitivity: 0.7224199288256228\n",
      "Specificity: 0.9895268785703824\n",
      "[[  405   156    19]\n",
      " [  143 13504    98]]\n",
      "Catalogue coverage of isolates: 0.9918324607329843\n",
      "Sensitivity: 0.7219251336898396\n",
      "Specificity: 0.9895215065582179\n",
      "[[  405   156    19]\n",
      " [  143 13501   101]]\n",
      "Catalogue coverage of isolates: 0.9916230366492147\n",
      "Sensitivity: 0.7219251336898396\n",
      "Specificity: 0.9895192025798886\n",
      "[[  412   148    20]\n",
      " [  144 13484   117]]\n",
      "Catalogue coverage of isolates: 0.9904363001745201\n",
      "Sensitivity: 0.7357142857142858\n",
      "Specificity: 0.9894335192251248\n",
      "[[  410   148    22]\n",
      " [  143 13480   122]]\n",
      "Catalogue coverage of isolates: 0.9899476439790575\n",
      "Sensitivity: 0.7347670250896058\n",
      "Specificity: 0.9895030463187257\n",
      "[[  412   147    21]\n",
      " [  143 13478   124]]\n",
      "Catalogue coverage of isolates: 0.9898778359511344\n",
      "Sensitivity: 0.7370304114490162\n",
      "Specificity: 0.9895015050289994\n",
      "[[  410   147    23]\n",
      " [  143 13477   125]]\n",
      "Catalogue coverage of isolates: 0.9896684118673648\n",
      "Sensitivity: 0.7360861759425493\n",
      "Specificity: 0.9895007342143906\n",
      "[[  409   147    24]\n",
      " [  142 13477   126]]\n",
      "Catalogue coverage of isolates: 0.9895287958115183\n",
      "Sensitivity: 0.7356115107913669\n",
      "Specificity: 0.9895733901167486\n",
      "[[  403   152    25]\n",
      " [  142 13475   128]]\n",
      "Catalogue coverage of isolates: 0.9893193717277486\n",
      "Sensitivity: 0.7261261261261261\n",
      "Specificity: 0.9895718587060293\n",
      "[[  433   124    23]\n",
      " [  198 13417   130]]\n",
      "Catalogue coverage of isolates: 0.9893193717277486\n",
      "Sensitivity: 0.77737881508079\n",
      "Specificity: 0.9854572163055454\n",
      "[[  427   129    24]\n",
      " [  197 13418   130]]\n",
      "Catalogue coverage of isolates: 0.9892495636998255\n",
      "Sensitivity: 0.7679856115107914\n",
      "Specificity: 0.9855306647080426\n",
      "[[  431   124    25]\n",
      " [  197 13417   131]]\n",
      "Catalogue coverage of isolates: 0.9891099476439791\n",
      "Sensitivity: 0.7765765765765765\n",
      "Specificity: 0.9855296018804173\n",
      "[[  431   124    25]\n",
      " [  193 13420   132]]\n",
      "Catalogue coverage of isolates: 0.9890401396160559\n",
      "Sensitivity: 0.7765765765765765\n",
      "Specificity: 0.9858223756703152\n",
      "[[  430   124    26]\n",
      " [  193 13419   133]]\n",
      "Catalogue coverage of isolates: 0.9889005235602094\n",
      "Sensitivity: 0.776173285198556\n",
      "Specificity: 0.9858213341169556\n",
      "[[  426   126    28]\n",
      " [  192 13413   140]]\n",
      "Catalogue coverage of isolates: 0.9882722513089005\n",
      "Sensitivity: 0.7717391304347826\n",
      "Specificity: 0.9858875413450937\n",
      "[[  426   126    28]\n",
      " [  192 13413   140]]\n",
      "Catalogue coverage of isolates: 0.9882722513089005\n",
      "Sensitivity: 0.7717391304347826\n",
      "Specificity: 0.9858875413450937\n",
      "[[  421   126    33]\n",
      " [  191 13413   141]]\n",
      "Catalogue coverage of isolates: 0.9878534031413613\n",
      "Sensitivity: 0.7696526508226691\n",
      "Specificity: 0.9859600117612467\n",
      "[[    0     3   577]\n",
      " [    0   109 13636]]\n",
      "Catalogue coverage of isolates: 0.007818499127399651\n",
      "Sensitivity: 0.0\n",
      "Specificity: 1.0\n",
      "[[    0     3   577]\n",
      " [    0   107 13638]]\n",
      "Catalogue coverage of isolates: 0.007678883071553229\n",
      "Sensitivity: 0.0\n",
      "Specificity: 1.0\n",
      "[[    0     3   577]\n",
      " [    0   107 13638]]\n",
      "Catalogue coverage of isolates: 0.007678883071553229\n",
      "Sensitivity: 0.0\n",
      "Specificity: 1.0\n",
      "[[    0     3   577]\n",
      " [    0   107 13638]]\n",
      "Catalogue coverage of isolates: 0.007678883071553229\n",
      "Sensitivity: 0.0\n",
      "Specificity: 1.0\n",
      "[[    0     3   577]\n",
      " [    0   107 13638]]\n",
      "Catalogue coverage of isolates: 0.007678883071553229\n",
      "Sensitivity: 0.0\n",
      "Specificity: 1.0\n",
      "[[    0     3   577]\n",
      " [    0   107 13638]]\n",
      "Catalogue coverage of isolates: 0.007678883071553229\n",
      "Sensitivity: 0.0\n",
      "Specificity: 1.0\n",
      "[[    0     3   577]\n",
      " [    0   107 13638]]\n",
      "Catalogue coverage of isolates: 0.007678883071553229\n",
      "Sensitivity: 0.0\n",
      "Specificity: 1.0\n",
      "[[    0     3   577]\n",
      " [    0   107 13638]]\n",
      "Catalogue coverage of isolates: 0.007678883071553229\n",
      "Sensitivity: 0.0\n",
      "Specificity: 1.0\n",
      "[[    0     3   577]\n",
      " [    0   107 13638]]\n",
      "Catalogue coverage of isolates: 0.007678883071553229\n",
      "Sensitivity: 0.0\n",
      "Specificity: 1.0\n",
      "[[    0     3   577]\n",
      " [    0   107 13638]]\n",
      "Catalogue coverage of isolates: 0.007678883071553229\n",
      "Sensitivity: 0.0\n",
      "Specificity: 1.0\n",
      "[[    0     3   577]\n",
      " [    0   107 13638]]\n",
      "Catalogue coverage of isolates: 0.007678883071553229\n",
      "Sensitivity: 0.0\n",
      "Specificity: 1.0\n",
      "[[    0     3   577]\n",
      " [    0   107 13638]]\n",
      "Catalogue coverage of isolates: 0.007678883071553229\n",
      "Sensitivity: 0.0\n",
      "Specificity: 1.0\n",
      "[[    0     3   577]\n",
      " [    0   107 13638]]\n",
      "Catalogue coverage of isolates: 0.007678883071553229\n",
      "Sensitivity: 0.0\n",
      "Specificity: 1.0\n",
      "[[    0     3   577]\n",
      " [    0   107 13638]]\n",
      "Catalogue coverage of isolates: 0.007678883071553229\n",
      "Sensitivity: 0.0\n",
      "Specificity: 1.0\n",
      "[[    0     3   577]\n",
      " [    0   107 13638]]\n",
      "Catalogue coverage of isolates: 0.007678883071553229\n",
      "Sensitivity: 0.0\n",
      "Specificity: 1.0\n",
      "[[    0     3   577]\n",
      " [    0   107 13638]]\n",
      "Catalogue coverage of isolates: 0.007678883071553229\n",
      "Sensitivity: 0.0\n",
      "Specificity: 1.0\n",
      "[[    0     3   577]\n",
      " [    0   107 13638]]\n",
      "Catalogue coverage of isolates: 0.007678883071553229\n",
      "Sensitivity: 0.0\n",
      "Specificity: 1.0\n"
     ]
    }
   ],
   "source": [
    "sns.set_context(\"notebook\")\n",
    "\n",
    "sens, spec, cov = [], [], []\n",
    "FRS = []\n",
    "for i in np.arange(0.1, 1, 0.02):\n",
    "    #Build and save catalogue\n",
    "    BuildCatalogue(samples, cat_mutations, i).return_piezo(\n",
    "        \"NC_000962.3\", f\"BDQ-FRS-{i*100}-2023.11\", \"1.1\", \"BDQ\", piezo_wildcards\n",
    "    ).to_csv(f\"./catalogues/catalogue_FRS_{i*100}.csv\", index=False)\n",
    "    #predict with catalogue\n",
    "    cm = piezo_predict(all, f\"./catalogues/catalogue_FRS_{i*100}.csv\", \"BDQ\", Print=False)[\"cm\"]\n",
    "    sens.append(cm[0][0] / (cm[0][0] + cm[0][1]))\n",
    "    spec.append(cm[1][1] / (cm[1][1] + cm[1][0]))\n",
    "    cov.append((len(samples) - cm[0][2] - cm[1][2]) / len(samples))\n",
    "    FRS.append(i)\n",
    "\n",
    "data = pd.DataFrame(\n",
    "    {\"FRS\": FRS, \"Sensitivity\": sens, \"Specificity\": spec, \"Coverage\": cov}\n",
    ")"
   ]
  },
  {
   "cell_type": "code",
   "execution_count": 110,
   "metadata": {},
   "outputs": [
    {
     "data": {
      "image/png": "[encoded data removed]",
      "text/plain": [
       "<Figure size 1000x500 with 1 Axes>"
      ]
     },
     "metadata": {},
     "output_type": "display_data"
    }
   ],
   "source": [
    "# Create a line plot using seaborn\n",
    "plt.figure(figsize=(10, 5))\n",
    "sns.lineplot(x=\"FRS\", y=\"Sensitivity\", data=data, label=\"Sensitivity\", color=\"blue\")\n",
    "sns.lineplot(x=\"FRS\", y=\"Specificity\", data=data, label=\"Specificity\", color=\"red\")\n",
    "sns.lineplot(x=\"FRS\", y=\"Coverage\", data=data, label=\"Isolate Coverage\", color=\"green\")\n",
    "\n",
    "yticks = [\n",
    "    0,\n",
    "    0.1,\n",
    "    0.2,\n",
    "    0.3,\n",
    "    0.4,\n",
    "    0.5,\n",
    "    0.6,\n",
    "    0.7,\n",
    "    0.8,\n",
    "    0.9,\n",
    "    1,\n",
    "]  # Your custom y-tick values\n",
    "xticks = [\n",
    "    0.1,\n",
    "    0.2,\n",
    "    0.3,\n",
    "    0.4,\n",
    "    0.5,\n",
    "    0.6,\n",
    "    0.7,\n",
    "    0.8,\n",
    "    0.9,\n",
    "    1.0,\n",
    "    1.1,\n",
    "]  # Your custom y-tick values\n",
    "\n",
    "plt.yticks(yticks)\n",
    "plt.xticks(xticks)\n",
    "\n",
    "# Add labels and legend\n",
    "plt.xlabel(\"Fraction Read Support (FRS)\")\n",
    "plt.ylabel(\"Metric Value\")\n",
    "plt.legend(loc=\"best\")\n",
    "\n",
    "# Add final values at the end of each line\n",
    "for line in plt.gca().lines[:-1]:\n",
    "    x_data = line.get_xdata()\n",
    "    y_data = line.get_ydata()\n",
    "    final_value = y_data[-1]\n",
    "    plt.annotate(\n",
    "        f\"~{final_value:.2f}\",\n",
    "        (x_data[-1], final_value),\n",
    "        textcoords=\"offset points\",\n",
    "        xytext=(25, -3),\n",
    "        ha=\"center\",\n",
    "    )\n",
    "\n",
    "    plt.axvline(x=0.75, color=\"gray\", linestyle=\"--\", label=\"FRS=0.75\")\n",
    "\n",
    "plt.axvline(x=0.75, color=\"gray\", linestyle=\"--\", label=\"FRS=0.75\")\n",
    "plt.text(0.76, 0.3, \"WHO build threshold\", color=\"gray\", ha=\"left\", va=\"top\")\n",
    "\n",
    "plt.axvline(x=0.25, color=\"gray\", linestyle=\"--\", label=\"FRS=0.25\")\n",
    "plt.text(0.26, 0.3, \"WHO evaluation threshold\", color=\"gray\", ha=\"left\", va=\"top\")\n",
    "\n",
    "plt.axvline(x=0.1, color=\"gray\", linestyle=\"--\", label=\"FRS=0.1\")\n",
    "plt.text(0.11, 0.3, \"our\", color=\"gray\", ha=\"left\", va=\"top\")\n",
    "plt.text(0.11, 0.24, \"threshold\", color=\"gray\", ha=\"left\", va=\"top\")\n",
    "\n",
    "\n",
    "# Show the plot\n",
    "plt.show()"
   ]
  },
  {
   "cell_type": "code",
   "execution_count": null,
   "metadata": {},
   "outputs": [],
   "source": []
  },
  {
   "cell_type": "code",
   "execution_count": 16,
   "metadata": {},
   "outputs": [
    {
     "ename": "AttributeError",
     "evalue": "'DataFrame' object has no attribute 'phenotype'",
     "output_type": "error",
     "traceback": [
      "\u001b[0;31m---------------------------------------------------------------------------\u001b[0m",
      "\u001b[0;31mAttributeError\u001b[0m                            Traceback (most recent call last)",
      "\u001b[0;32m/var/folders/s5/pshvb2093574r5hqnwcy6klw0000gn/T/ipykernel_40668/4271145749.py\u001b[0m in \u001b[0;36m?\u001b[0;34m()\u001b[0m\n\u001b[1;32m     16\u001b[0m         \u001b[0mpd\u001b[0m\u001b[0;34m.\u001b[0m\u001b[0mDataFrame\u001b[0m\u001b[0;34m.\u001b[0m\u001b[0mfrom_dict\u001b[0m\u001b[0;34m(\u001b[0m\u001b[0mcatalogue\u001b[0m\u001b[0;34m,\u001b[0m \u001b[0morient\u001b[0m\u001b[0;34m=\u001b[0m\u001b[0;34m\"index\"\u001b[0m\u001b[0;34m)\u001b[0m\u001b[0;34m\u001b[0m\u001b[0;34m\u001b[0m\u001b[0m\n\u001b[1;32m     17\u001b[0m         \u001b[0;34m.\u001b[0m\u001b[0mreset_index\u001b[0m\u001b[0;34m(\u001b[0m\u001b[0;36m0\u001b[0m\u001b[0;34m)\u001b[0m\u001b[0;34m\u001b[0m\u001b[0;34m\u001b[0m\u001b[0m\n\u001b[1;32m     18\u001b[0m         \u001b[0;34m.\u001b[0m\u001b[0mrename\u001b[0m\u001b[0;34m(\u001b[0m\u001b[0mcolumns\u001b[0m\u001b[0;34m=\u001b[0m\u001b[0;34m{\u001b[0m\u001b[0;34m\"index\"\u001b[0m\u001b[0;34m:\u001b[0m \u001b[0;34m\"GENE_MUT\"\u001b[0m\u001b[0;34m,\u001b[0m \u001b[0;36m0\u001b[0m\u001b[0;34m:\u001b[0m \u001b[0;34m\"phenotype\"\u001b[0m\u001b[0;34m}\u001b[0m\u001b[0;34m)\u001b[0m\u001b[0;34m\u001b[0m\u001b[0;34m\u001b[0m\u001b[0m\n\u001b[1;32m     19\u001b[0m     )\n\u001b[0;32m---> 20\u001b[0;31m     \u001b[0mcm\u001b[0m \u001b[0;34m=\u001b[0m \u001b[0mpredict\u001b[0m\u001b[0;34m(\u001b[0m\u001b[0mall\u001b[0m\u001b[0;34m,\u001b[0m \u001b[0mcatalogue\u001b[0m\u001b[0;34m,\u001b[0m \u001b[0mPrint\u001b[0m\u001b[0;34m=\u001b[0m\u001b[0;32mFalse\u001b[0m\u001b[0;34m)\u001b[0m\u001b[0;34m[\u001b[0m\u001b[0;34m\"cm\"\u001b[0m\u001b[0;34m]\u001b[0m\u001b[0;34m\u001b[0m\u001b[0;34m\u001b[0m\u001b[0m\n\u001b[0m\u001b[1;32m     21\u001b[0m     \u001b[0msens\u001b[0m\u001b[0;34m.\u001b[0m\u001b[0mappend\u001b[0m\u001b[0;34m(\u001b[0m\u001b[0mcm\u001b[0m\u001b[0;34m[\u001b[0m\u001b[0;36m0\u001b[0m\u001b[0;34m]\u001b[0m\u001b[0;34m[\u001b[0m\u001b[0;36m0\u001b[0m\u001b[0;34m]\u001b[0m \u001b[0;34m/\u001b[0m \u001b[0;34m(\u001b[0m\u001b[0mcm\u001b[0m\u001b[0;34m[\u001b[0m\u001b[0;36m0\u001b[0m\u001b[0;34m]\u001b[0m\u001b[0;34m[\u001b[0m\u001b[0;36m0\u001b[0m\u001b[0;34m]\u001b[0m \u001b[0;34m+\u001b[0m \u001b[0mcm\u001b[0m\u001b[0;34m[\u001b[0m\u001b[0;36m0\u001b[0m\u001b[0;34m]\u001b[0m\u001b[0;34m[\u001b[0m\u001b[0;36m1\u001b[0m\u001b[0;34m]\u001b[0m\u001b[0;34m)\u001b[0m\u001b[0;34m)\u001b[0m\u001b[0;34m\u001b[0m\u001b[0;34m\u001b[0m\u001b[0m\n\u001b[1;32m     22\u001b[0m     \u001b[0mspec\u001b[0m\u001b[0;34m.\u001b[0m\u001b[0mappend\u001b[0m\u001b[0;34m(\u001b[0m\u001b[0mcm\u001b[0m\u001b[0;34m[\u001b[0m\u001b[0;36m1\u001b[0m\u001b[0;34m]\u001b[0m\u001b[0;34m[\u001b[0m\u001b[0;36m1\u001b[0m\u001b[0;34m]\u001b[0m \u001b[0;34m/\u001b[0m \u001b[0;34m(\u001b[0m\u001b[0mcm\u001b[0m\u001b[0;34m[\u001b[0m\u001b[0;36m1\u001b[0m\u001b[0;34m]\u001b[0m\u001b[0;34m[\u001b[0m\u001b[0;36m1\u001b[0m\u001b[0;34m]\u001b[0m \u001b[0;34m+\u001b[0m \u001b[0mcm\u001b[0m\u001b[0;34m[\u001b[0m\u001b[0;36m1\u001b[0m\u001b[0;34m]\u001b[0m\u001b[0;34m[\u001b[0m\u001b[0;36m0\u001b[0m\u001b[0;34m]\u001b[0m\u001b[0;34m)\u001b[0m\u001b[0;34m)\u001b[0m\u001b[0;34m\u001b[0m\u001b[0;34m\u001b[0m\u001b[0m\n\u001b[1;32m     23\u001b[0m     \u001b[0mcov\u001b[0m\u001b[0;34m.\u001b[0m\u001b[0mappend\u001b[0m\u001b[0;34m(\u001b[0m\u001b[0;34m(\u001b[0m\u001b[0mlen\u001b[0m\u001b[0;34m(\u001b[0m\u001b[0msamples\u001b[0m\u001b[0;34m)\u001b[0m \u001b[0;34m-\u001b[0m \u001b[0mcm\u001b[0m\u001b[0;34m[\u001b[0m\u001b[0;36m0\u001b[0m\u001b[0;34m]\u001b[0m\u001b[0;34m[\u001b[0m\u001b[0;36m2\u001b[0m\u001b[0;34m]\u001b[0m \u001b[0;34m-\u001b[0m \u001b[0mcm\u001b[0m\u001b[0;34m[\u001b[0m\u001b[0;36m1\u001b[0m\u001b[0;34m]\u001b[0m\u001b[0;34m[\u001b[0m\u001b[0;36m2\u001b[0m\u001b[0;34m]\u001b[0m\u001b[0;34m)\u001b[0m \u001b[0;34m/\u001b[0m \u001b[0mlen\u001b[0m\u001b[0;34m(\u001b[0m\u001b[0msamples\u001b[0m\u001b[0;34m)\u001b[0m\u001b[0;34m)\u001b[0m\u001b[0;34m\u001b[0m\u001b[0;34m\u001b[0m\u001b[0m\n",
      "\u001b[0;32m~/Documents/Oxford/PhD/Projects/BDQ_analysis/BDQ_analysis/notebooks/paper/../protocols/Predict.py\u001b[0m in \u001b[0;36m?\u001b[0;34m(iso_df, catalogue, U_to_R, Print)\u001b[0m\n\u001b[1;32m     19\u001b[0m         \u001b[0mmut_predictions\u001b[0m \u001b[0;34m=\u001b[0m \u001b[0;34m[\u001b[0m\u001b[0;34m]\u001b[0m\u001b[0;34m\u001b[0m\u001b[0;34m\u001b[0m\u001b[0m\n\u001b[1;32m     20\u001b[0m         \u001b[0;32mfor\u001b[0m \u001b[0mvar\u001b[0m \u001b[0;32min\u001b[0m \u001b[0mdf\u001b[0m\u001b[0;34m.\u001b[0m\u001b[0mindex\u001b[0m\u001b[0;34m:\u001b[0m\u001b[0;34m\u001b[0m\u001b[0;34m\u001b[0m\u001b[0m\n\u001b[1;32m     21\u001b[0m             mut_prediction = catalogue[\n\u001b[1;32m     22\u001b[0m                 \u001b[0mcatalogue\u001b[0m\u001b[0;34m.\u001b[0m\u001b[0mGENE_MUT\u001b[0m \u001b[0;34m==\u001b[0m \u001b[0mdf\u001b[0m\u001b[0;34m[\u001b[0m\u001b[0;34m\"GENE_MUT\"\u001b[0m\u001b[0;34m]\u001b[0m\u001b[0;34m[\u001b[0m\u001b[0mvar\u001b[0m\u001b[0;34m]\u001b[0m\u001b[0;34m\u001b[0m\u001b[0;34m\u001b[0m\u001b[0m\n\u001b[0;32m---> 23\u001b[0;31m             ].phenotype\n\u001b[0m\u001b[1;32m     24\u001b[0m             \u001b[0;31m# if mutation isn't in catalogue, predict as U\u001b[0m\u001b[0;34m\u001b[0m\u001b[0;34m\u001b[0m\u001b[0m\n\u001b[1;32m     25\u001b[0m             \u001b[0;32mif\u001b[0m \u001b[0mlen\u001b[0m\u001b[0;34m(\u001b[0m\u001b[0mmut_prediction\u001b[0m\u001b[0;34m)\u001b[0m \u001b[0;34m>\u001b[0m \u001b[0;36m0\u001b[0m\u001b[0;34m:\u001b[0m\u001b[0;34m\u001b[0m\u001b[0;34m\u001b[0m\u001b[0m\n\u001b[1;32m     26\u001b[0m                 \u001b[0mmut_predictions\u001b[0m\u001b[0;34m.\u001b[0m\u001b[0mappend\u001b[0m\u001b[0;34m(\u001b[0m\u001b[0mmut_prediction\u001b[0m\u001b[0;34m.\u001b[0m\u001b[0mtolist\u001b[0m\u001b[0;34m(\u001b[0m\u001b[0;34m)\u001b[0m\u001b[0;34m[\u001b[0m\u001b[0;36m0\u001b[0m\u001b[0;34m]\u001b[0m\u001b[0;34m)\u001b[0m\u001b[0;34m\u001b[0m\u001b[0;34m\u001b[0m\u001b[0m\n",
      "\u001b[0;32m~/miniforge3/envs/BDQ_catalogue_builder/lib/python3.11/site-packages/pandas/core/generic.py\u001b[0m in \u001b[0;36m?\u001b[0;34m(self, name)\u001b[0m\n\u001b[1;32m   5898\u001b[0m             \u001b[0;32mand\u001b[0m \u001b[0mname\u001b[0m \u001b[0;32mnot\u001b[0m \u001b[0;32min\u001b[0m \u001b[0mself\u001b[0m\u001b[0;34m.\u001b[0m\u001b[0m_accessors\u001b[0m\u001b[0;34m\u001b[0m\u001b[0;34m\u001b[0m\u001b[0m\n\u001b[1;32m   5899\u001b[0m             \u001b[0;32mand\u001b[0m \u001b[0mself\u001b[0m\u001b[0;34m.\u001b[0m\u001b[0m_info_axis\u001b[0m\u001b[0;34m.\u001b[0m\u001b[0m_can_hold_identifiers_and_holds_name\u001b[0m\u001b[0;34m(\u001b[0m\u001b[0mname\u001b[0m\u001b[0;34m)\u001b[0m\u001b[0;34m\u001b[0m\u001b[0;34m\u001b[0m\u001b[0m\n\u001b[1;32m   5900\u001b[0m         ):\n\u001b[1;32m   5901\u001b[0m             \u001b[0;32mreturn\u001b[0m \u001b[0mself\u001b[0m\u001b[0;34m[\u001b[0m\u001b[0mname\u001b[0m\u001b[0;34m]\u001b[0m\u001b[0;34m\u001b[0m\u001b[0;34m\u001b[0m\u001b[0m\n\u001b[0;32m-> 5902\u001b[0;31m         \u001b[0;32mreturn\u001b[0m \u001b[0mobject\u001b[0m\u001b[0;34m.\u001b[0m\u001b[0m__getattribute__\u001b[0m\u001b[0;34m(\u001b[0m\u001b[0mself\u001b[0m\u001b[0;34m,\u001b[0m \u001b[0mname\u001b[0m\u001b[0;34m)\u001b[0m\u001b[0;34m\u001b[0m\u001b[0;34m\u001b[0m\u001b[0m\n\u001b[0m",
      "\u001b[0;31mAttributeError\u001b[0m: 'DataFrame' object has no attribute 'phenotype'"
     ]
    }
   ],
   "source": [
    "# Plot as bar chart\n",
    "\n",
    "import numpy as np\n",
    "import pandas as pd\n",
    "import seaborn as sns\n",
    "import matplotlib.pyplot as plt\n",
    "\n",
    "# Your code to collect data for Sensitivity, Specificity, and Coverage\n",
    "sens, spec, cov = [], [], []\n",
    "FRS = []\n",
    "\n",
    "# Populate sens, spec, cov, and FRS with data\n",
    "for i in np.arange(0.1, 1, 0.05):\n",
    "    catalogue = BuildCatalogue(samples, mutations, i).return_catalogue()\n",
    "    catalogue = (\n",
    "        pd.DataFrame.from_dict(catalogue, orient=\"index\")\n",
    "        .reset_index(0)\n",
    "        .rename(columns={\"index\": \"GENE_MUT\", 0: \"phenotype\"})\n",
    "    )\n",
    "    cm = predict(all, catalogue, Print=False)[\"cm\"]\n",
    "    sens.append(cm[0][0] / (cm[0][0] + cm[0][1]))\n",
    "    spec.append(cm[1][1] / (cm[1][1] + cm[1][0]))\n",
    "    cov.append((len(samples) - cm[0][2] - cm[1][2]) / len(samples))\n",
    "    FRS.append(i)\n",
    "\n",
    "data = pd.DataFrame(\n",
    "    {\"FRS\": FRS, \"Sensitivity\": sens, \"Specificity\": spec, \"Coverage\": cov}\n",
    ")\n",
    "\n",
    "# Create subplots for the three metrics side by side\n",
    "fig, axes = plt.subplots(1, 3, figsize=(17, 5))\n",
    "\n",
    "# Create bar plots for Sensitivity, Specificity, and Coverage\n",
    "sns.barplot(x=\"FRS\", y=\"Sensitivity\", data=data, ax=axes[0], color=\"blue\")\n",
    "sns.barplot(x=\"FRS\", y=\"Specificity\", data=data, ax=axes[1], color=\"red\")\n",
    "sns.barplot(x=\"FRS\", y=\"Coverage\", data=data, ax=axes[2], color=\"green\")\n",
    "\n",
    "yticks = [0, 0.1, 0.2, 0.3, 0.4, 0.5, 0.6, 0.7, 0.8, 0.9, 1]\n",
    "xticks = [i for i in range(19)]\n",
    "xtick_labels = [\n",
    "    \"0.1\",\n",
    "    \"\",\n",
    "    \"0.2\",\n",
    "    \"\",\n",
    "    \"0.3\",\n",
    "    \"\",\n",
    "    \"0.4\",\n",
    "    \"\",\n",
    "    \"0.5\",\n",
    "    \"\",\n",
    "    \"0.6\",\n",
    "    \"\",\n",
    "    \"0.7\",\n",
    "    \"\",\n",
    "    \"0.8\",\n",
    "    \"\",\n",
    "    \"0.9\",\n",
    "    \"\",\n",
    "    \"1.0\",\n",
    "]\n",
    "\n",
    "for ax in axes:\n",
    "    ax.set_yticks(yticks)\n",
    "    ax.set_xticks(xticks)\n",
    "    ax.set_xticklabels(xtick_labels)\n",
    "\n",
    "# Add labels and legends\n",
    "axes[0].set_xlabel(\"Fraction Read Support (FRS)\")\n",
    "axes[1].set_xlabel(\"Fraction Read Support (FRS)\")\n",
    "axes[2].set_xlabel(\"Fraction Read Support (FRS)\")\n",
    "axes[0].set_ylabel(\"Sensitivity\")\n",
    "axes[1].set_ylabel(\"Specificity\")\n",
    "axes[2].set_ylabel(\"Coverage\")\n",
    "\n",
    "# Show the subplots\n",
    "plt.show()"
   ]
  },
  {
   "cell_type": "code",
   "execution_count": null,
   "metadata": {},
   "outputs": [],
   "source": []
  },
  {
   "cell_type": "markdown",
   "metadata": {},
   "source": [
    "### Cross validation at FRS=0.1, and 0.9 (supplementary figures)"
   ]
  },
  {
   "cell_type": "markdown",
   "metadata": {},
   "source": [
    "FRS = 0.90"
   ]
  },
  {
   "cell_type": "code",
   "execution_count": 17,
   "metadata": {},
   "outputs": [
    {
     "name": "stdout",
     "output_type": "stream",
     "text": [
      "[[   0    0  116]\n",
      " [   0   19 2730]]\n",
      "Catalogue coverage of isolates: 0.006631762652705061\n",
      "Sensitivity: nan\n",
      "Specificity: 1.0\n",
      "[[  72   22   23]\n",
      " [  42 2600  106]]\n",
      "Catalogue coverage of isolates: 0.9549738219895288\n",
      "Sensitivity: 0.7659574468085106\n",
      "Specificity: 0.9841029523088569\n",
      "[[   0    1  105]\n",
      " [   0   23 2736]]\n",
      "Catalogue coverage of isolates: 0.008376963350785341\n",
      "Sensitivity: 0.0\n",
      "Specificity: 1.0\n",
      "[[   0    1  126]\n",
      " [   0   20 2718]]\n",
      "Catalogue coverage of isolates: 0.007329842931937173\n",
      "Sensitivity: 0.0\n",
      "Specificity: 1.0\n",
      "[[   0    1  119]\n",
      " [   0   21 2724]]\n",
      "Catalogue coverage of isolates: 0.007678883071553229\n",
      "Sensitivity: 0.0\n",
      "Specificity: 1.0\n",
      "isolate_cov (0.19699825479930191, 0.3789882014915321)\n",
      "specificity (0.9968205904617713, 0.006358819076457235)\n",
      "sensitivity (nan, nan)\n"
     ]
    },
    {
     "data": {
      "text/plain": [
       "(array([0.5, 1.5]), [Text(0, 0.5, 'R'), Text(0, 1.5, 'S')])"
      ]
     },
     "execution_count": 17,
     "metadata": {},
     "output_type": "execute_result"
    },
    {
     "data": {
      "image/png": "[encoded data removed]",
      "text/plain": [
       "<Figure size 800x500 with 1 Axes>"
      ]
     },
     "metadata": {},
     "output_type": "display_data"
    }
   ],
   "source": [
    "FRS = 0.9\n",
    "#Build and prediction steps are wrapped in piezo_predict_cv \n",
    "df_cm, labels = piezo_predict_cv(\n",
    "    all,\n",
    "    samples,\n",
    "    cat_mutations,\n",
    "    FRS,\n",
    "    5,\n",
    "    0.2,\n",
    "    7,\n",
    "    \"NC_000962.3\",\n",
    "    f\"BDQ-FRS-{FRS}-2023.11_cv\",\n",
    "    \"1.1\",\n",
    "    \"BDQ\",\n",
    "    piezo_wildcards,\n",
    ")\n",
    "\n",
    "sns.set_context(\"talk\")\n",
    "plt.figure(figsize=(8, 5))\n",
    "sns.heatmap(df_cm, annot=labels, cbar=False, cmap=\"Greens\", fmt=\"\")\n",
    "plt.xticks(fontsize=12)\n",
    "plt.yticks(fontsize=12)"
   ]
  },
  {
   "cell_type": "markdown",
   "metadata": {},
   "source": [
    "FRS = 0.10"
   ]
  },
  {
   "cell_type": "code",
   "execution_count": 18,
   "metadata": {},
   "outputs": [
    {
     "name": "stdout",
     "output_type": "stream",
     "text": [
      "[[  67   27   22]\n",
      " [  46 2600  103]]\n",
      "Catalogue coverage of isolates: 0.956369982547993\n",
      "Sensitivity: 0.7127659574468085\n",
      "Specificity: 0.982615268329554\n",
      "[[  57   39   21]\n",
      " [  33 2619   96]]\n",
      "Catalogue coverage of isolates: 0.9591623036649215\n",
      "Sensitivity: 0.59375\n",
      "Specificity: 0.9875565610859729\n",
      "[[  56   33   17]\n",
      " [  34 2625  100]]\n",
      "Catalogue coverage of isolates: 0.9591623036649215\n",
      "Sensitivity: 0.6292134831460674\n",
      "Specificity: 0.9872132380594209\n",
      "[[  72   24   31]\n",
      " [  37 2591  110]]\n",
      "Catalogue coverage of isolates: 0.9507853403141361\n",
      "Sensitivity: 0.75\n",
      "Specificity: 0.9859208523592086\n",
      "[[  58   39   23]\n",
      " [  33 2604  108]]\n",
      "Catalogue coverage of isolates: 0.9542757417102967\n",
      "Sensitivity: 0.5979381443298969\n",
      "Specificity: 0.987485779294653\n",
      "isolate_cov (0.9559511343804538, 0.0031714671390158824)\n",
      "specificity (0.9861583398257618, 0.0018676019085160074)\n",
      "sensitivity (0.6567335169845546, 0.06327628743540761)\n"
     ]
    },
    {
     "data": {
      "text/plain": [
       "(array([0.5, 1.5]), [Text(0, 0.5, 'R'), Text(0, 1.5, 'S')])"
      ]
     },
     "execution_count": 18,
     "metadata": {},
     "output_type": "execute_result"
    },
    {
     "data": {
      "image/png": "[encoded data removed]",
      "text/plain": [
       "<Figure size 800x500 with 1 Axes>"
      ]
     },
     "metadata": {},
     "output_type": "display_data"
    }
   ],
   "source": [
    "FRS = 0.1\n",
    "\n",
    "df_cm, labels = piezo_predict_cv(\n",
    "    all,\n",
    "    samples,\n",
    "    cat_mutations,\n",
    "    FRS,\n",
    "    5,\n",
    "    0.2,\n",
    "    7,\n",
    "    \"NC_000962.3\",\n",
    "    f\"BDQ-FRS-{FRS}-2023.11_cv\",\n",
    "    \"1.1\",\n",
    "    \"BDQ\",\n",
    "    piezo_wildcards,\n",
    ")\n",
    "\n",
    "sns.set_context(\"talk\")\n",
    "plt.figure(figsize=(8, 5))\n",
    "sns.heatmap(df_cm, annot=labels, cbar=False, cmap=\"Greens\", fmt=\"\")\n",
    "plt.xticks(fontsize=12)\n",
    "plt.yticks(fontsize=12)"
   ]
  },
  {
   "cell_type": "markdown",
   "metadata": {},
   "source": [
    "Our method is performing well using FRS thresholds of 0.65 and below, however the vast majority of mmpL5 variants are catalogued as susceptible (249/250), which would suggest mmpL5 does not contirbute to resistance against BDQ. Therefore should be able to remove it with little effect on performance"
   ]
  },
  {
   "cell_type": "markdown",
   "metadata": {},
   "source": [
    "## Remove mmpL5, rebuild  catalogue and predict"
   ]
  },
  {
   "cell_type": "markdown",
   "metadata": {},
   "source": [
    "I see several ways to do this. Build catalogue without mmpL5. The validate on a dataset with mmpL5 removed (which will remove a lot of samples). Or validate on the same samples as before, but make mmpL5 mutations wildtype or synonymous"
   ]
  },
  {
   "cell_type": "code",
   "execution_count": 19,
   "metadata": {},
   "outputs": [],
   "source": [
    "mutations_no_mmpL5 = cat_mutations[cat_mutations.GENE != \"mmpL5\"]"
   ]
  },
  {
   "cell_type": "code",
   "execution_count": 20,
   "metadata": {},
   "outputs": [
    {
     "data": {
      "text/html": [
       "<div>\n",
       "<style scoped>\n",
       "    .dataframe tbody tr th:only-of-type {\n",
       "        vertical-align: middle;\n",
       "    }\n",
       "\n",
       "    .dataframe tbody tr th {\n",
       "        vertical-align: top;\n",
       "    }\n",
       "\n",
       "    .dataframe thead th {\n",
       "        text-align: right;\n",
       "    }\n",
       "</style>\n",
       "<table border=\"1\" class=\"dataframe\">\n",
       "  <thead>\n",
       "    <tr style=\"text-align: right;\">\n",
       "      <th></th>\n",
       "      <th>UNIQUEID</th>\n",
       "      <th>DRUG</th>\n",
       "      <th>PHENOTYPE</th>\n",
       "      <th>METHOD_MIC</th>\n",
       "      <th>Unnamed: 0</th>\n",
       "      <th>GENE</th>\n",
       "      <th>MUTATION</th>\n",
       "      <th>REF</th>\n",
       "      <th>ALT</th>\n",
       "      <th>NUCLEOTIDE_NUMBER</th>\n",
       "      <th>...</th>\n",
       "      <th>INDEL_LENGTH</th>\n",
       "      <th>INDEL_NUCLEOTIDES</th>\n",
       "      <th>AMINO_ACID_NUMBER</th>\n",
       "      <th>AMINO_ACID_SEQUENCE</th>\n",
       "      <th>NUMBER_NUCLEOTIDE_CHANGES</th>\n",
       "      <th>IS_MINOR_ALLELE</th>\n",
       "      <th>MINOR_MUTATION</th>\n",
       "      <th>FRS</th>\n",
       "      <th>GENE_MUT</th>\n",
       "      <th>IS_SYNONYMOUS</th>\n",
       "    </tr>\n",
       "  </thead>\n",
       "  <tbody>\n",
       "    <tr>\n",
       "      <th>0</th>\n",
       "      <td>site.01.subj.DR0134.lab.DR0134.iso.1</td>\n",
       "      <td>BDQ</td>\n",
       "      <td>S</td>\n",
       "      <td>0.06</td>\n",
       "      <td>3729.0</td>\n",
       "      <td>mmpL5</td>\n",
       "      <td>T794I</td>\n",
       "      <td>acc</td>\n",
       "      <td>atc</td>\n",
       "      <td>NaN</td>\n",
       "      <td>...</td>\n",
       "      <td>NaN</td>\n",
       "      <td>NaN</td>\n",
       "      <td>794.0</td>\n",
       "      <td>I</td>\n",
       "      <td>1.0</td>\n",
       "      <td>False</td>\n",
       "      <td>NaN</td>\n",
       "      <td>1.0</td>\n",
       "      <td>mmpL5@A1A</td>\n",
       "      <td>False</td>\n",
       "    </tr>\n",
       "    <tr>\n",
       "      <th>1</th>\n",
       "      <td>site.01.subj.DR0134.lab.DR0134.iso.1</td>\n",
       "      <td>BDQ</td>\n",
       "      <td>S</td>\n",
       "      <td>0.06</td>\n",
       "      <td>3730.0</td>\n",
       "      <td>mmpL5</td>\n",
       "      <td>I948V</td>\n",
       "      <td>att</td>\n",
       "      <td>gtt</td>\n",
       "      <td>NaN</td>\n",
       "      <td>...</td>\n",
       "      <td>NaN</td>\n",
       "      <td>NaN</td>\n",
       "      <td>948.0</td>\n",
       "      <td>V</td>\n",
       "      <td>1.0</td>\n",
       "      <td>False</td>\n",
       "      <td>NaN</td>\n",
       "      <td>1.0</td>\n",
       "      <td>mmpL5@A1A</td>\n",
       "      <td>False</td>\n",
       "    </tr>\n",
       "    <tr>\n",
       "      <th>2</th>\n",
       "      <td>site.01.subj.DR0611.lab.DR0611.iso.1</td>\n",
       "      <td>BDQ</td>\n",
       "      <td>S</td>\n",
       "      <td>0.015</td>\n",
       "      <td>7717.0</td>\n",
       "      <td>mmpL5</td>\n",
       "      <td>I948V</td>\n",
       "      <td>att</td>\n",
       "      <td>gtt</td>\n",
       "      <td>NaN</td>\n",
       "      <td>...</td>\n",
       "      <td>NaN</td>\n",
       "      <td>NaN</td>\n",
       "      <td>948.0</td>\n",
       "      <td>V</td>\n",
       "      <td>1.0</td>\n",
       "      <td>False</td>\n",
       "      <td>NaN</td>\n",
       "      <td>1.0</td>\n",
       "      <td>mmpL5@A1A</td>\n",
       "      <td>False</td>\n",
       "    </tr>\n",
       "    <tr>\n",
       "      <th>3</th>\n",
       "      <td>site.01.subj.DR0602.lab.DR0602.iso.1</td>\n",
       "      <td>BDQ</td>\n",
       "      <td>S</td>\n",
       "      <td>&lt;=0.008</td>\n",
       "      <td>13624.0</td>\n",
       "      <td>Rv0678</td>\n",
       "      <td>c-11a</td>\n",
       "      <td>c</td>\n",
       "      <td>a</td>\n",
       "      <td>-11.0</td>\n",
       "      <td>...</td>\n",
       "      <td>NaN</td>\n",
       "      <td>NaN</td>\n",
       "      <td>NaN</td>\n",
       "      <td>NaN</td>\n",
       "      <td>1.0</td>\n",
       "      <td>False</td>\n",
       "      <td>NaN</td>\n",
       "      <td>1.0</td>\n",
       "      <td>Rv0678@c-11a</td>\n",
       "      <td>False</td>\n",
       "    </tr>\n",
       "    <tr>\n",
       "      <th>4</th>\n",
       "      <td>site.01.subj.DR0602.lab.DR0602.iso.1</td>\n",
       "      <td>BDQ</td>\n",
       "      <td>S</td>\n",
       "      <td>&lt;=0.008</td>\n",
       "      <td>14122.0</td>\n",
       "      <td>mmpL5</td>\n",
       "      <td>D767N</td>\n",
       "      <td>gac</td>\n",
       "      <td>aac</td>\n",
       "      <td>NaN</td>\n",
       "      <td>...</td>\n",
       "      <td>NaN</td>\n",
       "      <td>NaN</td>\n",
       "      <td>767.0</td>\n",
       "      <td>N</td>\n",
       "      <td>1.0</td>\n",
       "      <td>False</td>\n",
       "      <td>NaN</td>\n",
       "      <td>1.0</td>\n",
       "      <td>mmpL5@A1A</td>\n",
       "      <td>False</td>\n",
       "    </tr>\n",
       "    <tr>\n",
       "      <th>...</th>\n",
       "      <td>...</td>\n",
       "      <td>...</td>\n",
       "      <td>...</td>\n",
       "      <td>...</td>\n",
       "      <td>...</td>\n",
       "      <td>...</td>\n",
       "      <td>...</td>\n",
       "      <td>...</td>\n",
       "      <td>...</td>\n",
       "      <td>...</td>\n",
       "      <td>...</td>\n",
       "      <td>...</td>\n",
       "      <td>...</td>\n",
       "      <td>...</td>\n",
       "      <td>...</td>\n",
       "      <td>...</td>\n",
       "      <td>...</td>\n",
       "      <td>...</td>\n",
       "      <td>...</td>\n",
       "      <td>...</td>\n",
       "      <td>...</td>\n",
       "    </tr>\n",
       "    <tr>\n",
       "      <th>31716</th>\n",
       "      <td>site.14.subj.1590.lab.1590.iso.1</td>\n",
       "      <td>BDQ</td>\n",
       "      <td>S</td>\n",
       "      <td>0.12</td>\n",
       "      <td>40777728.0</td>\n",
       "      <td>pepQ</td>\n",
       "      <td>G197R</td>\n",
       "      <td>ggg</td>\n",
       "      <td>agg</td>\n",
       "      <td>NaN</td>\n",
       "      <td>...</td>\n",
       "      <td>NaN</td>\n",
       "      <td>NaN</td>\n",
       "      <td>197.0</td>\n",
       "      <td>R</td>\n",
       "      <td>1.0</td>\n",
       "      <td>False</td>\n",
       "      <td>NaN</td>\n",
       "      <td>1.0</td>\n",
       "      <td>pepQ@G197R</td>\n",
       "      <td>False</td>\n",
       "    </tr>\n",
       "    <tr>\n",
       "      <th>31717</th>\n",
       "      <td>site.14.subj.4200.lab.4200.iso.1</td>\n",
       "      <td>BDQ</td>\n",
       "      <td>S</td>\n",
       "      <td>0.06</td>\n",
       "      <td>40777984.0</td>\n",
       "      <td>mmpL5</td>\n",
       "      <td>T794I</td>\n",
       "      <td>acc</td>\n",
       "      <td>atc</td>\n",
       "      <td>NaN</td>\n",
       "      <td>...</td>\n",
       "      <td>NaN</td>\n",
       "      <td>NaN</td>\n",
       "      <td>794.0</td>\n",
       "      <td>I</td>\n",
       "      <td>1.0</td>\n",
       "      <td>False</td>\n",
       "      <td>NaN</td>\n",
       "      <td>1.0</td>\n",
       "      <td>mmpL5@A1A</td>\n",
       "      <td>False</td>\n",
       "    </tr>\n",
       "    <tr>\n",
       "      <th>31718</th>\n",
       "      <td>site.14.subj.4200.lab.4200.iso.1</td>\n",
       "      <td>BDQ</td>\n",
       "      <td>S</td>\n",
       "      <td>0.06</td>\n",
       "      <td>40777985.0</td>\n",
       "      <td>mmpL5</td>\n",
       "      <td>I948V</td>\n",
       "      <td>att</td>\n",
       "      <td>gtt</td>\n",
       "      <td>NaN</td>\n",
       "      <td>...</td>\n",
       "      <td>NaN</td>\n",
       "      <td>NaN</td>\n",
       "      <td>948.0</td>\n",
       "      <td>V</td>\n",
       "      <td>1.0</td>\n",
       "      <td>False</td>\n",
       "      <td>NaN</td>\n",
       "      <td>1.0</td>\n",
       "      <td>mmpL5@A1A</td>\n",
       "      <td>False</td>\n",
       "    </tr>\n",
       "    <tr>\n",
       "      <th>31719</th>\n",
       "      <td>site.14.subj.4395.lab.4395.iso.1</td>\n",
       "      <td>BDQ</td>\n",
       "      <td>S</td>\n",
       "      <td>0.015</td>\n",
       "      <td>40779573.0</td>\n",
       "      <td>mmpL5</td>\n",
       "      <td>I948V</td>\n",
       "      <td>att</td>\n",
       "      <td>gtt</td>\n",
       "      <td>NaN</td>\n",
       "      <td>...</td>\n",
       "      <td>NaN</td>\n",
       "      <td>NaN</td>\n",
       "      <td>948.0</td>\n",
       "      <td>V</td>\n",
       "      <td>1.0</td>\n",
       "      <td>False</td>\n",
       "      <td>NaN</td>\n",
       "      <td>1.0</td>\n",
       "      <td>mmpL5@A1A</td>\n",
       "      <td>False</td>\n",
       "    </tr>\n",
       "    <tr>\n",
       "      <th>31720</th>\n",
       "      <td>site.14.subj.4195.lab.4195.iso.1</td>\n",
       "      <td>BDQ</td>\n",
       "      <td>S</td>\n",
       "      <td>0.06</td>\n",
       "      <td>40781495.0</td>\n",
       "      <td>mmpL5</td>\n",
       "      <td>I948V</td>\n",
       "      <td>att</td>\n",
       "      <td>gtt</td>\n",
       "      <td>NaN</td>\n",
       "      <td>...</td>\n",
       "      <td>NaN</td>\n",
       "      <td>NaN</td>\n",
       "      <td>948.0</td>\n",
       "      <td>V</td>\n",
       "      <td>1.0</td>\n",
       "      <td>False</td>\n",
       "      <td>NaN</td>\n",
       "      <td>1.0</td>\n",
       "      <td>mmpL5@A1A</td>\n",
       "      <td>False</td>\n",
       "    </tr>\n",
       "  </tbody>\n",
       "</table>\n",
       "<p>31721 rows × 23 columns</p>\n",
       "</div>"
      ],
      "text/plain": [
       "                                   UNIQUEID DRUG PHENOTYPE METHOD_MIC  \\\n",
       "0      site.01.subj.DR0134.lab.DR0134.iso.1  BDQ         S       0.06   \n",
       "1      site.01.subj.DR0134.lab.DR0134.iso.1  BDQ         S       0.06   \n",
       "2      site.01.subj.DR0611.lab.DR0611.iso.1  BDQ         S      0.015   \n",
       "3      site.01.subj.DR0602.lab.DR0602.iso.1  BDQ         S    <=0.008   \n",
       "4      site.01.subj.DR0602.lab.DR0602.iso.1  BDQ         S    <=0.008   \n",
       "...                                     ...  ...       ...        ...   \n",
       "31716      site.14.subj.1590.lab.1590.iso.1  BDQ         S       0.12   \n",
       "31717      site.14.subj.4200.lab.4200.iso.1  BDQ         S       0.06   \n",
       "31718      site.14.subj.4200.lab.4200.iso.1  BDQ         S       0.06   \n",
       "31719      site.14.subj.4395.lab.4395.iso.1  BDQ         S      0.015   \n",
       "31720      site.14.subj.4195.lab.4195.iso.1  BDQ         S       0.06   \n",
       "\n",
       "       Unnamed: 0    GENE MUTATION  REF  ALT  NUCLEOTIDE_NUMBER  ...  \\\n",
       "0          3729.0   mmpL5    T794I  acc  atc                NaN  ...   \n",
       "1          3730.0   mmpL5    I948V  att  gtt                NaN  ...   \n",
       "2          7717.0   mmpL5    I948V  att  gtt                NaN  ...   \n",
       "3         13624.0  Rv0678    c-11a    c    a              -11.0  ...   \n",
       "4         14122.0   mmpL5    D767N  gac  aac                NaN  ...   \n",
       "...           ...     ...      ...  ...  ...                ...  ...   \n",
       "31716  40777728.0    pepQ    G197R  ggg  agg                NaN  ...   \n",
       "31717  40777984.0   mmpL5    T794I  acc  atc                NaN  ...   \n",
       "31718  40777985.0   mmpL5    I948V  att  gtt                NaN  ...   \n",
       "31719  40779573.0   mmpL5    I948V  att  gtt                NaN  ...   \n",
       "31720  40781495.0   mmpL5    I948V  att  gtt                NaN  ...   \n",
       "\n",
       "       INDEL_LENGTH  INDEL_NUCLEOTIDES AMINO_ACID_NUMBER  AMINO_ACID_SEQUENCE  \\\n",
       "0               NaN                NaN             794.0                    I   \n",
       "1               NaN                NaN             948.0                    V   \n",
       "2               NaN                NaN             948.0                    V   \n",
       "3               NaN                NaN               NaN                  NaN   \n",
       "4               NaN                NaN             767.0                    N   \n",
       "...             ...                ...               ...                  ...   \n",
       "31716           NaN                NaN             197.0                    R   \n",
       "31717           NaN                NaN             794.0                    I   \n",
       "31718           NaN                NaN             948.0                    V   \n",
       "31719           NaN                NaN             948.0                    V   \n",
       "31720           NaN                NaN             948.0                    V   \n",
       "\n",
       "      NUMBER_NUCLEOTIDE_CHANGES  IS_MINOR_ALLELE MINOR_MUTATION  FRS  \\\n",
       "0                           1.0            False            NaN  1.0   \n",
       "1                           1.0            False            NaN  1.0   \n",
       "2                           1.0            False            NaN  1.0   \n",
       "3                           1.0            False            NaN  1.0   \n",
       "4                           1.0            False            NaN  1.0   \n",
       "...                         ...              ...            ...  ...   \n",
       "31716                       1.0            False            NaN  1.0   \n",
       "31717                       1.0            False            NaN  1.0   \n",
       "31718                       1.0            False            NaN  1.0   \n",
       "31719                       1.0            False            NaN  1.0   \n",
       "31720                       1.0            False            NaN  1.0   \n",
       "\n",
       "           GENE_MUT IS_SYNONYMOUS  \n",
       "0         mmpL5@A1A         False  \n",
       "1         mmpL5@A1A         False  \n",
       "2         mmpL5@A1A         False  \n",
       "3      Rv0678@c-11a         False  \n",
       "4         mmpL5@A1A         False  \n",
       "...             ...           ...  \n",
       "31716    pepQ@G197R         False  \n",
       "31717     mmpL5@A1A         False  \n",
       "31718     mmpL5@A1A         False  \n",
       "31719     mmpL5@A1A         False  \n",
       "31720     mmpL5@A1A         False  \n",
       "\n",
       "[31721 rows x 23 columns]"
      ]
     },
     "execution_count": 20,
     "metadata": {},
     "output_type": "execute_result"
    }
   ],
   "source": [
    "gene_mut_no_mmpL5 = []\n",
    "for i in all.index:\n",
    "    if all['GENE'][i]=='mmpL5': \n",
    "        #make all mmpL5 mutations synonymous so piezo automatically call them S\n",
    "        gene_mut_no_mmpL5.append('mmpL5@A1A')\n",
    "    else:\n",
    "        gene_mut_no_mmpL5.append(all['GENE_MUT'][i])\n",
    "all_WT_mmpL5 = all.copy()\n",
    "all_WT_mmpL5['GENE_MUT'] = gene_mut_no_mmpL5\n",
    "all_WT_mmpL5\n",
    "\n",
    "#Say something about 'made model treat every mmpL5 mutation as susceptible' (don't mention making synonymous)\n",
    "#should probably do 2 runs, one without mmpL5 even in test set, and the other with all mutations but predicting them as S"
   ]
  },
  {
   "cell_type": "code",
   "execution_count": 21,
   "metadata": {},
   "outputs": [
    {
     "name": "stdout",
     "output_type": "stream",
     "text": [
      "[[  426   134    20]\n",
      " [  148 13491   106]]\n",
      "Catalogue coverage of isolates: 0.9912041884816754\n",
      "Sensitivity: 0.7607142857142857\n",
      "Specificity: 0.9891487645721827\n"
     ]
    },
    {
     "data": {
      "text/plain": [
       "(array([0.5, 1.5]), [Text(0, 0.5, 'R'), Text(0, 1.5, 'S')])"
      ]
     },
     "execution_count": 21,
     "metadata": {},
     "output_type": "execute_result"
    },
    {
     "data": {
      "image/png": "[encoded data removed]",
      "text/plain": [
       "<Figure size 800x600 with 1 Axes>"
      ]
     },
     "metadata": {},
     "output_type": "display_data"
    }
   ],
   "source": [
    "#Build catalogue with mmpL5's predicted as S/treated as not relevant\n",
    "catalogue_01_no_mmpL5 = BuildCatalogue(samples, mutations_no_mmpL5, 0.1)\n",
    "catalogue_01_no_mmpL5_df = (\n",
    "    pd.DataFrame.from_dict(catalogue_01_no_mmpL5.return_catalogue(), orient=\"index\")\n",
    "    .reset_index(0)\n",
    "    .rename(columns={\"index\": \"MUTATION\"})\n",
    ")\n",
    "#save catalogue file\n",
    "catalogue_01_no_mmpL5.return_piezo(\n",
    "    \"NC_000962.3\", \"BDQ-FRS-10-2023.11-rm-mmpL5\", \"1.1\", \"BDQ\", piezo_wildcards\n",
    ").to_csv(\"./catalogues/rem_mmpL5/catalogue_FRS_10_rm_mmpL5.csv\", index=False)\n",
    "\n",
    "#predict with catalogue\n",
    "cm = piezo_predict(\n",
    "    all_WT_mmpL5, \"./catalogues/rem_mmpL5/catalogue_FRS_10_rm_mmpL5.csv\",'BDQ'\n",
    ")[\"cm\"]\n",
    "df_cm = pd.DataFrame(cm, index=[\"R\", \"S\"], columns=[\"R\", \"S\", \"U\"])\n",
    "plt.figure(figsize=(8, 6))\n",
    "sns.set_context(\"talk\")\n",
    "sns.heatmap(df_cm, annot=True, cbar=False, fmt=\"g\", cmap=\"Greens\")\n",
    "plt.xticks(fontsize=12)\n",
    "plt.yticks(fontsize=12)"
   ]
  },
  {
   "cell_type": "markdown",
   "metadata": {},
   "source": [
    "Assume its S to start. Any missesne mutations at any position is a S. Then R > U > S. Build a catalogue that Piezo understands and feed it to Piezo to make prediction. Then can reference the catalogues we have made in a form thats accessible with Piezo. Also, join genomes and phenotypes, and do left join with mutations --> that'll give 'WTs' (assumed to be susceptible)"
   ]
  },
  {
   "cell_type": "code",
   "execution_count": 22,
   "metadata": {},
   "outputs": [
    {
     "data": {
      "text/plain": [
       "136"
      ]
     },
     "execution_count": 22,
     "metadata": {},
     "output_type": "execute_result"
    }
   ],
   "source": [
    "# Record false positives\n",
    "predicted_R_no_mmpL5 = all_WT_mmpL5[\n",
    "    all_WT_mmpL5.GENE_MUT.isin(\n",
    "        catalogue_01_no_mmpL5_df[catalogue_01_no_mmpL5_df.PHENOTYPE == \"R\"].MUTATION\n",
    "    )\n",
    "].UNIQUEID.unique()\n",
    "fp_df_no_mmpL5 = all_WT_mmpL5[\n",
    "    (all_WT_mmpL5.UNIQUEID.isin(predicted_R_no_mmpL5)) & (all_WT_mmpL5.PHENOTYPE == \"S\")\n",
    "]\n",
    "fp_ids_no_mmpL5 = fp_df_no_mmpL5.UNIQUEID.unique()\n",
    "\n",
    "\n",
    "#How many of the false positives are shared with those when mmpL5 was included?\n",
    "overlap = [fp for fp in fp_ids if fp in fp_ids_no_mmpL5]\n",
    "len(overlap)"
   ]
  },
  {
   "cell_type": "markdown",
   "metadata": {},
   "source": [
    "Removing mmpL5 achieves a significant increase in sensitivity, but at the cost of a drop in specificity. However, this drop is not surprising given how many susceptible samples we have lost, and 130/146 of the false positives are the same as those when mmpL5 was included."
   ]
  },
  {
   "cell_type": "markdown",
   "metadata": {},
   "source": [
    "### Is there any correlation between FRS and MIC?"
   ]
  },
  {
   "cell_type": "code",
   "execution_count": 23,
   "metadata": {},
   "outputs": [],
   "source": [
    "sns.set_context(\"notebook\")\n",
    "\n",
    "all[\"MIC_FLOAT\"] = Helpers.mic_to_float(all[\"METHOD_MIC\"].tolist())\n",
    "\n",
    "\n",
    "R_muts = catalogue_01_df[catalogue_01_df.PHENOTYPE == \"R\"].MUTATION.tolist()\n",
    "# should only look at samples with a single R mutation (can have multipled S) that has been catalogued as R\n",
    "ids, solo_Rs = all.UNIQUEID.unique(), []\n",
    "for i in ids:\n",
    "    df = all[all.UNIQUEID == i]\n",
    "    if len(df[(df.GENE_MUT.isin(R_muts))]) == 1:\n",
    "        solo_Rs.append(i)\n",
    "\n",
    "df = pd.DataFrame.from_dict(\n",
    "    {\n",
    "        \"GENE_MUT\": all[\n",
    "            (all.UNIQUEID.isin(solo_Rs)) & (all.GENE_MUT.isin(R_muts))\n",
    "        ].GENE_MUT.tolist(),\n",
    "        \"FRS\": all[\n",
    "            (all.UNIQUEID.isin(solo_Rs)) & (all.GENE_MUT.isin(R_muts))\n",
    "        ].FRS.tolist(),\n",
    "        \"MIC\": [\n",
    "            i\n",
    "            for i in np.log2(\n",
    "                (\n",
    "                    all[\n",
    "                        (all.UNIQUEID.isin(solo_Rs)) & (all.GENE_MUT.isin(R_muts))\n",
    "                    ].MIC_FLOAT\n",
    "                )\n",
    "            ).tolist()\n",
    "        ],\n",
    "    }\n",
    ")\n",
    "df[\"binned_FRS\"] = [str(round(i, 1)) for i in df.FRS.tolist()]\n",
    "df[\"binned_MIC\"] = [str(i) for i in df.MIC]\n",
    "\n",
    "df = df[df.MIC >= 0]\n",
    "df[\"MIC\"] = [str(i) for i in df.MIC]"
   ]
  },
  {
   "cell_type": "code",
   "execution_count": 24,
   "metadata": {},
   "outputs": [
    {
     "data": {
      "image/png": "[encoded data removed]",
      "text/plain": [
       "<Figure size 1200x500 with 2 Axes>"
      ]
     },
     "metadata": {},
     "output_type": "display_data"
    }
   ],
   "source": [
    "fig, axes = plt.subplots(nrows=1, ncols=2, figsize=(12, 5))\n",
    "\n",
    "sns.stripplot(x=\"FRS\", y=\"MIC\", data=df[df.FRS < 0.9], ax=axes[0], jitter=0.25)\n",
    "axes[0].set_title(\"All R Rv0678 mutations\")\n",
    "axes[0].invert_yaxis()\n",
    "axes[0].set_yticks([0, 1, 2, 3], labels=[1.0, 2.0, 4.0, \">=8.0\"])\n",
    "axes[0].set_xlim(0.1, 0.9)\n",
    "\n",
    "\n",
    "sns.stripplot(\n",
    "    x=\"FRS\",\n",
    "    y=\"MIC\",\n",
    "    data=df[(df.GENE_MUT == \"Rv0678@141_ins_c\") & (df.FRS < 0.9)],\n",
    "    ax=axes[1],\n",
    "    jitter=0.25,\n",
    "    color=\"red\",\n",
    ")\n",
    "axes[1].set_title(\"Rv0678@141_ins_c\")\n",
    "axes[1].set_yticks([0, 1, 2, 3], labels=[1.0, 2.0, 4.0, \">=8.0\"])\n",
    "axes[1].set_xlim(0.1, 0.9)  # Set x-axis range\n",
    "axes[1].invert_yaxis()\n",
    "\n",
    "\n",
    "# Adjust layout\n",
    "plt.tight_layout()\n",
    "\n",
    "# Show the plot\n",
    "plt.show()"
   ]
  },
  {
   "cell_type": "markdown",
   "metadata": {},
   "source": [
    "There is no correlation between FRS and MIC for Rv0678 resistant variants generally, as well as for the most variable (wrt FRS) mutations in Rv0678. This would suggest there is no effective fitness cost resulting from Rv0678 resistant mutations, as minor resistant populations can rapidly outcompete major WT populations. It would be interesting to analyse growth data from the plates, however this data is not available."
   ]
  },
  {
   "cell_type": "markdown",
   "metadata": {},
   "source": [
    "## Is there any correlation between FRS and growth?"
   ]
  },
  {
   "cell_type": "code",
   "execution_count": 25,
   "metadata": {},
   "outputs": [
    {
     "data": {
      "text/html": [
       "<div>\n",
       "<style scoped>\n",
       "    .dataframe tbody tr th:only-of-type {\n",
       "        vertical-align: middle;\n",
       "    }\n",
       "\n",
       "    .dataframe tbody tr th {\n",
       "        vertical-align: top;\n",
       "    }\n",
       "\n",
       "    .dataframe thead th {\n",
       "        text-align: right;\n",
       "    }\n",
       "</style>\n",
       "<table border=\"1\" class=\"dataframe\">\n",
       "  <thead>\n",
       "    <tr style=\"text-align: right;\">\n",
       "      <th></th>\n",
       "      <th>GROWTH</th>\n",
       "    </tr>\n",
       "    <tr>\n",
       "      <th>UNIQUEID</th>\n",
       "      <th></th>\n",
       "    </tr>\n",
       "  </thead>\n",
       "  <tbody>\n",
       "    <tr>\n",
       "      <th>site.01.subj.DR0013.lab.DR0013.iso.1</th>\n",
       "      <td>13.239288</td>\n",
       "    </tr>\n",
       "    <tr>\n",
       "      <th>site.01.subj.DR0018.lab.DR0018.iso.1</th>\n",
       "      <td>35.075825</td>\n",
       "    </tr>\n",
       "    <tr>\n",
       "      <th>site.01.subj.DR0025.lab.DR0025.iso.1</th>\n",
       "      <td>14.489963</td>\n",
       "    </tr>\n",
       "    <tr>\n",
       "      <th>site.01.subj.DR0030.lab.DR0030.iso.1</th>\n",
       "      <td>41.714438</td>\n",
       "    </tr>\n",
       "    <tr>\n",
       "      <th>site.01.subj.DR0031.lab.DR0031.iso.1</th>\n",
       "      <td>4.745861</td>\n",
       "    </tr>\n",
       "    <tr>\n",
       "      <th>...</th>\n",
       "      <td>...</td>\n",
       "    </tr>\n",
       "    <tr>\n",
       "      <th>site.20.subj.SCH8604398.lab.YA00134621.iso.1</th>\n",
       "      <td>20.066556</td>\n",
       "    </tr>\n",
       "    <tr>\n",
       "      <th>site.20.subj.SCH8604399.lab.YA00134971.iso.1</th>\n",
       "      <td>19.883464</td>\n",
       "    </tr>\n",
       "    <tr>\n",
       "      <th>site.20.subj.SCH8608291.lab.YA00135762.iso.1</th>\n",
       "      <td>11.091854</td>\n",
       "    </tr>\n",
       "    <tr>\n",
       "      <th>site.20.subj.SCH8608295.lab.YA00134623.iso.1</th>\n",
       "      <td>18.828581</td>\n",
       "    </tr>\n",
       "    <tr>\n",
       "      <th>site.20.subj.SCH8612323.lab.YA00134624.iso.1</th>\n",
       "      <td>16.895043</td>\n",
       "    </tr>\n",
       "  </tbody>\n",
       "</table>\n",
       "<p>24018 rows × 1 columns</p>\n",
       "</div>"
      ],
      "text/plain": [
       "                                                 GROWTH\n",
       "UNIQUEID                                               \n",
       "site.01.subj.DR0013.lab.DR0013.iso.1          13.239288\n",
       "site.01.subj.DR0018.lab.DR0018.iso.1          35.075825\n",
       "site.01.subj.DR0025.lab.DR0025.iso.1          14.489963\n",
       "site.01.subj.DR0030.lab.DR0030.iso.1          41.714438\n",
       "site.01.subj.DR0031.lab.DR0031.iso.1           4.745861\n",
       "...                                                 ...\n",
       "site.20.subj.SCH8604398.lab.YA00134621.iso.1  20.066556\n",
       "site.20.subj.SCH8604399.lab.YA00134971.iso.1  19.883464\n",
       "site.20.subj.SCH8608291.lab.YA00135762.iso.1  11.091854\n",
       "site.20.subj.SCH8608295.lab.YA00134623.iso.1  18.828581\n",
       "site.20.subj.SCH8612323.lab.YA00134624.iso.1  16.895043\n",
       "\n",
       "[24018 rows x 1 columns]"
      ]
     },
     "execution_count": 25,
     "metadata": {},
     "output_type": "execute_result"
    }
   ],
   "source": [
    "growth_dil = growth[(growth.DILUTION.isin([1, 2, 3])) & (growth.READINGDAY == 14)]\n",
    "# subset growth data to dilutions of 1, 2, or 3 fold so there is drug present, and only look at groth at 14 days post incubation\n",
    "growth_dil = growth_dil[[\"UNIQUEID\", \"GROWTH\"]].groupby(\"UNIQUEID\").mean()\n",
    "# average growth across dilutions\n",
    "growth_dil"
   ]
  },
  {
   "cell_type": "code",
   "execution_count": 26,
   "metadata": {},
   "outputs": [],
   "source": [
    "df = pd.merge(growth_dil, cat_mutations[cat_mutations.GENE=='Rv0678'], how='inner', on='UNIQUEID')\n",
    "#filter for samples with only a single resistant mutation (and however many S)\n",
    "df = df[df.UNIQUEID.isin(solo_Rs)]"
   ]
  },
  {
   "cell_type": "code",
   "execution_count": 27,
   "metadata": {},
   "outputs": [
    {
     "data": {
      "image/png": "[encoded data removed]",
      "text/plain": [
       "<Figure size 1200x500 with 2 Axes>"
      ]
     },
     "metadata": {},
     "output_type": "display_data"
    }
   ],
   "source": [
    "sns.set_context(\"paper\")\n",
    "\n",
    "fig, axes = plt.subplots(nrows=1, ncols=2, figsize=(12, 5))\n",
    "\n",
    "sns.regplot(x=\"FRS\", y=\"GROWTH\", data=df[df.FRS < 0.9], ax=axes[0], ci=95)\n",
    "axes[0].set_title(\"All solo R Rv0678 mutations\")\n",
    "axes[0].set_xlim(0.1, 0.9)\n",
    "\n",
    "# Calculate Pearson correlation coefficient\n",
    "pcc_value = df[df.FRS < 0.9][[\"FRS\", \"GROWTH\"]].corr().iloc[0, 1]\n",
    "\n",
    "# Annotate the first subplot with the PCC value\n",
    "axes[0].annotate(\n",
    "    f\"PCC: {pcc_value:.2f}\",\n",
    "    xy=(0.83, 0.92),\n",
    "    xycoords=\"axes fraction\",\n",
    "    fontsize=10,\n",
    "    color=\"black\",\n",
    ")\n",
    "\n",
    "\n",
    "sns.regplot(\n",
    "    x=\"FRS\",\n",
    "    y=\"GROWTH\",\n",
    "    data=df[(df.GENE_MUT == \"Rv0678@141_ins_c\") & (df.FRS < 0.9)],\n",
    "    ax=axes[1],\n",
    "    color=\"red\",ci=95\n",
    ")\n",
    "axes[1].set_title(\"solo Rv0678@141_ins_c\")\n",
    "axes[1].set_xlim(0.1, 0.9)  # Set x-axis range\n",
    "\n",
    "# Calculate Pearson correlation coefficient\n",
    "pcc_value = (\n",
    "    df[(df.FRS < 0.9) & (df.GENE_MUT == \"Rv0678@141_ins_c\")][[\"FRS\", \"GROWTH\"]]\n",
    "    .corr()\n",
    "    .iloc[0, 1]\n",
    ")\n",
    "\n",
    "# Annotate the first subplot with the PCC value\n",
    "axes[1].annotate(\n",
    "    f\"PCC: {pcc_value:.2f}\",\n",
    "    xy=(0.83, 0.92),\n",
    "    xycoords=\"axes fraction\",\n",
    "    fontsize=10,\n",
    "    color=\"black\",\n",
    ")\n",
    "\n",
    "\n",
    "# Adjust layout\n",
    "plt.tight_layout()\n",
    "\n",
    "# Show the plot"
   ]
  },
  {
   "cell_type": "code",
   "execution_count": null,
   "metadata": {},
   "outputs": [],
   "source": []
  },
  {
   "cell_type": "code",
   "execution_count": null,
   "metadata": {},
   "outputs": [],
   "source": []
  },
  {
   "cell_type": "code",
   "execution_count": null,
   "metadata": {},
   "outputs": [],
   "source": []
  },
  {
   "cell_type": "code",
   "execution_count": null,
   "metadata": {},
   "outputs": [],
   "source": []
  },
  {
   "cell_type": "code",
   "execution_count": null,
   "metadata": {},
   "outputs": [],
   "source": []
  },
  {
   "cell_type": "markdown",
   "metadata": {},
   "source": [
    "### Heterogenous"
   ]
  },
  {
   "cell_type": "code",
   "execution_count": null,
   "metadata": {},
   "outputs": [],
   "source": []
  },
  {
   "cell_type": "code",
   "execution_count": null,
   "metadata": {},
   "outputs": [],
   "source": []
  },
  {
   "cell_type": "code",
   "execution_count": null,
   "metadata": {},
   "outputs": [
    {
     "data": {
      "text/html": [
       "<div>\n",
       "<style scoped>\n",
       "    .dataframe tbody tr th:only-of-type {\n",
       "        vertical-align: middle;\n",
       "    }\n",
       "\n",
       "    .dataframe tbody tr th {\n",
       "        vertical-align: top;\n",
       "    }\n",
       "\n",
       "    .dataframe thead th {\n",
       "        text-align: right;\n",
       "    }\n",
       "</style>\n",
       "<table border=\"1\" class=\"dataframe\">\n",
       "  <thead>\n",
       "    <tr style=\"text-align: right;\">\n",
       "      <th></th>\n",
       "      <th>GENE_MUT</th>\n",
       "      <th>phenotype</th>\n",
       "    </tr>\n",
       "  </thead>\n",
       "  <tbody>\n",
       "    <tr>\n",
       "      <th>0</th>\n",
       "      <td>mmpL5_I948V</td>\n",
       "      <td>S</td>\n",
       "    </tr>\n",
       "    <tr>\n",
       "      <th>1</th>\n",
       "      <td>mmpL5_L510P</td>\n",
       "      <td>S</td>\n",
       "    </tr>\n",
       "    <tr>\n",
       "      <th>2</th>\n",
       "      <td>mmpL5_A742A</td>\n",
       "      <td>S</td>\n",
       "    </tr>\n",
       "    <tr>\n",
       "      <th>3</th>\n",
       "      <td>pepQ_t-14c</td>\n",
       "      <td>S</td>\n",
       "    </tr>\n",
       "    <tr>\n",
       "      <th>4</th>\n",
       "      <td>mmpL5_V906A</td>\n",
       "      <td>S</td>\n",
       "    </tr>\n",
       "    <tr>\n",
       "      <th>...</th>\n",
       "      <td>...</td>\n",
       "      <td>...</td>\n",
       "    </tr>\n",
       "    <tr>\n",
       "      <th>653</th>\n",
       "      <td>Rv0678_L40M</td>\n",
       "      <td>R</td>\n",
       "    </tr>\n",
       "    <tr>\n",
       "      <th>654</th>\n",
       "      <td>mmpL5_L709I</td>\n",
       "      <td>R</td>\n",
       "    </tr>\n",
       "    <tr>\n",
       "      <th>655</th>\n",
       "      <td>Rv0678_325_ins_g</td>\n",
       "      <td>R</td>\n",
       "    </tr>\n",
       "    <tr>\n",
       "      <th>656</th>\n",
       "      <td>Rv0678_107_ins_g</td>\n",
       "      <td>R</td>\n",
       "    </tr>\n",
       "    <tr>\n",
       "      <th>657</th>\n",
       "      <td>Rv0678_c-11a</td>\n",
       "      <td>U</td>\n",
       "    </tr>\n",
       "  </tbody>\n",
       "</table>\n",
       "<p>658 rows × 2 columns</p>\n",
       "</div>"
      ],
      "text/plain": [
       "             GENE_MUT phenotype\n",
       "0         mmpL5_I948V         S\n",
       "1         mmpL5_L510P         S\n",
       "2         mmpL5_A742A         S\n",
       "3          pepQ_t-14c         S\n",
       "4         mmpL5_V906A         S\n",
       "..                ...       ...\n",
       "653       Rv0678_L40M         R\n",
       "654       mmpL5_L709I         R\n",
       "655  Rv0678_325_ins_g         R\n",
       "656  Rv0678_107_ins_g         R\n",
       "657      Rv0678_c-11a         U\n",
       "\n",
       "[658 rows x 2 columns]"
      ]
     },
     "execution_count": 9,
     "metadata": {},
     "output_type": "execute_result"
    }
   ],
   "source": [
    "catalogue_01 = BuildCatalogue(\n",
    "    samples, mutations, 0.1\n",
    ").return_catalogue()\n",
    "catalogue_01 = (\n",
    "    pd.DataFrame.from_dict(catalogue_01, orient=\"index\")\n",
    "    .reset_index(0)\n",
    "    .rename(columns={\"index\": \"GENE_MUT\", 0: \"phenotype\"})\n",
    ")\n",
    "catalogue_01"
   ]
  },
  {
   "cell_type": "code",
   "execution_count": null,
   "metadata": {},
   "outputs": [
    {
     "data": {
      "text/plain": [
       "<Figure size 700x500 with 0 Axes>"
      ]
     },
     "metadata": {},
     "output_type": "display_data"
    },
    {
     "data": {
      "image/png": "[encoded data removed]",
      "text/plain": [
       "<Figure size 640x480 with 1 Axes>"
      ]
     },
     "metadata": {},
     "output_type": "display_data"
    }
   ],
   "source": [
    "Helpers.plot_catalogue_counts(all, catalogue_01)"
   ]
  },
  {
   "cell_type": "markdown",
   "metadata": {},
   "source": [
    "## Predict"
   ]
  },
  {
   "cell_type": "markdown",
   "metadata": {},
   "source": [
    "### Homogenous"
   ]
  },
  {
   "cell_type": "code",
   "execution_count": null,
   "metadata": {},
   "outputs": [
    {
     "name": "stdout",
     "output_type": "stream",
     "text": [
      "[[    0     0   577]\n",
      " [    0     1 13640]]\n",
      "Catalogue coverage of isolates: 7.033338022225348e-05\n",
      "Catalogue coverage of mutations: 0.0016025641025641025\n",
      "Sensitivity: nan\n",
      "Specificity: 1.0\n"
     ]
    },
    {
     "name": "stderr",
     "output_type": "stream",
     "text": [
      "/Users/dylanadlard/Documents/Oxford/PhD/Projects/BDQ_analysis/BDQ_analysis/notebooks/paper/../protocols/Predict.py:80: RuntimeWarning: invalid value encountered in scalar divide\n",
      "  sensitivity = cm[0][0] / (cm[0][0] + cm[0][1])\n"
     ]
    },
    {
     "data": {
      "text/plain": [
       "(array([0.5, 1.5]), [Text(0, 0.5, 'R'), Text(0, 1.5, 'S')])"
      ]
     },
     "execution_count": 11,
     "metadata": {},
     "output_type": "execute_result"
    },
    {
     "data": {
      "image/png": "[encoded data removed]",
      "text/plain": [
       "<Figure size 800x600 with 1 Axes>"
      ]
     },
     "metadata": {},
     "output_type": "display_data"
    }
   ],
   "source": [
    "\n",
    "cm = predict(all, catalogue_09, Print=True)[\"cm\"]\n",
    "df_cm = pd.DataFrame(cm, index=[\"R\", \"S\"], columns=[\"R\", \"S\", 'U'])\n",
    "plt.figure(figsize=(8, 6))\n",
    "sns.set_context(\"talk\")\n",
    "sns.heatmap(df_cm, annot=True, cbar=False, fmt=\"g\", cmap=\"Greens\")\n",
    "plt.xticks(fontsize=12)\n",
    "plt.yticks(fontsize=12)"
   ]
  },
  {
   "cell_type": "markdown",
   "metadata": {},
   "source": [
    "### Heterogenous"
   ]
  },
  {
   "cell_type": "code",
   "execution_count": null,
   "metadata": {},
   "outputs": [
    {
     "name": "stdout",
     "output_type": "stream",
     "text": [
      "[[  388   159    30]\n",
      " [  133 13322   186]]\n",
      "Catalogue coverage of isolates: 0.9848079898719933\n",
      "Catalogue coverage of mutations: 0.5272435897435898\n",
      "Sensitivity: 0.7093235831809872\n",
      "Specificity: 0.990115198810851\n"
     ]
    },
    {
     "data": {
      "text/plain": [
       "(array([0.5, 1.5]), [Text(0, 0.5, 'R'), Text(0, 1.5, 'S')])"
      ]
     },
     "execution_count": 12,
     "metadata": {},
     "output_type": "execute_result"
    },
    {
     "data": {
      "image/png": "[encoded data removed]",
      "text/plain": [
       "<Figure size 800x600 with 1 Axes>"
      ]
     },
     "metadata": {},
     "output_type": "display_data"
    }
   ],
   "source": [
    "cm = predict(all, catalogue_01, Print=True)[\"cm\"]\n",
    "df_cm = pd.DataFrame(cm, index=[\"R\", \"S\"], columns=[\"R\", \"S\", 'U'])\n",
    "plt.figure(figsize=(8, 6))\n",
    "sns.set_context(\"talk\")\n",
    "sns.heatmap(df_cm, annot=True, cbar=False, fmt=\"g\", cmap=\"Greens\")\n",
    "plt.xticks(fontsize=12)\n",
    "plt.yticks(fontsize=12)"
   ]
  },
  {
   "cell_type": "markdown",
   "metadata": {},
   "source": [
    "## Build Catalogue + predict with cross validation"
   ]
  },
  {
   "cell_type": "code",
   "execution_count": null,
   "metadata": {},
   "outputs": [],
   "source": [
    "samples = pd.merge(genomes, phenotypes, on=['UNIQUEID'], how='inner')\n",
    "all = pd.merge(samples, mutations, on='UNIQUEID', how='left')"
   ]
  },
  {
   "cell_type": "markdown",
   "metadata": {},
   "source": [
    "#### Homogenous"
   ]
  },
  {
   "cell_type": "code",
   "execution_count": null,
   "metadata": {},
   "outputs": [
    {
     "name": "stderr",
     "output_type": "stream",
     "text": [
      "/Users/dylanadlard/Documents/Oxford/PhD/Projects/BDQ_analysis/BDQ_analysis/notebooks/paper/../protocols/Predict.py:80: RuntimeWarning: invalid value encountered in scalar divide\n",
      "  sensitivity = cm[0][0] / (cm[0][0] + cm[0][1])\n",
      "/Users/dylanadlard/Documents/Oxford/PhD/Projects/BDQ_analysis/BDQ_analysis/notebooks/paper/../protocols/Predict.py:81: RuntimeWarning: invalid value encountered in scalar divide\n",
      "  specificity = cm[1][1] / (cm[1][1] + cm[1][0])\n",
      "/Users/dylanadlard/Documents/Oxford/PhD/Projects/BDQ_analysis/BDQ_analysis/notebooks/paper/../protocols/Predict.py:80: RuntimeWarning: invalid value encountered in scalar divide\n",
      "  sensitivity = cm[0][0] / (cm[0][0] + cm[0][1])\n",
      "/Users/dylanadlard/Documents/Oxford/PhD/Projects/BDQ_analysis/BDQ_analysis/notebooks/paper/../protocols/Predict.py:81: RuntimeWarning: invalid value encountered in scalar divide\n",
      "  specificity = cm[1][1] / (cm[1][1] + cm[1][0])\n",
      "/Users/dylanadlard/Documents/Oxford/PhD/Projects/BDQ_analysis/BDQ_analysis/notebooks/paper/../protocols/Predict.py:80: RuntimeWarning: invalid value encountered in scalar divide\n",
      "  sensitivity = cm[0][0] / (cm[0][0] + cm[0][1])\n",
      "/Users/dylanadlard/Documents/Oxford/PhD/Projects/BDQ_analysis/BDQ_analysis/notebooks/paper/../protocols/Predict.py:81: RuntimeWarning: invalid value encountered in scalar divide\n",
      "  specificity = cm[1][1] / (cm[1][1] + cm[1][0])\n"
     ]
    },
    {
     "name": "stdout",
     "output_type": "stream",
     "text": [
      "isolate_cov (0.17961605584642232, 0.35923211169284464)\n",
      "specificity (nan, nan)\n",
      "sensitivity (nan, nan)\n"
     ]
    },
    {
     "name": "stderr",
     "output_type": "stream",
     "text": [
      "/Users/dylanadlard/Documents/Oxford/PhD/Projects/BDQ_analysis/BDQ_analysis/notebooks/paper/../protocols/Predict.py:80: RuntimeWarning: invalid value encountered in scalar divide\n",
      "  sensitivity = cm[0][0] / (cm[0][0] + cm[0][1])\n",
      "/Users/dylanadlard/Documents/Oxford/PhD/Projects/BDQ_analysis/BDQ_analysis/notebooks/paper/../protocols/Predict.py:81: RuntimeWarning: invalid value encountered in scalar divide\n",
      "  specificity = cm[1][1] / (cm[1][1] + cm[1][0])\n"
     ]
    },
    {
     "data": {
      "text/plain": [
       "(array([0.5, 1.5]), [Text(0, 0.5, 'R'), Text(0, 1.5, 'S')])"
      ]
     },
     "execution_count": 35,
     "metadata": {},
     "output_type": "execute_result"
    },
    {
     "data": {
      "image/png": "[encoded data removed]",
      "text/plain": [
       "<Figure size 800x500 with 1 Axes>"
      ]
     },
     "metadata": {},
     "output_type": "display_data"
    }
   ],
   "source": [
    "X = all.UNIQUEID.unique()\n",
    "y = []\n",
    "for i in X:\n",
    "    y.append(all[all.UNIQUEID == i].PHENOTYPE.tolist()[0])\n",
    "\n",
    "\n",
    "rs = ShuffleSplit(n_splits=5, test_size=0.2, random_state=7)\n",
    "train_indices, test_indices = [], []\n",
    "for i, (train_index, test_index) in enumerate(rs.split(X)):\n",
    "    train_indices.append(train_index)\n",
    "    test_indices.append(test_index)\n",
    "\n",
    "ax_arr = []\n",
    "\n",
    "isolate_cov, specificities, sensitivities, cms = [], [], [], []\n",
    "for fold in range(len(train_indices)):\n",
    "    train_ids, test_ids = [], []\n",
    "    for i in train_indices[fold]:\n",
    "        train_ids.append(X[i])\n",
    "    for j in test_indices[fold]:\n",
    "        test_ids.append(X[j])\n",
    "\n",
    "    train_samples = samples[samples.UNIQUEID.isin(train_ids)]\n",
    "    train_mutations = mutations[mutations.UNIQUEID.isin(train_ids)]\n",
    "    test_df = all[all.UNIQUEID.isin(test_ids)]\n",
    "\n",
    "    catalogue = BuildCatalogue(train_samples, train_mutations, 0.9).return_catalogue()\n",
    "    catalogue = (\n",
    "        pd.DataFrame.from_dict(catalogue, orient=\"index\")\n",
    "        .reset_index(0)\n",
    "        .rename(columns={\"index\": \"GENE_MUT\", 0: \"phenotype\"})\n",
    "    )\n",
    "    catalogue.index.rename(\"GENE_MUT\", inplace=True)\n",
    "\n",
    "    performance = predict(test_df, catalogue, Print=False)\n",
    "    isolate_cov.append(performance[\"isolate_cov\"])\n",
    "    specificities.append(performance[\"specificity\"])\n",
    "    sensitivities.append(performance[\"sensitivity\"])\n",
    "    cms.append(performance[\"cm\"])\n",
    "\n",
    "isolate_cov = (np.mean(isolate_cov), np.std(isolate_cov))\n",
    "specificity = (np.mean(specificities), np.std(specificities))\n",
    "sensitivity = (np.mean(sensitivities), np.std(sensitivities))\n",
    "\n",
    "print(\"isolate_cov\", isolate_cov)\n",
    "print(\"specificity\", specificity)\n",
    "print(\"sensitivity\", sensitivity)\n",
    "\n",
    "\n",
    "mean = np.mean(cms, axis=0)\n",
    "std = np.std(cms, axis=0)\n",
    "\n",
    "labels = [[], []]\n",
    "\n",
    "for i in range(len(mean)):\n",
    "    for j in range(len(mean[i])):\n",
    "        labels[i].append(\"%s\" % int(mean[i][j]))\n",
    "\n",
    "df_cm = pd.DataFrame(mean, index=[\"R\", \"S\"], columns=[\"R\", \"S\", \"U\"])\n",
    "plt.figure(figsize=(8, 5))\n",
    "sns.heatmap(df_cm, annot=labels, cbar=False, cmap=\"Greens\", fmt=\"\")\n",
    "plt.xticks(fontsize=12)\n",
    "plt.yticks(fontsize=12)"
   ]
  },
  {
   "cell_type": "markdown",
   "metadata": {},
   "source": [
    "#### Heterogenous"
   ]
  },
  {
   "cell_type": "code",
   "execution_count": null,
   "metadata": {},
   "outputs": [
    {
     "name": "stdout",
     "output_type": "stream",
     "text": [
      "isolate_cov (0.8983595113438045, 0.0034931926012416754)\n",
      "specificity (0.985503536895098, 0.0022038798735416684)\n",
      "sensitivity (0.6956215321133539, 0.06228080363935468)\n"
     ]
    },
    {
     "data": {
      "text/plain": [
       "(array([0.5, 1.5]), [Text(0, 0.5, 'R'), Text(0, 1.5, 'S')])"
      ]
     },
     "execution_count": 15,
     "metadata": {},
     "output_type": "execute_result"
    },
    {
     "data": {
      "image/png": "[encoded data removed]",
      "text/plain": [
       "<Figure size 800x500 with 1 Axes>"
      ]
     },
     "metadata": {},
     "output_type": "display_data"
    }
   ],
   "source": [
    "X = all.UNIQUEID.unique()\n",
    "y = []\n",
    "for i in X:\n",
    "    y.append(all[all.UNIQUEID == i].PHENOTYPE.tolist()[0])\n",
    "\n",
    "\n",
    "rs = ShuffleSplit(n_splits=5, test_size=0.2, random_state=7)\n",
    "train_indices, test_indices = [], []\n",
    "for i, (train_index, test_index) in enumerate(rs.split(X)):\n",
    "    train_indices.append(train_index)\n",
    "    test_indices.append(test_index)\n",
    "\n",
    "ax_arr = []\n",
    "\n",
    "isolate_cov, specificities, sensitivities, cms = [], [], [], []\n",
    "for fold in range(len(train_indices)):\n",
    "    train_ids, test_ids = [], []\n",
    "    for i in train_indices[fold]:\n",
    "        train_ids.append(X[i])\n",
    "    for j in test_indices[fold]:\n",
    "        test_ids.append(X[j])\n",
    "\n",
    "    train_samples = samples[samples.UNIQUEID.isin(train_ids)]\n",
    "    train_mutations = mutations[mutations.UNIQUEID.isin(train_ids)]\n",
    "    test_df = all[all.UNIQUEID.isin(test_ids)]\n",
    "\n",
    "    catalogue = BuildCatalogue(train_samples, train_mutations, 0.1).return_catalogue()\n",
    "    catalogue = (\n",
    "        pd.DataFrame.from_dict(catalogue, orient=\"index\")\n",
    "        .reset_index(0)\n",
    "        .rename(columns={\"index\": \"GENE_MUT\", 0: \"phenotype\"})\n",
    "    )\n",
    "    catalogue.index.rename(\"GENE_MUT\", inplace=True)\n",
    "\n",
    "    performance = predict(test_df, catalogue, Print=False)\n",
    "    isolate_cov.append(performance[\"isolate_cov\"])\n",
    "    specificities.append(performance[\"specificity\"])\n",
    "    sensitivities.append(performance[\"sensitivity\"])\n",
    "    cms.append(performance[\"cm\"])\n",
    "\n",
    "isolate_cov = (np.mean(isolate_cov), np.std(isolate_cov))\n",
    "specificity = (np.mean(specificities), np.std(specificities))\n",
    "sensitivity = (np.mean(sensitivities), np.std(sensitivities))\n",
    "\n",
    "print(\"isolate_cov\", isolate_cov)\n",
    "print(\"specificity\", specificity)\n",
    "print(\"sensitivity\", sensitivity)\n",
    "\n",
    "\n",
    "mean = np.mean(cms, axis=0)\n",
    "std = np.std(cms, axis=0)\n",
    "\n",
    "labels = [[], []]\n",
    "\n",
    "for i in range(len(mean)):\n",
    "    for j in range(len(mean[i])):\n",
    "        labels[i].append(\"%s\" % int(mean[i][j]))\n",
    "\n",
    "\n",
    "df_cm = pd.DataFrame(mean, index=[\"R\", \"S\"], columns=[\"R\", \"S\", \"U\"])\n",
    "plt.figure(figsize=(8, 5))\n",
    "sns.heatmap(df_cm, annot=labels, cbar=False, cmap=\"Greens\", fmt=\"\")\n",
    "plt.xticks(fontsize=12)\n",
    "plt.yticks(fontsize=12)"
   ]
  },
  {
   "cell_type": "code",
   "execution_count": null,
   "metadata": {},
   "outputs": [],
   "source": []
  },
  {
   "cell_type": "markdown",
   "metadata": {},
   "source": [
    "## Remove mmpL5 from dataset and rebuild and predict"
   ]
  },
  {
   "cell_type": "code",
   "execution_count": null,
   "metadata": {},
   "outputs": [],
   "source": [
    "all_no_mmpL5 = all[all.GENE != \"mmpL5\"]\n",
    "mutations_no_mmpL5 = mutations[mutations.GENE!='mmpL5']"
   ]
  },
  {
   "cell_type": "markdown",
   "metadata": {},
   "source": [
    "### Build and predict on entire dataset"
   ]
  },
  {
   "cell_type": "markdown",
   "metadata": {},
   "source": [
    "#### Homogenous"
   ]
  },
  {
   "cell_type": "code",
   "execution_count": null,
   "metadata": {},
   "outputs": [
    {
     "data": {
      "text/html": [
       "<div>\n",
       "<style scoped>\n",
       "    .dataframe tbody tr th:only-of-type {\n",
       "        vertical-align: middle;\n",
       "    }\n",
       "\n",
       "    .dataframe tbody tr th {\n",
       "        vertical-align: top;\n",
       "    }\n",
       "\n",
       "    .dataframe thead th {\n",
       "        text-align: right;\n",
       "    }\n",
       "</style>\n",
       "<table border=\"1\" class=\"dataframe\">\n",
       "  <thead>\n",
       "    <tr style=\"text-align: right;\">\n",
       "      <th></th>\n",
       "      <th>GENE_MUT</th>\n",
       "      <th>phenotype</th>\n",
       "    </tr>\n",
       "  </thead>\n",
       "  <tbody>\n",
       "    <tr>\n",
       "      <th>0</th>\n",
       "      <td>Rv0678_c-11a</td>\n",
       "      <td>S</td>\n",
       "    </tr>\n",
       "    <tr>\n",
       "      <th>1</th>\n",
       "      <td>pepQ_V238M</td>\n",
       "      <td>S</td>\n",
       "    </tr>\n",
       "    <tr>\n",
       "      <th>2</th>\n",
       "      <td>Rv0678_R50Q</td>\n",
       "      <td>S</td>\n",
       "    </tr>\n",
       "    <tr>\n",
       "      <th>3</th>\n",
       "      <td>Rv0678_E55D</td>\n",
       "      <td>S</td>\n",
       "    </tr>\n",
       "    <tr>\n",
       "      <th>4</th>\n",
       "      <td>Rv0678_142_ins_t</td>\n",
       "      <td>S</td>\n",
       "    </tr>\n",
       "    <tr>\n",
       "      <th>...</th>\n",
       "      <td>...</td>\n",
       "      <td>...</td>\n",
       "    </tr>\n",
       "    <tr>\n",
       "      <th>319</th>\n",
       "      <td>atpE_E61D</td>\n",
       "      <td>U</td>\n",
       "    </tr>\n",
       "    <tr>\n",
       "      <th>320</th>\n",
       "      <td>Rv0678_S2I</td>\n",
       "      <td>U</td>\n",
       "    </tr>\n",
       "    <tr>\n",
       "      <th>321</th>\n",
       "      <td>Rv0678_M139I</td>\n",
       "      <td>U</td>\n",
       "    </tr>\n",
       "    <tr>\n",
       "      <th>322</th>\n",
       "      <td>Rv0678_N98D</td>\n",
       "      <td>U</td>\n",
       "    </tr>\n",
       "    <tr>\n",
       "      <th>323</th>\n",
       "      <td>Rv0678_Q51R</td>\n",
       "      <td>U</td>\n",
       "    </tr>\n",
       "  </tbody>\n",
       "</table>\n",
       "<p>324 rows × 2 columns</p>\n",
       "</div>"
      ],
      "text/plain": [
       "             GENE_MUT phenotype\n",
       "0        Rv0678_c-11a         S\n",
       "1          pepQ_V238M         S\n",
       "2         Rv0678_R50Q         S\n",
       "3         Rv0678_E55D         S\n",
       "4    Rv0678_142_ins_t         S\n",
       "..                ...       ...\n",
       "319         atpE_E61D         U\n",
       "320        Rv0678_S2I         U\n",
       "321      Rv0678_M139I         U\n",
       "322       Rv0678_N98D         U\n",
       "323       Rv0678_Q51R         U\n",
       "\n",
       "[324 rows x 2 columns]"
      ]
     },
     "execution_count": 18,
     "metadata": {},
     "output_type": "execute_result"
    }
   ],
   "source": [
    "catalogue_09 = BuildCatalogue(samples, mutations_no_mmpL5, 0.9).return_catalogue()\n",
    "catalogue_09 = (\n",
    "    pd.DataFrame.from_dict(catalogue_09, orient=\"index\")\n",
    "    .reset_index(0)\n",
    "    .rename(columns={\"index\": \"GENE_MUT\", 0: \"phenotype\"})\n",
    ")\n",
    "catalogue_09"
   ]
  },
  {
   "cell_type": "code",
   "execution_count": null,
   "metadata": {},
   "outputs": [
    {
     "name": "stdout",
     "output_type": "stream",
     "text": [
      "[[390  60  68]\n",
      " [148 571 404]]\n",
      "Catalogue coverage of isolates: 0.712370505789153\n",
      "Catalogue coverage of mutations: 0.375\n",
      "Sensitivity: 0.8666666666666667\n",
      "Specificity: 0.7941585535465925\n"
     ]
    },
    {
     "data": {
      "text/plain": [
       "(array([0.5, 1.5]), [Text(0, 0.5, 'R'), Text(0, 1.5, 'S')])"
      ]
     },
     "execution_count": 19,
     "metadata": {},
     "output_type": "execute_result"
    },
    {
     "data": {
      "image/png": "[encoded data removed]",
      "text/plain": [
       "<Figure size 800x600 with 1 Axes>"
      ]
     },
     "metadata": {},
     "output_type": "display_data"
    }
   ],
   "source": [
    "cm = predict(all_no_mmpL5, catalogue_09, Print=True)[\"cm\"]\n",
    "df_cm = pd.DataFrame(cm, index=[\"R\", \"S\"], columns=[\"R\", \"S\", \"U\"])\n",
    "plt.figure(figsize=(8, 6))\n",
    "sns.set_context(\"talk\")\n",
    "sns.heatmap(df_cm, annot=True, cbar=False, fmt=\"g\", cmap=\"Greens\")\n",
    "plt.xticks(fontsize=12)\n",
    "plt.yticks(fontsize=12)"
   ]
  },
  {
   "cell_type": "markdown",
   "metadata": {},
   "source": [
    "#### Heterogenous"
   ]
  },
  {
   "cell_type": "code",
   "execution_count": null,
   "metadata": {},
   "outputs": [
    {
     "data": {
      "text/html": [
       "<div>\n",
       "<style scoped>\n",
       "    .dataframe tbody tr th:only-of-type {\n",
       "        vertical-align: middle;\n",
       "    }\n",
       "\n",
       "    .dataframe tbody tr th {\n",
       "        vertical-align: top;\n",
       "    }\n",
       "\n",
       "    .dataframe thead th {\n",
       "        text-align: right;\n",
       "    }\n",
       "</style>\n",
       "<table border=\"1\" class=\"dataframe\">\n",
       "  <thead>\n",
       "    <tr style=\"text-align: right;\">\n",
       "      <th></th>\n",
       "      <th>GENE_MUT</th>\n",
       "      <th>phenotype</th>\n",
       "    </tr>\n",
       "  </thead>\n",
       "  <tbody>\n",
       "    <tr>\n",
       "      <th>0</th>\n",
       "      <td>pepQ_V238M</td>\n",
       "      <td>S</td>\n",
       "    </tr>\n",
       "    <tr>\n",
       "      <th>1</th>\n",
       "      <td>Rv0678_R50Q</td>\n",
       "      <td>S</td>\n",
       "    </tr>\n",
       "    <tr>\n",
       "      <th>2</th>\n",
       "      <td>Rv0678_E55D</td>\n",
       "      <td>S</td>\n",
       "    </tr>\n",
       "    <tr>\n",
       "      <th>3</th>\n",
       "      <td>Rv0678_142_ins_t</td>\n",
       "      <td>S</td>\n",
       "    </tr>\n",
       "    <tr>\n",
       "      <th>4</th>\n",
       "      <td>Rv0678_G24S</td>\n",
       "      <td>S</td>\n",
       "    </tr>\n",
       "    <tr>\n",
       "      <th>...</th>\n",
       "      <td>...</td>\n",
       "      <td>...</td>\n",
       "    </tr>\n",
       "    <tr>\n",
       "      <th>419</th>\n",
       "      <td>Rv0678_S68N</td>\n",
       "      <td>R</td>\n",
       "    </tr>\n",
       "    <tr>\n",
       "      <th>420</th>\n",
       "      <td>Rv0678_L40M</td>\n",
       "      <td>R</td>\n",
       "    </tr>\n",
       "    <tr>\n",
       "      <th>421</th>\n",
       "      <td>Rv0678_325_ins_g</td>\n",
       "      <td>R</td>\n",
       "    </tr>\n",
       "    <tr>\n",
       "      <th>422</th>\n",
       "      <td>Rv0678_107_ins_g</td>\n",
       "      <td>R</td>\n",
       "    </tr>\n",
       "    <tr>\n",
       "      <th>423</th>\n",
       "      <td>Rv0678_c-11a</td>\n",
       "      <td>U</td>\n",
       "    </tr>\n",
       "  </tbody>\n",
       "</table>\n",
       "<p>424 rows × 2 columns</p>\n",
       "</div>"
      ],
      "text/plain": [
       "             GENE_MUT phenotype\n",
       "0          pepQ_V238M         S\n",
       "1         Rv0678_R50Q         S\n",
       "2         Rv0678_E55D         S\n",
       "3    Rv0678_142_ins_t         S\n",
       "4         Rv0678_G24S         S\n",
       "..                ...       ...\n",
       "419       Rv0678_S68N         R\n",
       "420       Rv0678_L40M         R\n",
       "421  Rv0678_325_ins_g         R\n",
       "422  Rv0678_107_ins_g         R\n",
       "423      Rv0678_c-11a         U\n",
       "\n",
       "[424 rows x 2 columns]"
      ]
     },
     "execution_count": 20,
     "metadata": {},
     "output_type": "execute_result"
    }
   ],
   "source": [
    "catalogue_01 = BuildCatalogue(samples, mutations_no_mmpL5, 0.1).return_catalogue()\n",
    "catalogue_01 = (\n",
    "    pd.DataFrame.from_dict(catalogue_01, orient=\"index\")\n",
    "    .reset_index(0)\n",
    "    .rename(columns={\"index\": \"GENE_MUT\", 0: \"phenotype\"})\n",
    ")\n",
    "catalogue_01"
   ]
  },
  {
   "cell_type": "code",
   "execution_count": null,
   "metadata": {},
   "outputs": [
    {
     "name": "stdout",
     "output_type": "stream",
     "text": [
      "[[421  70  27]\n",
      " [146 617 360]]\n",
      "Catalogue coverage of isolates: 0.7641681901279708\n",
      "Catalogue coverage of mutations: 0.49074074074074076\n",
      "Sensitivity: 0.8574338085539714\n",
      "Specificity: 0.8086500655307994\n"
     ]
    },
    {
     "data": {
      "text/plain": [
       "(array([0.5, 1.5]), [Text(0, 0.5, 'R'), Text(0, 1.5, 'S')])"
      ]
     },
     "execution_count": 21,
     "metadata": {},
     "output_type": "execute_result"
    },
    {
     "data": {
      "image/png": "[encoded data removed]",
      "text/plain": [
       "<Figure size 800x600 with 1 Axes>"
      ]
     },
     "metadata": {},
     "output_type": "display_data"
    }
   ],
   "source": [
    "cm = predict(all_no_mmpL5, catalogue_01, Print=True)[\"cm\"]\n",
    "df_cm = pd.DataFrame(cm, index=[\"R\", \"S\"], columns=[\"R\", \"S\", \"U\"])\n",
    "plt.figure(figsize=(8, 6))\n",
    "sns.set_context(\"talk\")\n",
    "sns.heatmap(df_cm, annot=True, cbar=False, fmt=\"g\", cmap=\"Greens\")\n",
    "plt.xticks(fontsize=12)\n",
    "plt.yticks(fontsize=12)"
   ]
  },
  {
   "cell_type": "code",
   "execution_count": null,
   "metadata": {},
   "outputs": [],
   "source": []
  },
  {
   "cell_type": "markdown",
   "metadata": {},
   "source": [
    "### Build and predict with cross validation"
   ]
  },
  {
   "cell_type": "markdown",
   "metadata": {},
   "source": [
    "#### Homogenous"
   ]
  },
  {
   "cell_type": "code",
   "execution_count": null,
   "metadata": {},
   "outputs": [
    {
     "name": "stdout",
     "output_type": "stream",
     "text": [
      "isolate_cov (0.5173252279635259, 0.031435096592943225)\n",
      "specificity (0.6934278003078422, 0.03389230105056328)\n",
      "sensitivity (0.8621113805684821, 0.02621879170546563)\n"
     ]
    },
    {
     "data": {
      "text/plain": [
       "(array([0.5, 1.5]), [Text(0, 0.5, 'R'), Text(0, 1.5, 'S')])"
      ]
     },
     "execution_count": 32,
     "metadata": {},
     "output_type": "execute_result"
    },
    {
     "data": {
      "image/png": "[encoded data removed]",
      "text/plain": [
       "<Figure size 800x500 with 1 Axes>"
      ]
     },
     "metadata": {},
     "output_type": "display_data"
    }
   ],
   "source": [
    "X = all_no_mmpL5.UNIQUEID.unique()\n",
    "y = []\n",
    "for i in X:\n",
    "    y.append(all_no_mmpL5[all_no_mmpL5.UNIQUEID == i].PHENOTYPE.tolist()[0])\n",
    "\n",
    "\n",
    "rs = ShuffleSplit(n_splits=5, test_size=0.2, random_state=7)\n",
    "train_indices, test_indices = [], []\n",
    "for i, (train_index, test_index) in enumerate(rs.split(X)):\n",
    "    train_indices.append(train_index)\n",
    "    test_indices.append(test_index)\n",
    "\n",
    "ax_arr = []\n",
    "\n",
    "isolate_cov, specificities, sensitivities, cms = [], [], [], []\n",
    "for fold in range(len(train_indices)):\n",
    "    train_ids, test_ids = [], []\n",
    "    for i in train_indices[fold]:\n",
    "        train_ids.append(X[i])\n",
    "    for j in test_indices[fold]:\n",
    "        test_ids.append(X[j])\n",
    "\n",
    "    train_samples = samples[samples.UNIQUEID.isin(train_ids)]\n",
    "    train_mutations = mutations_no_mmpL5[mutations_no_mmpL5.UNIQUEID.isin(train_ids)]\n",
    "    test_df = all_no_mmpL5[all_no_mmpL5.UNIQUEID.isin(test_ids)]\n",
    "\n",
    "    catalogue = BuildCatalogue(train_samples, train_mutations, 0.9).return_catalogue()\n",
    "    catalogue = (\n",
    "        pd.DataFrame.from_dict(catalogue, orient=\"index\")\n",
    "        .reset_index(0)\n",
    "        .rename(columns={\"index\": \"GENE_MUT\", 0: \"phenotype\"})\n",
    "    )\n",
    "    catalogue.index.rename(\"GENE_MUT\", inplace=True)\n",
    "\n",
    "    performance = predict(test_df, catalogue, Print=False)\n",
    "    isolate_cov.append(performance[\"isolate_cov\"])\n",
    "    specificities.append(performance[\"specificity\"])\n",
    "    sensitivities.append(performance[\"sensitivity\"])\n",
    "    cms.append(performance[\"cm\"])\n",
    "\n",
    "isolate_cov = (np.mean(isolate_cov), np.std(isolate_cov))\n",
    "specificity = (np.mean(specificities), np.std(specificities))\n",
    "sensitivity = (np.mean(sensitivities), np.std(sensitivities))\n",
    "\n",
    "print(\"isolate_cov\", isolate_cov)\n",
    "print(\"specificity\", specificity)\n",
    "print(\"sensitivity\", sensitivity)\n",
    "\n",
    "\n",
    "mean = np.mean(cms, axis=0)\n",
    "std = np.std(cms, axis=0)\n",
    "\n",
    "labels = [[], []]\n",
    "\n",
    "for i in range(len(mean)):\n",
    "    for j in range(len(mean[i])):\n",
    "        labels[i].append(\"%s\" % int(mean[i][j]))\n",
    "\n",
    "\n",
    "df_cm = pd.DataFrame(mean, index=[\"R\", \"S\"], columns=[\"R\", \"S\", \"U\"])\n",
    "plt.figure(figsize=(8, 5))\n",
    "sns.heatmap(df_cm, annot=labels, cbar=False, cmap=\"Greens\", fmt=\"\")\n",
    "plt.xticks(fontsize=12)\n",
    "plt.yticks(fontsize=12)"
   ]
  },
  {
   "cell_type": "code",
   "execution_count": null,
   "metadata": {},
   "outputs": [],
   "source": []
  },
  {
   "cell_type": "markdown",
   "metadata": {},
   "source": [
    "#### Heterogenous"
   ]
  },
  {
   "cell_type": "code",
   "execution_count": null,
   "metadata": {},
   "outputs": [
    {
     "name": "stdout",
     "output_type": "stream",
     "text": [
      "isolate_cov (0.5525835866261398, 0.01351131353853671)\n",
      "specificity (0.6684290987447243, 0.02809917261107198)\n",
      "sensitivity (0.804390188330372, 0.021557393909319877)\n"
     ]
    },
    {
     "data": {
      "text/plain": [
       "(array([0.5, 1.5]), [Text(0, 0.5, 'R'), Text(0, 1.5, 'S')])"
      ]
     },
     "execution_count": 33,
     "metadata": {},
     "output_type": "execute_result"
    },
    {
     "data": {
      "image/png": "[encoded data removed]",
      "text/plain": [
       "<Figure size 800x500 with 1 Axes>"
      ]
     },
     "metadata": {},
     "output_type": "display_data"
    }
   ],
   "source": [
    "X = all_no_mmpL5.UNIQUEID.unique()\n",
    "y = []\n",
    "for i in X:\n",
    "    y.append(all_no_mmpL5[all_no_mmpL5.UNIQUEID == i].PHENOTYPE.tolist()[0])\n",
    "\n",
    "\n",
    "rs = ShuffleSplit(n_splits=5, test_size=0.2, random_state=7)\n",
    "train_indices, test_indices = [], []\n",
    "for i, (train_index, test_index) in enumerate(rs.split(X)):\n",
    "    train_indices.append(train_index)\n",
    "    test_indices.append(test_index)\n",
    "\n",
    "ax_arr = []\n",
    "\n",
    "isolate_cov, specificities, sensitivities, cms = [], [], [], []\n",
    "for fold in range(len(train_indices)):\n",
    "    train_ids, test_ids = [], []\n",
    "    for i in train_indices[fold]:\n",
    "        train_ids.append(X[i])\n",
    "    for j in test_indices[fold]:\n",
    "        test_ids.append(X[j])\n",
    "\n",
    "    train_samples = samples[samples.UNIQUEID.isin(train_ids)]\n",
    "    train_mutations = mutations_no_mmpL5[mutations_no_mmpL5.UNIQUEID.isin(train_ids)]\n",
    "    test_df = all_no_mmpL5[all_no_mmpL5.UNIQUEID.isin(test_ids)]\n",
    "\n",
    "    catalogue = BuildCatalogue(train_samples, train_mutations, 0.1).return_catalogue()\n",
    "    catalogue = (\n",
    "        pd.DataFrame.from_dict(catalogue, orient=\"index\")\n",
    "        .reset_index(0)\n",
    "        .rename(columns={\"index\": \"GENE_MUT\", 0: \"phenotype\"})\n",
    "    )\n",
    "    catalogue.index.rename(\"GENE_MUT\", inplace=True)\n",
    "\n",
    "    performance = predict(test_df, catalogue, Print=False)\n",
    "    isolate_cov.append(performance[\"isolate_cov\"])\n",
    "    specificities.append(performance[\"specificity\"])\n",
    "    sensitivities.append(performance[\"sensitivity\"])\n",
    "    cms.append(performance[\"cm\"])\n",
    "\n",
    "isolate_cov = (np.mean(isolate_cov), np.std(isolate_cov))\n",
    "specificity = (np.mean(specificities), np.std(specificities))\n",
    "sensitivity = (np.mean(sensitivities), np.std(sensitivities))\n",
    "\n",
    "print(\"isolate_cov\", isolate_cov)\n",
    "print(\"specificity\", specificity)\n",
    "print(\"sensitivity\", sensitivity)\n",
    "\n",
    "\n",
    "mean = np.mean(cms, axis=0)\n",
    "std = np.std(cms, axis=0)\n",
    "\n",
    "labels = [[], []]\n",
    "\n",
    "for i in range(len(mean)):\n",
    "    for j in range(len(mean[i])):\n",
    "        labels[i].append(\"%s\" % int(mean[i][j]))\n",
    "\n",
    "\n",
    "df_cm = pd.DataFrame(mean, index=[\"R\", \"S\"], columns=[\"R\", \"S\", \"U\"])\n",
    "plt.figure(figsize=(8, 5))\n",
    "sns.heatmap(df_cm, annot=labels, cbar=False, cmap=\"Greens\", fmt=\"\")\n",
    "plt.xticks(fontsize=12)\n",
    "plt.yticks(fontsize=12)"
   ]
  },
  {
   "cell_type": "markdown",
   "metadata": {},
   "source": []
  },
  {
   "cell_type": "markdown",
   "metadata": {},
   "source": []
  },
  {
   "cell_type": "code",
   "execution_count": null,
   "metadata": {},
   "outputs": [
    {
     "data": {
      "text/html": [
       "<div>\n",
       "<style scoped>\n",
       "    .dataframe tbody tr th:only-of-type {\n",
       "        vertical-align: middle;\n",
       "    }\n",
       "\n",
       "    .dataframe tbody tr th {\n",
       "        vertical-align: top;\n",
       "    }\n",
       "\n",
       "    .dataframe thead th {\n",
       "        text-align: right;\n",
       "    }\n",
       "</style>\n",
       "<table border=\"1\" class=\"dataframe\">\n",
       "  <thead>\n",
       "    <tr style=\"text-align: right;\">\n",
       "      <th></th>\n",
       "      <th>GENE_MUT</th>\n",
       "      <th>FRS</th>\n",
       "      <th>MIC</th>\n",
       "      <th>binned_FRS</th>\n",
       "      <th>binned_MIC</th>\n",
       "    </tr>\n",
       "  </thead>\n",
       "  <tbody>\n",
       "    <tr>\n",
       "      <th>0</th>\n",
       "      <td>Rv0678_V120M</td>\n",
       "      <td>0.133</td>\n",
       "      <td>-5.058893689053568</td>\n",
       "      <td>0.1</td>\n",
       "      <td>-5.058893689053568</td>\n",
       "    </tr>\n",
       "    <tr>\n",
       "      <th>1</th>\n",
       "      <td>Rv0678_141_ins_c</td>\n",
       "      <td>0.596</td>\n",
       "      <td>-4.058893689053568</td>\n",
       "      <td>0.6</td>\n",
       "      <td>-4.058893689053568</td>\n",
       "    </tr>\n",
       "    <tr>\n",
       "      <th>2</th>\n",
       "      <td>Rv0678_138_ins_g</td>\n",
       "      <td>0.600</td>\n",
       "      <td>-1.0</td>\n",
       "      <td>0.6</td>\n",
       "      <td>-1.0</td>\n",
       "    </tr>\n",
       "    <tr>\n",
       "      <th>3</th>\n",
       "      <td>Rv0678_138_ins_g</td>\n",
       "      <td>0.462</td>\n",
       "      <td>-1.0</td>\n",
       "      <td>0.5</td>\n",
       "      <td>-1.0</td>\n",
       "    </tr>\n",
       "    <tr>\n",
       "      <th>4</th>\n",
       "      <td>Rv0678_141_ins_c</td>\n",
       "      <td>1.000</td>\n",
       "      <td>-3.0588936890535687</td>\n",
       "      <td>1.0</td>\n",
       "      <td>-3.0588936890535687</td>\n",
       "    </tr>\n",
       "    <tr>\n",
       "      <th>...</th>\n",
       "      <td>...</td>\n",
       "      <td>...</td>\n",
       "      <td>...</td>\n",
       "      <td>...</td>\n",
       "      <td>...</td>\n",
       "    </tr>\n",
       "    <tr>\n",
       "      <th>449</th>\n",
       "      <td>Rv0678_L40F</td>\n",
       "      <td>1.000</td>\n",
       "      <td>-1.0</td>\n",
       "      <td>1.0</td>\n",
       "      <td>-1.0</td>\n",
       "    </tr>\n",
       "    <tr>\n",
       "      <th>450</th>\n",
       "      <td>mmpL5_L709I</td>\n",
       "      <td>1.000</td>\n",
       "      <td>-1.0</td>\n",
       "      <td>1.0</td>\n",
       "      <td>-1.0</td>\n",
       "    </tr>\n",
       "    <tr>\n",
       "      <th>451</th>\n",
       "      <td>Rv0678_325_ins_g</td>\n",
       "      <td>1.000</td>\n",
       "      <td>0.0</td>\n",
       "      <td>1.0</td>\n",
       "      <td>0.0</td>\n",
       "    </tr>\n",
       "    <tr>\n",
       "      <th>452</th>\n",
       "      <td>Rv0678_138_ins_g</td>\n",
       "      <td>1.000</td>\n",
       "      <td>-2.0</td>\n",
       "      <td>1.0</td>\n",
       "      <td>-2.0</td>\n",
       "    </tr>\n",
       "    <tr>\n",
       "      <th>453</th>\n",
       "      <td>Rv0678_107_ins_g</td>\n",
       "      <td>1.000</td>\n",
       "      <td>-1.0</td>\n",
       "      <td>1.0</td>\n",
       "      <td>-1.0</td>\n",
       "    </tr>\n",
       "  </tbody>\n",
       "</table>\n",
       "<p>454 rows × 5 columns</p>\n",
       "</div>"
      ],
      "text/plain": [
       "             GENE_MUT    FRS                  MIC binned_FRS  \\\n",
       "0        Rv0678_V120M  0.133   -5.058893689053568        0.1   \n",
       "1    Rv0678_141_ins_c  0.596   -4.058893689053568        0.6   \n",
       "2    Rv0678_138_ins_g  0.600                 -1.0        0.6   \n",
       "3    Rv0678_138_ins_g  0.462                 -1.0        0.5   \n",
       "4    Rv0678_141_ins_c  1.000  -3.0588936890535687        1.0   \n",
       "..                ...    ...                  ...        ...   \n",
       "449       Rv0678_L40F  1.000                 -1.0        1.0   \n",
       "450       mmpL5_L709I  1.000                 -1.0        1.0   \n",
       "451  Rv0678_325_ins_g  1.000                  0.0        1.0   \n",
       "452  Rv0678_138_ins_g  1.000                 -2.0        1.0   \n",
       "453  Rv0678_107_ins_g  1.000                 -1.0        1.0   \n",
       "\n",
       "              binned_MIC  \n",
       "0     -5.058893689053568  \n",
       "1     -4.058893689053568  \n",
       "2                   -1.0  \n",
       "3                   -1.0  \n",
       "4    -3.0588936890535687  \n",
       "..                   ...  \n",
       "449                 -1.0  \n",
       "450                 -1.0  \n",
       "451                  0.0  \n",
       "452                 -2.0  \n",
       "453                 -1.0  \n",
       "\n",
       "[454 rows x 5 columns]"
      ]
     },
     "execution_count": 55,
     "metadata": {},
     "output_type": "execute_result"
    },
    {
     "data": {
      "text/plain": [
       "<Figure size 800x700 with 0 Axes>"
      ]
     },
     "metadata": {},
     "output_type": "display_data"
    }
   ],
   "source": [
    "sns.set_context(\"notebook\")\n",
    "\n",
    "\n",
    "samples = pd.merge(genomes, phenotypes, on=[\"UNIQUEID\"], how=\"inner\")\n",
    "all = pd.merge(samples, mutations, on=\"UNIQUEID\", how=\"left\")\n",
    "all['MIC_FLOAT'] = Helpers.mic_to_float(list(all['METHOD_MIC']))\n",
    "\n",
    "catalogue_01 = BuildCatalogue(samples, mutations, 0.1).return_catalogue()\n",
    "catalogue_01 = (\n",
    "    pd.DataFrame.from_dict(catalogue_01, orient=\"index\")\n",
    "    .reset_index(0)\n",
    "    .rename(columns={\"index\": \"GENE_MUT\", 0: \"phenotype\"})\n",
    ")\n",
    "\n",
    "R_muts = catalogue_01[catalogue_01.phenotype == \"R\"].GENE_MUT.tolist()\n",
    "# should only look at samples with a single R mutation (can have multipled S) that has been catalogued as R\n",
    "ids, solo_Rs = all.UNIQUEID.unique(), []\n",
    "for i in ids:\n",
    "    df = all[all.UNIQUEID == i]\n",
    "    if len(df[(df.GENE_MUT.isin(R_muts))]) == 1:\n",
    "        solo_Rs.append(i)\n",
    "\n",
    "plt.figure(figsize=(8, 7))\n",
    "df = pd.DataFrame.from_dict(\n",
    "    {\n",
    "        \"GENE_MUT\": all[\n",
    "            (all.UNIQUEID.isin(solo_Rs)) & (all.GENE_MUT.isin(R_muts))\n",
    "        ].GENE_MUT.tolist(),\n",
    "        \"FRS\": all[\n",
    "            (all.UNIQUEID.isin(solo_Rs)) & (all.GENE_MUT.isin(R_muts))\n",
    "        ].FRS.tolist(),\n",
    "        \"MIC\": [\n",
    "            str(i)\n",
    "            for i in np.log2(\n",
    "                (\n",
    "                    all[\n",
    "                        (all.UNIQUEID.isin(solo_Rs)) & (all.GENE_MUT.isin(R_muts))\n",
    "                    ].MIC_FLOAT\n",
    "                )\n",
    "            ).tolist()\n",
    "        ],\n",
    "    }\n",
    ")\n",
    "df[\"binned_FRS\"] = [str(round(i, 1)) for i in df.FRS.tolist()]\n",
    "df[\"binned_MIC\"] = [str(i) for i in df.MIC]\n",
    "df"
   ]
  },
  {
   "cell_type": "code",
   "execution_count": null,
   "metadata": {},
   "outputs": [
    {
     "data": {
      "text/plain": [
       "Index(['UNIQUEID', 'SITEID', 'SUBJID', 'LABID', 'ISOLATENO', 'SEQREPS',\n",
       "       'CLOCKWORK_VERSION', 'FTP_PATH', 'FTP_FILENAME_VCF', 'TREE_PATH',\n",
       "       'TREE_FILENAME_VCF', 'WGS_PREDICTION_STRING', 'DRUG', 'PHENOTYPE',\n",
       "       'METHOD_MIC', 'Unnamed: 0', 'GENE', 'MUTATION', 'REF', 'ALT',\n",
       "       'NUCLEOTIDE_NUMBER', 'NUCLEOTIDE_INDEX', 'GENE_POSITION',\n",
       "       'CODES_PROTEIN', 'INDEL_LENGTH', 'INDEL_NUCLEOTIDES',\n",
       "       'AMINO_ACID_NUMBER', 'AMINO_ACID_SEQUENCE', 'NUMBER_NUCLEOTIDE_CHANGES',\n",
       "       'IS_MINOR_ALLELE', 'MINOR_MUTATION', 'FRS', 'GENE_MUT'],\n",
       "      dtype='object')"
      ]
     },
     "execution_count": 40,
     "metadata": {},
     "output_type": "execute_result"
    }
   ],
   "source": [
    "all.columns"
   ]
  },
  {
   "cell_type": "code",
   "execution_count": null,
   "metadata": {},
   "outputs": [],
   "source": [
    "df[\"binned_FRS\"] = [str(round(i, 1)) for i in df.FRS.tolist()]\n",
    "df[\"binned_MIC\"] = [str(i) for i in df.MIC]\n",
    "df[\"Mutation\"] = [\n",
    "    i if i in [\"Rv0678_192_ins_g\", \"Rv0678_141_ins_c\"] else \"Rv0678\"\n",
    "    for i in df[\"GENE_MUT\"]\n",
    "]\n",
    "df = df.sort_values(by=[\"Mutation\"])"
   ]
  },
  {
   "cell_type": "code",
   "execution_count": null,
   "metadata": {},
   "outputs": [
    {
     "data": {
      "image/png": "[encoded data removed]",
      "text/plain": [
       "<Figure size 1000x500 with 1 Axes>"
      ]
     },
     "metadata": {},
     "output_type": "display_data"
    }
   ],
   "source": [
    "plt.figure(figsize=(10, 5))\n",
    "ax = sns.stripplot(data=df[df.FRS < 0.9], x=\"FRS\", y=\"MIC\", jitter=0.3, hue=\"Mutation\")\n",
    "ax.invert_yaxis()\n",
    "# ax = sns.scatterplot(x=all_bdq_sha[(all_bdq_sha.UNIQUEID.isin(solo_Rs))&(all_bdq_sha.GENE_MUT.isin(R_muts))].FRS, y=np.log2((all_bdq_sha[(all_bdq_sha.UNIQUEID.isin(solo_Rs))&(all_bdq_sha.GENE_MUT.isin(R_muts))].MIC_FLOAT)))\n",
    "# ax = sns.scatterplot(x=all_bdq_sha[(all_bdq_sha.UNIQUEID.isin(solo_Rs))&(all_bdq_sha.GENE_MUT.isin(R_muts))].FRS, y=np.log((all_bdq_sha[(all_bdq_sha.UNIQUEID.isin(solo_Rs))&(all_bdq_sha.GENE_MUT.isin(R_muts))].MIC_FLOAT)))\n",
    "ax.set(xlabel=\"Fraction Read Support\", ylabel=\"Bedaquiline MIC\")\n",
    "ax.set_yticks([0, 1, 2, 3], labels=[1.0, 2.0, 4.0, \">=8.0\"])\n",
    "plt.legend(fontsize=\"small\")\n",
    "plt.show()"
   ]
  },
  {
   "cell_type": "code",
   "execution_count": null,
   "metadata": {},
   "outputs": [],
   "source": []
  }
 ],
 "metadata": {
  "kernelspec": {
   "display_name": "BDQ_catalogue_builder",
   "language": "python",
   "name": "python3"
  },
  "language_info": {
   "codemirror_mode": {
    "name": "ipython",
    "version": 3
   },
   "file_extension": ".py",
   "mimetype": "text/x-python",
   "name": "python",
   "nbconvert_exporter": "python",
   "pygments_lexer": "ipython3",
   "version": "3.11.3"
  }
 },
 "nbformat": 4,
 "nbformat_minor": 2
}
