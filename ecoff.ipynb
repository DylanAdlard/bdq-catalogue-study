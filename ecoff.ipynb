{
 "cells": [
  {
   "cell_type": "code",
   "execution_count": 606,
   "metadata": {},
   "outputs": [
    {
     "name": "stdout",
     "output_type": "stream",
     "text": [
      "The autoreload extension is already loaded. To reload it, use:\n",
      "  %reload_ext autoreload\n"
     ]
    }
   ],
   "source": [
    "import pandas as pd\n",
    "\n",
    "import pandas as pd\n",
    "\n",
    "import numpy as np\n",
    "import seaborn as sns\n",
    "import sys\n",
    "import json\n",
    "import ast\n",
    "\n",
    "import matplotlib.image as mpimg\n",
    "from matplotlib_venn import venn2\n",
    "import matplotlib.pyplot as plt\n",
    "\n",
    "from scipy.optimize import minimize\n",
    "from scipy.stats import norm\n",
    "\n",
    "%load_ext autoreload\n",
    "\n",
    "%autoreload 2\n",
    "\n",
    "sys.path.append(\"../\")\n",
    "from protocols import utils\n",
    "\n",
    "import warnings\n",
    "warnings.filterwarnings(\n",
    "    \"ignore\",\n",
    "    category=RuntimeWarning,\n",
    "    message=\"invalid value encountered in scalar divide\",\n",
    ")"
   ]
  },
  {
   "cell_type": "code",
   "execution_count": 607,
   "metadata": {},
   "outputs": [],
   "source": [
    "mutations = pd.read_csv('./data/MUTATIONS_BDQ.csv.gz').reset_index()\n",
    "\n",
    "#read in the mutations tables, subsetted down to BDQ WHO-defined candidate genes\n",
    "mutations = pd.read_csv('./data/MUTATIONS_BDQ.csv.gz').reset_index()\n",
    "#GARC mutation naming\n",
    "mutations[\"MUTATION\"] = mutations.apply(\n",
    "    lambda x: f\"{x['GENE']}@{x['MINOR_MUTATION'] if x['IS_MINOR_ALLELE'] else x['MUTATION']}\",\n",
    "    axis=1,\n",
    ")\n",
    "#flag sysnonymous mutations\n",
    "mutations[\"IS_SYNONYMOUS\"] = mutations[\"MUTATION\"].apply(\n",
    "    lambda x: x.split(\"@\")[-1][0] == x.split(\"@\")[-1][-1]\n",
    ")\n",
    "#flag null calls\n",
    "mutations[\"IS_NULL\"] = mutations[\"MUTATION\"].apply(\n",
    "    lambda x: x.split(\"@\")[-1][-1]  == 'Z'\n",
    ")\n",
    "mutations[\"FRS\"] = mutations.apply(\n",
    "    lambda x: 1 if not x[\"IS_MINOR_ALLELE\"] else x[\"FRS\"], axis=1\n",
    ")\n",
    "\n",
    "#read in table of genomes\n",
    "genomes = pd.read_csv(\"./data/GENOMES.csv.gz\").reset_index()\n",
    "\n",
    "#read in cyrptic samples\n",
    "phenotypes_cryptic = pd.read_csv(\"./data/DST_MEASUREMENTS_BDQ_CRYPTIC.csv.gz\").reset_index()\n",
    "phenotypes_cryptic_samples = set(phenotypes_cryptic.UNIQUEID)\n",
    "#filter for high quality phenotypes from UKMYC5 and UKMYC6 plates\n",
    "phenotypes_cryptic = phenotypes_cryptic[phenotypes_cryptic.METHOD_3.isin(['UKMYC5','UKMYC6'])]\n",
    "phenotypes_cryptic = phenotypes_cryptic[phenotypes_cryptic.QUALITY=='HIGH']\n",
    "phenotypes_cryptic = phenotypes_cryptic[phenotypes_cryptic.UNIQUEID.isin(genomes.UNIQUEID)]\n",
    "\n",
    "assert phenotypes_cryptic.UNIQUEID.nunique() == len(phenotypes_cryptic.UNIQUEID), 'one or more samples have more than one DST measurement!'\n",
    "\n",
    "#read in new nicd samples\n",
    "phenotypes_nicd = pd.read_csv(\"./data/DST_MEASUREMENTS_BDQ_NICD.csv.gz\").reset_index()\n",
    "phenotypes_nicd_samples = set(phenotypes_nicd.UNIQUEID)\n",
    "#filter for mgit samples\n",
    "has_mgit = phenotypes_nicd[phenotypes_nicd.METHOD_CC=='WHO'].UNIQUEID\n",
    "phenotypes_nicd = phenotypes_nicd[phenotypes_nicd.UNIQUEID.isin(has_mgit)]\n",
    "#filter for samples with genomes\n",
    "phenotypes_nicd = phenotypes_nicd[phenotypes_nicd.UNIQUEID.isin(genomes.UNIQUEID)]\n",
    "# for samples with more than one DST result this will return the resistant one if they disagree and the MIC if they agree\n",
    "phenotypes_nicd = phenotypes_nicd.groupby(\"UNIQUEID\").apply(utils.filter_multiple_phenos)\n",
    "\n",
    "#combine cryptic and nicd phenotype tables\n",
    "assert len(phenotypes_nicd_samples.intersection(phenotypes_cryptic_samples)) == 0, \"data sets are not mutually exclusive!\"\n",
    "phenotypes = pd.concat([phenotypes_cryptic, phenotypes_nicd]) \n",
    "assert phenotypes.UNIQUEID.nunique() == len(phenotypes.UNIQUEID), 'one or more samples have more than one DST measurement!'\n",
    "\n",
    "#read in growth data of the cryptic plates\n",
    "growth = pd.read_csv(\"./data/UKMYC_GROWTH_BDQ.csv.gz\")\n",
    "\n",
    "samples = pd.merge(phenotypes, genomes, how='inner', on=['UNIQUEID'])[[\"UNIQUEID\", \"DRUG\", \"SOURCE\", \"METHOD_3\", \"PHENOTYPE\", \"METHOD_MIC\", \"METHOD_2\"]]\n",
    "\n",
    "all = pd.merge(mutations, samples, how='right', on=['UNIQUEID'])\n",
    "all.dropna(subset=['METHOD_MIC'], inplace=True)\n",
    "all['GENE'].fillna('None', inplace=True)\n"
   ]
  },
  {
   "cell_type": "code",
   "execution_count": 608,
   "metadata": {},
   "outputs": [],
   "source": [
    "synonymous_mgit = []\n",
    "synonymous_plate = []\n",
    "wt_mgit = []\n",
    "wt_plate = []\n",
    "\n",
    "for i in all.UNIQUEID.unique():\n",
    "    df = all[all.UNIQUEID == i]\n",
    "    if df.METHOD_2.iloc[0] == 'MGIT':\n",
    "        if len(df) == 1 and df.IS_SYNONYMOUS.iloc[0] == True:\n",
    "            synonymous_mgit.append(df.UNIQUEID.iloc[0])\n",
    "        elif pd.isna(df.MUTATION.iloc[0]):  \n",
    "            wt_mgit.append(df.UNIQUEID.iloc[0])\n",
    "    else:\n",
    "        if len(df) == 1 and df.IS_SYNONYMOUS.iloc[0] == True:\n",
    "            synonymous_plate.append(df.UNIQUEID.iloc[0])\n",
    "        elif pd.isna(df.MUTATION.iloc[0]):\n",
    "            wt_plate.append(df.UNIQUEID.iloc[0])\n",
    "\n",
    "mgit_wts = all[all.UNIQUEID.isin(synonymous_mgit+wt_mgit)]\n",
    "plate_wts = all[all.UNIQUEID.isin(synonymous_plate+wt_plate)]\n",
    "\n",
    "mgit_mutants = all[(all.METHOD_2=='MGIT')&(~all.UNIQUEID.isin(synonymous_mgit+wt_mgit))]\n",
    "plate_mutants = all[(all.METHOD_2=='microdilution plate')&(~all.UNIQUEID.isin(synonymous_plate+wt_plate))]"
   ]
  },
  {
   "cell_type": "code",
   "execution_count": 609,
   "metadata": {},
   "outputs": [
    {
     "data": {
      "text/plain": [
       "0.03       7276\n",
       "0.06       6391\n",
       "0.015      2845\n",
       "<=0.015    2840\n",
       "<=0.008    1263\n",
       "0.12       1076\n",
       "0.25        458\n",
       "0.5         158\n",
       "1.0          40\n",
       ">2           24\n",
       ">1           12\n",
       "2.0           6\n",
       "Name: METHOD_MIC, dtype: int64"
      ]
     },
     "execution_count": 609,
     "metadata": {},
     "output_type": "execute_result"
    }
   ],
   "source": [
    "all[all.METHOD_2=='microdilution plate'].METHOD_MIC.value_counts()"
   ]
  },
  {
   "cell_type": "code",
   "execution_count": 610,
   "metadata": {},
   "outputs": [],
   "source": [
    "def process_mic_data(df):\n",
    "    y_low = []\n",
    "    y_high = []\n",
    "\n",
    "    dilution_factor = 2\n",
    "    tail_dilution_factor = dilution_factor ** 3 #3 doubling dilutions (or 3 log2MICs) censored extension on either side\n",
    "\n",
    "    for mic in df['METHOD_MIC']:\n",
    "        if mic.startswith('<='):\n",
    "            lower_bound = float(mic[2:])\n",
    "            y_low.append(lower_bound / tail_dilution_factor)  # Adjust for left-censoring\n",
    "            y_high.append(lower_bound)\n",
    "        elif mic.startswith('>'):\n",
    "            upper_bound = float(mic[1:])\n",
    "            y_low.append(upper_bound)\n",
    "            y_high.append(upper_bound * tail_dilution_factor)  # Adjust for right-censoring\n",
    "        else:\n",
    "            # For exact MIC values, the interval is MIC - 1 doubling dilution\n",
    "            mic_value = float(mic)\n",
    "            y_low.append(mic_value / dilution_factor)\n",
    "            y_high.append(mic_value)\n",
    "            \n",
    "    #return lower and upper bound arrays rounded to 3 decimal places\n",
    "    return np.round(np.array(y_low), 3), np.round(np.array(y_high), 3)\n",
    "\n",
    "\n",
    "#Interval regression:\n",
    "    #We are trying to estimate parameters of a normal distribution (mu, sigma) \n",
    "    #need a log likelihood function to measure how likely observed data is given these parameters\n",
    "    #we maximise this likelihood to regress the interval censored MICs to find best parameters\n",
    "\n",
    "def log_likelihood(params, y_low, y_high):\n",
    "\n",
    "    mu, sigma = params\n",
    "\n",
    "    log_L = 0\n",
    "\n",
    "    # likelihood function for left-censored values\n",
    "    left_censored = np.isclose(y_low, -9.96578428) | np.isclose(y_low, -8.96578428)\n",
    "    if np.any(left_censored):\n",
    "        log_L += np.sum(norm.logcdf((y_high[left_censored] - mu) / sigma))\n",
    "\n",
    "    # likelihood function for right-censored values\n",
    "    right_censored = np.isclose(y_high, 2) | np.isclose(y_high, 3)\n",
    "    if np.any(right_censored):\n",
    "        log_L += np.sum(np.log(1 - norm.cdf((y_low[right_censored] - mu) / sigma)))\n",
    "\n",
    "    # likelihood function for intervals\n",
    "    interval_censored = ~left_censored & ~right_censored & (y_low != y_high)\n",
    "    if np.any(interval_censored):\n",
    "        log_L += np.sum(\n",
    "            np.log(\n",
    "                norm.cdf((y_high[interval_censored] - mu) / sigma)\n",
    "                - norm.cdf((y_low[interval_censored] - mu) / sigma)\n",
    "            )\n",
    "        )\n",
    "    return -log_L\n"
   ]
  },
  {
   "cell_type": "code",
   "execution_count": 611,
   "metadata": {},
   "outputs": [],
   "source": [
    "#WT samples:\n",
    "\n",
    "#convert MICs into intervals (lower and upper bounds)\n",
    "y_low, y_high= process_mic_data(plate_wts)\n",
    "#log transform upper and lower bound arrays\n",
    "y_low_log = np.log2(y_low, where=(y_low > 0))\n",
    "y_high_log = np.log2(y_high, where=(y_high > 0))\n",
    "#generate initial gaussian parameters\n",
    "initial_params = [np.mean(y_high_log), np.std(y_high_log)]\n",
    "#minimise the log likelihood function \n",
    "result = minimize(log_likelihood, initial_params, args=(y_low_log, y_high_log), method='L-BFGS-B')\n",
    "#fitted distributions mean and std\n",
    "mu_hat, sigma_hat = result.x\n",
    "#99th percentile =  (log(ecoff))\n",
    "z_99 = mu_hat + 2.3263 * sigma_hat\n",
    "#calculate ecoff (absolute)\n",
    "ecoff = np.exp2(z_99)"
   ]
  },
  {
   "cell_type": "code",
   "execution_count": 612,
   "metadata": {},
   "outputs": [
    {
     "name": "stdout",
     "output_type": "stream",
     "text": [
      "log2(ECOFF): -1.9155282931414082\n",
      "ECOFF: 0.26507485115950247\n"
     ]
    }
   ],
   "source": [
    "print ('log2(ECOFF):', z_99)\n",
    "print ('ECOFF:', ecoff)"
   ]
  },
  {
   "cell_type": "code",
   "execution_count": 613,
   "metadata": {},
   "outputs": [],
   "source": [
    "#Mutant samples:\n",
    "\n",
    "#convert MICs into intervals (lower and upper bounds)\n",
    "y_low_mutant, y_high_mutant= process_mic_data(plate_mutants)\n",
    "#log transform upper and lower bound arrays\n",
    "y_low_mutant_log = np.log2(y_low_mutant, where=(y_low_mutant > 0))\n",
    "y_high_mutant_log = np.log2(y_high_mutant, where=(y_high_mutant > 0))\n",
    "#generate initial gaussian parameters\n",
    "initial_params = [np.mean(y_high_mutant_log), np.std(y_high_mutant_log)]\n",
    "#minimise the log likelihood function \n",
    "result_mutant = minimize(log_likelihood, initial_params, args=(y_low_mutant_log, y_high_mutant_log), method='L-BFGS-B')\n",
    "#fitted distributions mean and std\n",
    "mu_hat_mutant, sigma_hat_mutant = result_mutant.x"
   ]
  },
  {
   "cell_type": "code",
   "execution_count": 622,
   "metadata": {},
   "outputs": [
    {
     "data": {
      "image/png": "[encoded data removed]",
      "text/plain": [
       "<Figure size 800x400 with 1 Axes>"
      ]
     },
     "metadata": {},
     "output_type": "display_data"
    }
   ],
   "source": [
    "# Define common bin edges for both datasets - \n",
    "all_data = np.concatenate([y_high_log, y_high_mutant_log])\n",
    "bins = np.linspace(min(all_data), max(all_data), 36)\n",
    "\n",
    "plt.figure(figsize=(8, 4))\n",
    "# plot the histogram of the WT and mutant log2MIC data\n",
    "# to align the WT and mutant bars, set bins=bins (at the moment the density feature normalises the bars so sum(heights*width)=1)\n",
    "plt.hist(y_high_log, bins=bins, density=True, alpha=0.5, color='green', label='WT log2MIC')\n",
    "plt.hist(y_high_mutant_log, bins=bins, density=True, alpha=0.5, color='blue', label='Mutant log2MIC')\n",
    "# create x values for the WT and mutant fitted normal distribution curves\n",
    "wt_x_values = np.linspace(min(y_high_log), max(y_high_log), 1000)\n",
    "mutant_x_values = np.linspace(min(y_high_mutant_log), max(y_high_mutant_log), 1000)\n",
    "# calculate the fitted normal distribution curves\n",
    "wt_fitted_curve = (1 / (sigma_hat * np.sqrt(2 * np.pi))) * np.exp(-0.5 * ((wt_x_values - mu_hat) / sigma_hat) ** 2)\n",
    "mutant_fitted_curve = (1 / (sigma_hat_mutant * np.sqrt(2 * np.pi))) * np.exp(-0.5 * ((mutant_x_values - mu_hat_mutant) / sigma_hat_mutant) ** 2)\n",
    "# plot the WT and mutant fitted curves\n",
    "plt.plot(wt_x_values, wt_fitted_curve, color='darkgreen', linewidth=2, label=f'WT Fitted Curve\\n(mu={mu_hat:.2f}, sigma={sigma_hat:.2f})')\n",
    "plt.plot(mutant_x_values, mutant_fitted_curve, color='darkblue', linewidth=2, label=f'Mutant Fitted Curve\\n(mu={mu_hat_mutant:.2f}, sigma={sigma_hat_mutant:.2f})')\n",
    "# highlight the 99th percentile ECOFF\n",
    "plt.axvline(x=z_99, color='red', linestyle='--', linewidth=2, label='99th Percentile (log2(ECOFF))')\n",
    "\n",
    "plt.xlabel('log2(MIC)', fontsize=12)\n",
    "plt.ylabel('Density', fontsize=12)\n",
    "plt.title('Fitted Normal Distribution for WT and Mutant Samples with ECOFF', fontsize=10)\n",
    "plt.legend(frameon=False, fontsize=8)\n",
    "plt.gca().spines['top'].set_visible(False)\n",
    "plt.gca().spines['right'].set_visible(False)\n",
    "plt.tight_layout()\n",
    "plt.show()"
   ]
  },
  {
   "cell_type": "markdown",
   "metadata": {},
   "source": [
    "Our ECOFF remains the same as that published in the cryptic ecoff paper ~ 0.25.\n",
    "\n",
    "Its interesting to note, very few mutant demonstrate elevated MICs on the plate - not resistant?\n",
    "\n",
    "Mean of wts is higher than mutants - looks odd, but there are like 10000 mutant samples and < 10 WT, so..."
   ]
  },
  {
   "cell_type": "markdown",
   "metadata": {},
   "source": [
    "Those wt samples on the far right are really annoying - wonder if i can justify getting rid of them? The bar is because we're plotting the higher bound of the interval, for the truncated bits which are not not on the plate. So don't be too misled by that bar the question is can we get rid of wt samples with v high MICs? Probs not"
   ]
  },
  {
   "cell_type": "markdown",
   "metadata": {},
   "source": [
    "## To think about:\n",
    "- 99th percentile of genetically WT distribution is simple and seems to work, but there are other options:\n",
    "    - Claudio mentioned taking the lower 99th percentile of the non-WT population (assuming he meant phenotypic) - because we care about the non-WTs and some drugs have overlapping distributions\n",
    "    - but, could also explore:\n",
    "    -   Bayesian mixed model of MICs as a mixture of WT and non-WT distributions and use bayesian inference to estimate the most probably cutff point. This could return intervals within with the cutoff is likely to fall (as oppose to single percentile point), accounting for uncertainty\n",
    "    - Could also think about ROC curve analysis - calculate tradeoff between sensitivty and specifcity bu considering different cutoff points and calculating TPR and FPR\n",
    "\n",
    "- Should validate on other drugs - see what we get and compare to ecoff paper to make sure we've replicated sufficiently"
   ]
  },
  {
   "cell_type": "markdown",
   "metadata": {},
   "source": [
    "Something to think about - when using interval regression for MIC classifications, one could convert those MIC labels to ternary labels using some threshold (ecoff or perhaps calculated each time?). If this was done dynamically, those that are S could be removed to proffer additional solos - or perhaps, even added to the wt samples to recalculate the threshold? What would the benefit of this be? Probs just overcomplicated and would shift wt mean right, making it harder to classify S - a table of identical MICs with different ternay labels would look very odd. \n",
    "\n",
    "Need to make sure Josh did in fact fit the ression model to solos... and if not, why not?"
   ]
  },
  {
   "cell_type": "markdown",
   "metadata": {},
   "source": [
    "Also, remember although these are a tonne of samples - they are old plates ahdn thus for BDQ mostly S. The mgit samplesa re the really vaulable ones, but cant reclculate ecoff for that. Nor does it look like we can lower the ecoff for the plates.\n",
    "\n",
    "So best to move on to interval ression. Can revist ecoff when binarising/ternarising MIC labels."
   ]
  },
  {
   "cell_type": "code",
   "execution_count": 616,
   "metadata": {},
   "outputs": [
    {
     "data": {
      "text/plain": [
       "array(['0.06', '<=0.015', '0.03', '0.12', '0.015', '<=0.008', '0.25',\n",
       "       '>1'], dtype=object)"
      ]
     },
     "execution_count": 616,
     "metadata": {},
     "output_type": "execute_result"
    }
   ],
   "source": [
    "plate_wts.METHOD_MIC.unique()"
   ]
  },
  {
   "cell_type": "code",
   "execution_count": null,
   "metadata": {},
   "outputs": [],
   "source": []
  }
 ],
 "metadata": {
  "language_info": {
   "name": "python"
  }
 },
 "nbformat": 4,
 "nbformat_minor": 2
}
