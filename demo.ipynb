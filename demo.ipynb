{
 "cells": [
  {
   "cell_type": "code",
   "execution_count": 2,
   "metadata": {},
   "outputs": [],
   "source": [
    "#need to run this twice due to bug in imported package\n",
    "\n",
    "import pandas as pd\n",
    "import matplotlib.pyplot as plt\n",
    "from sklearn.model_selection import ShuffleSplit\n",
    "import numpy as np\n",
    "import seaborn as sns\n",
    "import sys\n",
    "from scipy import stats\n",
    "\n",
    "sys.path.append(\"../\")\n",
    "from protocols import Helpers\n",
    "from protocols.BuildCatalogue3 import BuildCatalogue\n",
    "\n",
    "from protocols.Predict import predict"
   ]
  },
  {
   "cell_type": "markdown",
   "metadata": {},
   "source": [
    "## Data imports"
   ]
  },
  {
   "cell_type": "code",
   "execution_count": 3,
   "metadata": {},
   "outputs": [],
   "source": [
    "mutations = pd.read_csv(\"../../Data/cryptic2/tables/bdq_mutations.csv\")\n",
    "mutations[\"UNIQUEID\"] = [i[:-19] for i in mutations.UNIQUEID]\n",
    "\n",
    "genomes = pd.read_pickle(\"../../Data/cryptic2/tables/GENOMES.pkl.gz\").reset_index(0)\n",
    "\n",
    "phenotypes = pd.read_pickle(\n",
    "    \"../../Data/cryptic2/tables/PHENOTYPES.pkl.gz\"\n",
    ").reset_index()\n",
    "\n",
    "sha_phenotypes = pd.read_pickle(\n",
    "    \"../../Data/tables/shaheed_tables/DST_MEASUREMENTS.pkl.gz\"\n",
    ").reset_index()\n",
    "sha_phenotypes = sha_phenotypes[sha_phenotypes.DRUG == \"BDQ\"][\n",
    "    [\"UNIQUEID\", \"DRUG\", \"PHENOTYPE\", \"METHOD_MIC\"]\n",
    "]\n"
   ]
  },
  {
   "cell_type": "markdown",
   "metadata": {},
   "source": [
    "## Data prep for catalogue building"
   ]
  },
  {
   "cell_type": "code",
   "execution_count": 4,
   "metadata": {},
   "outputs": [
    {
     "data": {
      "text/html": [
       "<div>\n",
       "<style scoped>\n",
       "    .dataframe tbody tr th:only-of-type {\n",
       "        vertical-align: middle;\n",
       "    }\n",
       "\n",
       "    .dataframe tbody tr th {\n",
       "        vertical-align: top;\n",
       "    }\n",
       "\n",
       "    .dataframe thead th {\n",
       "        text-align: right;\n",
       "    }\n",
       "</style>\n",
       "<table border=\"1\" class=\"dataframe\">\n",
       "  <thead>\n",
       "    <tr style=\"text-align: right;\">\n",
       "      <th></th>\n",
       "      <th>Unnamed: 0</th>\n",
       "      <th>UNIQUEID</th>\n",
       "      <th>GENE</th>\n",
       "      <th>MUTATION</th>\n",
       "      <th>REF</th>\n",
       "      <th>ALT</th>\n",
       "      <th>NUCLEOTIDE_NUMBER</th>\n",
       "      <th>NUCLEOTIDE_INDEX</th>\n",
       "      <th>GENE_POSITION</th>\n",
       "      <th>CODES_PROTEIN</th>\n",
       "      <th>INDEL_LENGTH</th>\n",
       "      <th>INDEL_NUCLEOTIDES</th>\n",
       "      <th>AMINO_ACID_NUMBER</th>\n",
       "      <th>AMINO_ACID_SEQUENCE</th>\n",
       "      <th>NUMBER_NUCLEOTIDE_CHANGES</th>\n",
       "      <th>IS_MINOR_ALLELE</th>\n",
       "      <th>MINOR_MUTATION</th>\n",
       "      <th>FRS</th>\n",
       "      <th>GENE_MUT</th>\n",
       "    </tr>\n",
       "  </thead>\n",
       "  <tbody>\n",
       "    <tr>\n",
       "      <th>0</th>\n",
       "      <td>1182</td>\n",
       "      <td>site.01.subj.DR0682.lab.DR0682.iso.1</td>\n",
       "      <td>mmpL5</td>\n",
       "      <td>D767N</td>\n",
       "      <td>gac</td>\n",
       "      <td>aac</td>\n",
       "      <td>NaN</td>\n",
       "      <td>NaN</td>\n",
       "      <td>767.0</td>\n",
       "      <td>True</td>\n",
       "      <td>NaN</td>\n",
       "      <td>NaN</td>\n",
       "      <td>767.0</td>\n",
       "      <td>N</td>\n",
       "      <td>1.0</td>\n",
       "      <td>False</td>\n",
       "      <td>NaN</td>\n",
       "      <td>1.0</td>\n",
       "      <td>mmpL5_D767N</td>\n",
       "    </tr>\n",
       "    <tr>\n",
       "      <th>1</th>\n",
       "      <td>1183</td>\n",
       "      <td>site.01.subj.DR0682.lab.DR0682.iso.1</td>\n",
       "      <td>mmpL5</td>\n",
       "      <td>T794I</td>\n",
       "      <td>acc</td>\n",
       "      <td>atc</td>\n",
       "      <td>NaN</td>\n",
       "      <td>NaN</td>\n",
       "      <td>794.0</td>\n",
       "      <td>True</td>\n",
       "      <td>NaN</td>\n",
       "      <td>NaN</td>\n",
       "      <td>794.0</td>\n",
       "      <td>I</td>\n",
       "      <td>1.0</td>\n",
       "      <td>False</td>\n",
       "      <td>NaN</td>\n",
       "      <td>1.0</td>\n",
       "      <td>mmpL5_T794I</td>\n",
       "    </tr>\n",
       "    <tr>\n",
       "      <th>2</th>\n",
       "      <td>1184</td>\n",
       "      <td>site.01.subj.DR0682.lab.DR0682.iso.1</td>\n",
       "      <td>mmpL5</td>\n",
       "      <td>I948V</td>\n",
       "      <td>att</td>\n",
       "      <td>gtt</td>\n",
       "      <td>NaN</td>\n",
       "      <td>NaN</td>\n",
       "      <td>948.0</td>\n",
       "      <td>True</td>\n",
       "      <td>NaN</td>\n",
       "      <td>NaN</td>\n",
       "      <td>948.0</td>\n",
       "      <td>V</td>\n",
       "      <td>1.0</td>\n",
       "      <td>False</td>\n",
       "      <td>NaN</td>\n",
       "      <td>1.0</td>\n",
       "      <td>mmpL5_I948V</td>\n",
       "    </tr>\n",
       "    <tr>\n",
       "      <th>3</th>\n",
       "      <td>1583</td>\n",
       "      <td>site.01.subj.DR0674.lab.DR0674.iso.1</td>\n",
       "      <td>mmpL5</td>\n",
       "      <td>I948V</td>\n",
       "      <td>att</td>\n",
       "      <td>gtt</td>\n",
       "      <td>NaN</td>\n",
       "      <td>NaN</td>\n",
       "      <td>948.0</td>\n",
       "      <td>True</td>\n",
       "      <td>NaN</td>\n",
       "      <td>NaN</td>\n",
       "      <td>948.0</td>\n",
       "      <td>V</td>\n",
       "      <td>1.0</td>\n",
       "      <td>False</td>\n",
       "      <td>NaN</td>\n",
       "      <td>1.0</td>\n",
       "      <td>mmpL5_I948V</td>\n",
       "    </tr>\n",
       "    <tr>\n",
       "      <th>4</th>\n",
       "      <td>3729</td>\n",
       "      <td>site.01.subj.DR0134.lab.DR0134.iso.1</td>\n",
       "      <td>mmpL5</td>\n",
       "      <td>T794I</td>\n",
       "      <td>acc</td>\n",
       "      <td>atc</td>\n",
       "      <td>NaN</td>\n",
       "      <td>NaN</td>\n",
       "      <td>794.0</td>\n",
       "      <td>True</td>\n",
       "      <td>NaN</td>\n",
       "      <td>NaN</td>\n",
       "      <td>794.0</td>\n",
       "      <td>I</td>\n",
       "      <td>1.0</td>\n",
       "      <td>False</td>\n",
       "      <td>NaN</td>\n",
       "      <td>1.0</td>\n",
       "      <td>mmpL5_T794I</td>\n",
       "    </tr>\n",
       "    <tr>\n",
       "      <th>...</th>\n",
       "      <td>...</td>\n",
       "      <td>...</td>\n",
       "      <td>...</td>\n",
       "      <td>...</td>\n",
       "      <td>...</td>\n",
       "      <td>...</td>\n",
       "      <td>...</td>\n",
       "      <td>...</td>\n",
       "      <td>...</td>\n",
       "      <td>...</td>\n",
       "      <td>...</td>\n",
       "      <td>...</td>\n",
       "      <td>...</td>\n",
       "      <td>...</td>\n",
       "      <td>...</td>\n",
       "      <td>...</td>\n",
       "      <td>...</td>\n",
       "      <td>...</td>\n",
       "      <td>...</td>\n",
       "    </tr>\n",
       "    <tr>\n",
       "      <th>95071</th>\n",
       "      <td>56524506</td>\n",
       "      <td>site.07.subj.FD_127_4342.lab.14.iso.1</td>\n",
       "      <td>mmpL5</td>\n",
       "      <td>Q440R</td>\n",
       "      <td>cag</td>\n",
       "      <td>cgg</td>\n",
       "      <td>NaN</td>\n",
       "      <td>NaN</td>\n",
       "      <td>440.0</td>\n",
       "      <td>True</td>\n",
       "      <td>NaN</td>\n",
       "      <td>NaN</td>\n",
       "      <td>440.0</td>\n",
       "      <td>R</td>\n",
       "      <td>1.0</td>\n",
       "      <td>False</td>\n",
       "      <td>NaN</td>\n",
       "      <td>1.0</td>\n",
       "      <td>mmpL5_Q440R</td>\n",
       "    </tr>\n",
       "    <tr>\n",
       "      <th>95072</th>\n",
       "      <td>56524507</td>\n",
       "      <td>site.07.subj.FD_127_4342.lab.14.iso.1</td>\n",
       "      <td>mmpL5</td>\n",
       "      <td>I948V</td>\n",
       "      <td>att</td>\n",
       "      <td>gtt</td>\n",
       "      <td>NaN</td>\n",
       "      <td>NaN</td>\n",
       "      <td>948.0</td>\n",
       "      <td>True</td>\n",
       "      <td>NaN</td>\n",
       "      <td>NaN</td>\n",
       "      <td>948.0</td>\n",
       "      <td>V</td>\n",
       "      <td>1.0</td>\n",
       "      <td>False</td>\n",
       "      <td>NaN</td>\n",
       "      <td>1.0</td>\n",
       "      <td>mmpL5_I948V</td>\n",
       "    </tr>\n",
       "    <tr>\n",
       "      <th>95073</th>\n",
       "      <td>56524802</td>\n",
       "      <td>site.07.subj.B0F0114D-F7FB-45CF-9242-FBEF9B3FA...</td>\n",
       "      <td>mmpL5</td>\n",
       "      <td>V344L</td>\n",
       "      <td>gtc</td>\n",
       "      <td>ctc</td>\n",
       "      <td>NaN</td>\n",
       "      <td>NaN</td>\n",
       "      <td>344.0</td>\n",
       "      <td>True</td>\n",
       "      <td>NaN</td>\n",
       "      <td>NaN</td>\n",
       "      <td>344.0</td>\n",
       "      <td>L</td>\n",
       "      <td>1.0</td>\n",
       "      <td>False</td>\n",
       "      <td>NaN</td>\n",
       "      <td>1.0</td>\n",
       "      <td>mmpL5_V344L</td>\n",
       "    </tr>\n",
       "    <tr>\n",
       "      <th>95074</th>\n",
       "      <td>56524803</td>\n",
       "      <td>site.07.subj.B0F0114D-F7FB-45CF-9242-FBEF9B3FA...</td>\n",
       "      <td>mmpL5</td>\n",
       "      <td>I948V</td>\n",
       "      <td>att</td>\n",
       "      <td>gtt</td>\n",
       "      <td>NaN</td>\n",
       "      <td>NaN</td>\n",
       "      <td>948.0</td>\n",
       "      <td>True</td>\n",
       "      <td>NaN</td>\n",
       "      <td>NaN</td>\n",
       "      <td>948.0</td>\n",
       "      <td>V</td>\n",
       "      <td>1.0</td>\n",
       "      <td>False</td>\n",
       "      <td>NaN</td>\n",
       "      <td>1.0</td>\n",
       "      <td>mmpL5_I948V</td>\n",
       "    </tr>\n",
       "    <tr>\n",
       "      <th>95075</th>\n",
       "      <td>56526252</td>\n",
       "      <td>site.07.subj.FD_127_2228.lab.13.iso.1</td>\n",
       "      <td>mmpL5</td>\n",
       "      <td>I948V</td>\n",
       "      <td>att</td>\n",
       "      <td>gtt</td>\n",
       "      <td>NaN</td>\n",
       "      <td>NaN</td>\n",
       "      <td>948.0</td>\n",
       "      <td>True</td>\n",
       "      <td>NaN</td>\n",
       "      <td>NaN</td>\n",
       "      <td>948.0</td>\n",
       "      <td>V</td>\n",
       "      <td>1.0</td>\n",
       "      <td>False</td>\n",
       "      <td>NaN</td>\n",
       "      <td>1.0</td>\n",
       "      <td>mmpL5_I948V</td>\n",
       "    </tr>\n",
       "  </tbody>\n",
       "</table>\n",
       "<p>95076 rows × 19 columns</p>\n",
       "</div>"
      ],
      "text/plain": [
       "       Unnamed: 0                                           UNIQUEID   GENE  \\\n",
       "0            1182               site.01.subj.DR0682.lab.DR0682.iso.1  mmpL5   \n",
       "1            1183               site.01.subj.DR0682.lab.DR0682.iso.1  mmpL5   \n",
       "2            1184               site.01.subj.DR0682.lab.DR0682.iso.1  mmpL5   \n",
       "3            1583               site.01.subj.DR0674.lab.DR0674.iso.1  mmpL5   \n",
       "4            3729               site.01.subj.DR0134.lab.DR0134.iso.1  mmpL5   \n",
       "...           ...                                                ...    ...   \n",
       "95071    56524506              site.07.subj.FD_127_4342.lab.14.iso.1  mmpL5   \n",
       "95072    56524507              site.07.subj.FD_127_4342.lab.14.iso.1  mmpL5   \n",
       "95073    56524802  site.07.subj.B0F0114D-F7FB-45CF-9242-FBEF9B3FA...  mmpL5   \n",
       "95074    56524803  site.07.subj.B0F0114D-F7FB-45CF-9242-FBEF9B3FA...  mmpL5   \n",
       "95075    56526252              site.07.subj.FD_127_2228.lab.13.iso.1  mmpL5   \n",
       "\n",
       "      MUTATION  REF  ALT  NUCLEOTIDE_NUMBER  NUCLEOTIDE_INDEX  GENE_POSITION  \\\n",
       "0        D767N  gac  aac                NaN               NaN          767.0   \n",
       "1        T794I  acc  atc                NaN               NaN          794.0   \n",
       "2        I948V  att  gtt                NaN               NaN          948.0   \n",
       "3        I948V  att  gtt                NaN               NaN          948.0   \n",
       "4        T794I  acc  atc                NaN               NaN          794.0   \n",
       "...        ...  ...  ...                ...               ...            ...   \n",
       "95071    Q440R  cag  cgg                NaN               NaN          440.0   \n",
       "95072    I948V  att  gtt                NaN               NaN          948.0   \n",
       "95073    V344L  gtc  ctc                NaN               NaN          344.0   \n",
       "95074    I948V  att  gtt                NaN               NaN          948.0   \n",
       "95075    I948V  att  gtt                NaN               NaN          948.0   \n",
       "\n",
       "       CODES_PROTEIN  INDEL_LENGTH INDEL_NUCLEOTIDES  AMINO_ACID_NUMBER  \\\n",
       "0               True           NaN               NaN              767.0   \n",
       "1               True           NaN               NaN              794.0   \n",
       "2               True           NaN               NaN              948.0   \n",
       "3               True           NaN               NaN              948.0   \n",
       "4               True           NaN               NaN              794.0   \n",
       "...              ...           ...               ...                ...   \n",
       "95071           True           NaN               NaN              440.0   \n",
       "95072           True           NaN               NaN              948.0   \n",
       "95073           True           NaN               NaN              344.0   \n",
       "95074           True           NaN               NaN              948.0   \n",
       "95075           True           NaN               NaN              948.0   \n",
       "\n",
       "      AMINO_ACID_SEQUENCE  NUMBER_NUCLEOTIDE_CHANGES  IS_MINOR_ALLELE  \\\n",
       "0                       N                        1.0            False   \n",
       "1                       I                        1.0            False   \n",
       "2                       V                        1.0            False   \n",
       "3                       V                        1.0            False   \n",
       "4                       I                        1.0            False   \n",
       "...                   ...                        ...              ...   \n",
       "95071                   R                        1.0            False   \n",
       "95072                   V                        1.0            False   \n",
       "95073                   L                        1.0            False   \n",
       "95074                   V                        1.0            False   \n",
       "95075                   V                        1.0            False   \n",
       "\n",
       "      MINOR_MUTATION  FRS     GENE_MUT  \n",
       "0                NaN  1.0  mmpL5_D767N  \n",
       "1                NaN  1.0  mmpL5_T794I  \n",
       "2                NaN  1.0  mmpL5_I948V  \n",
       "3                NaN  1.0  mmpL5_I948V  \n",
       "4                NaN  1.0  mmpL5_T794I  \n",
       "...              ...  ...          ...  \n",
       "95071            NaN  1.0  mmpL5_Q440R  \n",
       "95072            NaN  1.0  mmpL5_I948V  \n",
       "95073            NaN  1.0  mmpL5_V344L  \n",
       "95074            NaN  1.0  mmpL5_I948V  \n",
       "95075            NaN  1.0  mmpL5_I948V  \n",
       "\n",
       "[95076 rows x 19 columns]"
      ]
     },
     "execution_count": 4,
     "metadata": {},
     "output_type": "execute_result"
    }
   ],
   "source": [
    "#filter for high quality phenotypes\n",
    "phenotypes = phenotypes[\n",
    "    (phenotypes.DRUG == \"BDQ\") & (phenotypes.PHENOTYPE_QUALITY == \"HIGH\")\n",
    "][[\"UNIQUEID\", \"DRUG\", \"BINARY_PHENOTYPE\", \"MIC\"]].rename(\n",
    "    columns={\"BINARY_PHENOTYPE\": \"PHENOTYPE\", \"MIC\": \"METHOD_MIC\"}\n",
    ")\n",
    "phenotypes = pd.concat([phenotypes, sha_phenotypes], ignore_index=True)\n",
    "phenotypes = phenotypes[~phenotypes.METHOD_MIC.isna()]\n",
    "phenotypes = phenotypes[~phenotypes.PHENOTYPE.isna()]\n",
    "\n",
    "\n",
    "mutations_copy = mutations.copy()\n",
    "\n",
    "#create column with gene_mutation entries\n",
    "gene_muts = []\n",
    "for i in mutations_copy.index:\n",
    "    if mutations_copy[\"MUTATION\"][i][0] == mutations_copy[\"MUTATION\"][i][-1]:\n",
    "        gene_muts.append(None)\n",
    "    elif mutations_copy[\"IS_MINOR_ALLELE\"][i]:\n",
    "        gene_muts.append(\n",
    "            mutations_copy[\"GENE\"][i] + \"_\" + mutations_copy[\"MINOR_MUTATION\"][i]\n",
    "        )\n",
    "    else:\n",
    "        gene_muts.append(\n",
    "            mutations_copy[\"GENE\"][i] + \"_\" + mutations_copy[\"MUTATION\"][i]\n",
    "        )\n",
    "\n",
    "mutations_copy[\"GENE_MUT\"] = gene_muts\n",
    "mutations = mutations_copy\n",
    "\n",
    "#fil in FRS values of for non-minor alelles\n",
    "mutations[\"FRS\"] = [\n",
    "    1 if ~mutations[\"IS_MINOR_ALLELE\"][i] else mutations[\"FRS\"][i]\n",
    "    for i in mutations.index\n",
    "]\n",
    "mutations"
   ]
  },
  {
   "cell_type": "code",
   "execution_count": 5,
   "metadata": {},
   "outputs": [
    {
     "data": {
      "text/html": [
       "<div>\n",
       "<style scoped>\n",
       "    .dataframe tbody tr th:only-of-type {\n",
       "        vertical-align: middle;\n",
       "    }\n",
       "\n",
       "    .dataframe tbody tr th {\n",
       "        vertical-align: top;\n",
       "    }\n",
       "\n",
       "    .dataframe thead th {\n",
       "        text-align: right;\n",
       "    }\n",
       "</style>\n",
       "<table border=\"1\" class=\"dataframe\">\n",
       "  <thead>\n",
       "    <tr style=\"text-align: right;\">\n",
       "      <th></th>\n",
       "      <th>UNIQUEID</th>\n",
       "      <th>DRUG</th>\n",
       "      <th>PHENOTYPE</th>\n",
       "      <th>METHOD_MIC</th>\n",
       "    </tr>\n",
       "  </thead>\n",
       "  <tbody>\n",
       "    <tr>\n",
       "      <th>0</th>\n",
       "      <td>site.01.subj.DR0134.lab.DR0134.iso.1</td>\n",
       "      <td>BDQ</td>\n",
       "      <td>S</td>\n",
       "      <td>0.06</td>\n",
       "    </tr>\n",
       "    <tr>\n",
       "      <th>1</th>\n",
       "      <td>site.01.subj.DR0611.lab.DR0611.iso.1</td>\n",
       "      <td>BDQ</td>\n",
       "      <td>S</td>\n",
       "      <td>0.015</td>\n",
       "    </tr>\n",
       "    <tr>\n",
       "      <th>2</th>\n",
       "      <td>site.01.subj.DR0602.lab.DR0602.iso.1</td>\n",
       "      <td>BDQ</td>\n",
       "      <td>S</td>\n",
       "      <td>&lt;=0.008</td>\n",
       "    </tr>\n",
       "    <tr>\n",
       "      <th>3</th>\n",
       "      <td>site.01.subj.DR0600.lab.DR0600.iso.1</td>\n",
       "      <td>BDQ</td>\n",
       "      <td>S</td>\n",
       "      <td>0.03</td>\n",
       "    </tr>\n",
       "    <tr>\n",
       "      <th>4</th>\n",
       "      <td>site.01.subj.DR0630.lab.DR0630.iso.1</td>\n",
       "      <td>BDQ</td>\n",
       "      <td>S</td>\n",
       "      <td>0.015</td>\n",
       "    </tr>\n",
       "    <tr>\n",
       "      <th>...</th>\n",
       "      <td>...</td>\n",
       "      <td>...</td>\n",
       "      <td>...</td>\n",
       "      <td>...</td>\n",
       "    </tr>\n",
       "    <tr>\n",
       "      <th>14330</th>\n",
       "      <td>site.14.subj.4314.lab.4314.iso.1</td>\n",
       "      <td>BDQ</td>\n",
       "      <td>S</td>\n",
       "      <td>0.03</td>\n",
       "    </tr>\n",
       "    <tr>\n",
       "      <th>14331</th>\n",
       "      <td>site.14.subj.1590.lab.1590.iso.1</td>\n",
       "      <td>BDQ</td>\n",
       "      <td>S</td>\n",
       "      <td>0.12</td>\n",
       "    </tr>\n",
       "    <tr>\n",
       "      <th>14332</th>\n",
       "      <td>site.14.subj.4200.lab.4200.iso.1</td>\n",
       "      <td>BDQ</td>\n",
       "      <td>S</td>\n",
       "      <td>0.06</td>\n",
       "    </tr>\n",
       "    <tr>\n",
       "      <th>14333</th>\n",
       "      <td>site.14.subj.4395.lab.4395.iso.1</td>\n",
       "      <td>BDQ</td>\n",
       "      <td>S</td>\n",
       "      <td>0.015</td>\n",
       "    </tr>\n",
       "    <tr>\n",
       "      <th>14334</th>\n",
       "      <td>site.14.subj.4195.lab.4195.iso.1</td>\n",
       "      <td>BDQ</td>\n",
       "      <td>S</td>\n",
       "      <td>0.06</td>\n",
       "    </tr>\n",
       "  </tbody>\n",
       "</table>\n",
       "<p>14335 rows × 4 columns</p>\n",
       "</div>"
      ],
      "text/plain": [
       "                                   UNIQUEID DRUG PHENOTYPE METHOD_MIC\n",
       "0      site.01.subj.DR0134.lab.DR0134.iso.1  BDQ         S       0.06\n",
       "1      site.01.subj.DR0611.lab.DR0611.iso.1  BDQ         S      0.015\n",
       "2      site.01.subj.DR0602.lab.DR0602.iso.1  BDQ         S    <=0.008\n",
       "3      site.01.subj.DR0600.lab.DR0600.iso.1  BDQ         S       0.03\n",
       "4      site.01.subj.DR0630.lab.DR0630.iso.1  BDQ         S      0.015\n",
       "...                                     ...  ...       ...        ...\n",
       "14330      site.14.subj.4314.lab.4314.iso.1  BDQ         S       0.03\n",
       "14331      site.14.subj.1590.lab.1590.iso.1  BDQ         S       0.12\n",
       "14332      site.14.subj.4200.lab.4200.iso.1  BDQ         S       0.06\n",
       "14333      site.14.subj.4395.lab.4395.iso.1  BDQ         S      0.015\n",
       "14334      site.14.subj.4195.lab.4195.iso.1  BDQ         S       0.06\n",
       "\n",
       "[14335 rows x 4 columns]"
      ]
     },
     "execution_count": 5,
     "metadata": {},
     "output_type": "execute_result"
    }
   ],
   "source": [
    "#merge genomes and phenotypes tables\n",
    "samples = pd.merge(genomes, phenotypes, on=[\"UNIQUEID\"], how='inner')\n",
    "samples = samples[[\"UNIQUEID\", \"DRUG\", \"PHENOTYPE\", \"METHOD_MIC\"]]\n",
    "samples"
   ]
  },
  {
   "cell_type": "markdown",
   "metadata": {},
   "source": [
    "### Basic Numbers"
   ]
  },
  {
   "cell_type": "code",
   "execution_count": 6,
   "metadata": {},
   "outputs": [
    {
     "data": {
      "text/html": [
       "<div>\n",
       "<style scoped>\n",
       "    .dataframe tbody tr th:only-of-type {\n",
       "        vertical-align: middle;\n",
       "    }\n",
       "\n",
       "    .dataframe tbody tr th {\n",
       "        vertical-align: top;\n",
       "    }\n",
       "\n",
       "    .dataframe thead tr th {\n",
       "        text-align: left;\n",
       "    }\n",
       "</style>\n",
       "<table border=\"1\" class=\"dataframe\">\n",
       "  <thead>\n",
       "    <tr>\n",
       "      <th></th>\n",
       "      <th>All</th>\n",
       "      <th colspan=\"2\" halign=\"left\"></th>\n",
       "      <th>Minor alleles</th>\n",
       "      <th colspan=\"2\" halign=\"left\"></th>\n",
       "      <th>All</th>\n",
       "      <th colspan=\"2\" halign=\"left\"></th>\n",
       "      <th>Minor alleles</th>\n",
       "      <th colspan=\"2\" halign=\"left\"></th>\n",
       "    </tr>\n",
       "    <tr>\n",
       "      <th></th>\n",
       "      <th>R</th>\n",
       "      <th>S</th>\n",
       "      <th>Total</th>\n",
       "      <th>R</th>\n",
       "      <th>S</th>\n",
       "      <th>Total</th>\n",
       "      <th>R</th>\n",
       "      <th>S</th>\n",
       "      <th>Total</th>\n",
       "      <th>R</th>\n",
       "      <th>S</th>\n",
       "      <th>Total</th>\n",
       "    </tr>\n",
       "  </thead>\n",
       "  <tbody>\n",
       "    <tr>\n",
       "      <th>Total</th>\n",
       "      <td>581</td>\n",
       "      <td>13641</td>\n",
       "      <td>14218</td>\n",
       "      <td>190</td>\n",
       "      <td>415</td>\n",
       "      <td>604</td>\n",
       "      <td>1788</td>\n",
       "      <td>28682</td>\n",
       "      <td>30470</td>\n",
       "      <td>371</td>\n",
       "      <td>752</td>\n",
       "      <td>1123</td>\n",
       "    </tr>\n",
       "    <tr>\n",
       "      <th>mmpL5</th>\n",
       "      <td>581</td>\n",
       "      <td>13636</td>\n",
       "      <td>14217</td>\n",
       "      <td>8</td>\n",
       "      <td>238</td>\n",
       "      <td>246</td>\n",
       "      <td>1083</td>\n",
       "      <td>27265</td>\n",
       "      <td>28348</td>\n",
       "      <td>23</td>\n",
       "      <td>341</td>\n",
       "      <td>364</td>\n",
       "    </tr>\n",
       "    <tr>\n",
       "      <th>Rv0678</th>\n",
       "      <td>500</td>\n",
       "      <td>530</td>\n",
       "      <td>1030</td>\n",
       "      <td>178</td>\n",
       "      <td>130</td>\n",
       "      <td>308</td>\n",
       "      <td>666</td>\n",
       "      <td>634</td>\n",
       "      <td>1300</td>\n",
       "      <td>324</td>\n",
       "      <td>208</td>\n",
       "      <td>532</td>\n",
       "    </tr>\n",
       "    <tr>\n",
       "      <th>pepQ</th>\n",
       "      <td>21</td>\n",
       "      <td>254</td>\n",
       "      <td>275</td>\n",
       "      <td>12</td>\n",
       "      <td>75</td>\n",
       "      <td>87</td>\n",
       "      <td>27</td>\n",
       "      <td>526</td>\n",
       "      <td>553</td>\n",
       "      <td>18</td>\n",
       "      <td>88</td>\n",
       "      <td>106</td>\n",
       "    </tr>\n",
       "    <tr>\n",
       "      <th>mmpS5</th>\n",
       "      <td>2</td>\n",
       "      <td>95</td>\n",
       "      <td>97</td>\n",
       "      <td>1</td>\n",
       "      <td>5</td>\n",
       "      <td>6</td>\n",
       "      <td>3</td>\n",
       "      <td>103</td>\n",
       "      <td>106</td>\n",
       "      <td>2</td>\n",
       "      <td>5</td>\n",
       "      <td>7</td>\n",
       "    </tr>\n",
       "    <tr>\n",
       "      <th>atpE</th>\n",
       "      <td>9</td>\n",
       "      <td>21</td>\n",
       "      <td>30</td>\n",
       "      <td>4</td>\n",
       "      <td>6</td>\n",
       "      <td>10</td>\n",
       "      <td>9</td>\n",
       "      <td>154</td>\n",
       "      <td>163</td>\n",
       "      <td>4</td>\n",
       "      <td>110</td>\n",
       "      <td>114</td>\n",
       "    </tr>\n",
       "  </tbody>\n",
       "</table>\n",
       "</div>"
      ],
      "text/plain": [
       "        All               Minor alleles              All                \\\n",
       "          R      S  Total             R    S Total     R      S  Total   \n",
       "Total   581  13641  14218           190  415   604  1788  28682  30470   \n",
       "mmpL5   581  13636  14217             8  238   246  1083  27265  28348   \n",
       "Rv0678  500    530   1030           178  130   308   666    634   1300   \n",
       "pepQ     21    254    275            12   75    87    27    526    553   \n",
       "mmpS5     2     95     97             1    5     6     3    103    106   \n",
       "atpE      9     21     30             4    6    10     9    154    163   \n",
       "\n",
       "       Minor alleles             \n",
       "                   R    S Total  \n",
       "Total            371  752  1123  \n",
       "mmpL5             23  341   364  \n",
       "Rv0678           324  208   532  \n",
       "pepQ              18   88   106  \n",
       "mmpS5              2    5     7  \n",
       "atpE               4  110   114  "
      ]
     },
     "execution_count": 6,
     "metadata": {},
     "output_type": "execute_result"
    }
   ],
   "source": [
    "all = pd.merge(mutations, phenotypes, on=['UNIQUEID'], how='inner')\n",
    "all[\"IS_SYNONYMOUS\"] = [\n",
    "    True if i[0] == i[-1] else False for i in all.MUTATION\n",
    "]\n",
    "all = all[~all.IS_SYNONYMOUS]\n",
    "all = all[~all.METHOD_MIC.isna()]\n",
    "#General isolates\n",
    "df = Helpers.RSIsolateTable(all, all.GENE.unique())\n",
    "#minor allele isolates\n",
    "df1 = Helpers.RSIsolateTable(all[all.FRS<0.9], all.GENE.unique())\n",
    "#General variants\n",
    "df2 = Helpers.RSVariantTable(all, all.GENE.unique())\n",
    "df3 = Helpers.RSVariantTable(all[all.FRS<0.9], all.GENE.unique())\n",
    "df = pd.concat([df, df1, df2, df3], axis=1)\n",
    "df.columns = pd.MultiIndex.from_tuples(\n",
    "    zip(['All', '', '', 'Minor alleles', '', '', 'All','','', 'Minor alleles', '', ''], \n",
    "        df.columns))\n",
    "df"
   ]
  },
  {
   "cell_type": "markdown",
   "metadata": {},
   "source": [
    "## Build Catalogues"
   ]
  },
  {
   "cell_type": "markdown",
   "metadata": {},
   "source": [
    "### Homogenous"
   ]
  },
  {
   "cell_type": "code",
   "execution_count": 7,
   "metadata": {},
   "outputs": [
    {
     "data": {
      "text/html": [
       "<div>\n",
       "<style scoped>\n",
       "    .dataframe tbody tr th:only-of-type {\n",
       "        vertical-align: middle;\n",
       "    }\n",
       "\n",
       "    .dataframe tbody tr th {\n",
       "        vertical-align: top;\n",
       "    }\n",
       "\n",
       "    .dataframe thead th {\n",
       "        text-align: right;\n",
       "    }\n",
       "</style>\n",
       "<table border=\"1\" class=\"dataframe\">\n",
       "  <thead>\n",
       "    <tr style=\"text-align: right;\">\n",
       "      <th></th>\n",
       "      <th>GENE_MUT</th>\n",
       "      <th>phenotype</th>\n",
       "    </tr>\n",
       "  </thead>\n",
       "  <tbody>\n",
       "    <tr>\n",
       "      <th>0</th>\n",
       "      <td>Rv0678_L40V</td>\n",
       "      <td>S</td>\n",
       "    </tr>\n",
       "    <tr>\n",
       "      <th>1</th>\n",
       "      <td>mmpL5_I948V</td>\n",
       "      <td>U</td>\n",
       "    </tr>\n",
       "  </tbody>\n",
       "</table>\n",
       "</div>"
      ],
      "text/plain": [
       "      GENE_MUT phenotype\n",
       "0  Rv0678_L40V         S\n",
       "1  mmpL5_I948V         U"
      ]
     },
     "execution_count": 7,
     "metadata": {},
     "output_type": "execute_result"
    }
   ],
   "source": [
    "catalogue_09 = BuildCatalogue(\n",
    "    samples, mutations, 0.9\n",
    ").return_catalogue()\n",
    "catalogue_09 = (\n",
    "    pd.DataFrame.from_dict(catalogue_09, orient=\"index\")\n",
    "    .reset_index(0)\n",
    "    .rename(columns={\"index\": \"GENE_MUT\", 0: \"phenotype\"})\n",
    ")\n",
    "catalogue_09"
   ]
  },
  {
   "cell_type": "code",
   "execution_count": 8,
   "metadata": {},
   "outputs": [
    {
     "data": {
      "text/plain": [
       "<Figure size 700x500 with 0 Axes>"
      ]
     },
     "metadata": {},
     "output_type": "display_data"
    },
    {
     "data": {
      "image/png": "[encoded data removed]",
      "text/plain": [
       "<Figure size 640x480 with 1 Axes>"
      ]
     },
     "metadata": {},
     "output_type": "display_data"
    }
   ],
   "source": [
    "Helpers.plot_catalogue_counts(all, catalogue_09)"
   ]
  },
  {
   "cell_type": "markdown",
   "metadata": {},
   "source": [
    "### Heterogenous"
   ]
  },
  {
   "cell_type": "code",
   "execution_count": 9,
   "metadata": {},
   "outputs": [
    {
     "data": {
      "text/html": [
       "<div>\n",
       "<style scoped>\n",
       "    .dataframe tbody tr th:only-of-type {\n",
       "        vertical-align: middle;\n",
       "    }\n",
       "\n",
       "    .dataframe tbody tr th {\n",
       "        vertical-align: top;\n",
       "    }\n",
       "\n",
       "    .dataframe thead th {\n",
       "        text-align: right;\n",
       "    }\n",
       "</style>\n",
       "<table border=\"1\" class=\"dataframe\">\n",
       "  <thead>\n",
       "    <tr style=\"text-align: right;\">\n",
       "      <th></th>\n",
       "      <th>GENE_MUT</th>\n",
       "      <th>phenotype</th>\n",
       "    </tr>\n",
       "  </thead>\n",
       "  <tbody>\n",
       "    <tr>\n",
       "      <th>0</th>\n",
       "      <td>mmpL5_I948V</td>\n",
       "      <td>S</td>\n",
       "    </tr>\n",
       "    <tr>\n",
       "      <th>1</th>\n",
       "      <td>mmpL5_L510P</td>\n",
       "      <td>S</td>\n",
       "    </tr>\n",
       "    <tr>\n",
       "      <th>2</th>\n",
       "      <td>mmpL5_A742A</td>\n",
       "      <td>S</td>\n",
       "    </tr>\n",
       "    <tr>\n",
       "      <th>3</th>\n",
       "      <td>pepQ_t-14c</td>\n",
       "      <td>S</td>\n",
       "    </tr>\n",
       "    <tr>\n",
       "      <th>4</th>\n",
       "      <td>mmpL5_V906A</td>\n",
       "      <td>S</td>\n",
       "    </tr>\n",
       "    <tr>\n",
       "      <th>...</th>\n",
       "      <td>...</td>\n",
       "      <td>...</td>\n",
       "    </tr>\n",
       "    <tr>\n",
       "      <th>653</th>\n",
       "      <td>Rv0678_L40M</td>\n",
       "      <td>R</td>\n",
       "    </tr>\n",
       "    <tr>\n",
       "      <th>654</th>\n",
       "      <td>mmpL5_L709I</td>\n",
       "      <td>R</td>\n",
       "    </tr>\n",
       "    <tr>\n",
       "      <th>655</th>\n",
       "      <td>Rv0678_325_ins_g</td>\n",
       "      <td>R</td>\n",
       "    </tr>\n",
       "    <tr>\n",
       "      <th>656</th>\n",
       "      <td>Rv0678_107_ins_g</td>\n",
       "      <td>R</td>\n",
       "    </tr>\n",
       "    <tr>\n",
       "      <th>657</th>\n",
       "      <td>Rv0678_c-11a</td>\n",
       "      <td>U</td>\n",
       "    </tr>\n",
       "  </tbody>\n",
       "</table>\n",
       "<p>658 rows × 2 columns</p>\n",
       "</div>"
      ],
      "text/plain": [
       "             GENE_MUT phenotype\n",
       "0         mmpL5_I948V         S\n",
       "1         mmpL5_L510P         S\n",
       "2         mmpL5_A742A         S\n",
       "3          pepQ_t-14c         S\n",
       "4         mmpL5_V906A         S\n",
       "..                ...       ...\n",
       "653       Rv0678_L40M         R\n",
       "654       mmpL5_L709I         R\n",
       "655  Rv0678_325_ins_g         R\n",
       "656  Rv0678_107_ins_g         R\n",
       "657      Rv0678_c-11a         U\n",
       "\n",
       "[658 rows x 2 columns]"
      ]
     },
     "execution_count": 9,
     "metadata": {},
     "output_type": "execute_result"
    }
   ],
   "source": [
    "catalogue_01 = BuildCatalogue(\n",
    "    samples, mutations, 0.1\n",
    ").return_catalogue()\n",
    "catalogue_01 = (\n",
    "    pd.DataFrame.from_dict(catalogue_01, orient=\"index\")\n",
    "    .reset_index(0)\n",
    "    .rename(columns={\"index\": \"GENE_MUT\", 0: \"phenotype\"})\n",
    ")\n",
    "catalogue_01"
   ]
  },
  {
   "cell_type": "code",
   "execution_count": 10,
   "metadata": {},
   "outputs": [
    {
     "data": {
      "text/plain": [
       "<Figure size 700x500 with 0 Axes>"
      ]
     },
     "metadata": {},
     "output_type": "display_data"
    },
    {
     "data": {
      "image/png": "[encoded data removed]",
      "text/plain": [
       "<Figure size 640x480 with 1 Axes>"
      ]
     },
     "metadata": {},
     "output_type": "display_data"
    }
   ],
   "source": [
    "Helpers.plot_catalogue_counts(all, catalogue_01)"
   ]
  },
  {
   "cell_type": "markdown",
   "metadata": {},
   "source": [
    "## Predict"
   ]
  },
  {
   "cell_type": "markdown",
   "metadata": {},
   "source": [
    "### Homogenous"
   ]
  },
  {
   "cell_type": "code",
   "execution_count": 11,
   "metadata": {},
   "outputs": [
    {
     "name": "stdout",
     "output_type": "stream",
     "text": [
      "[[    0     0   577]\n",
      " [    0     1 13640]]\n",
      "Catalogue coverage of isolates: 7.033338022225348e-05\n",
      "Catalogue coverage of mutations: 0.0016025641025641025\n",
      "Sensitivity: nan\n",
      "Specificity: 1.0\n"
     ]
    },
    {
     "name": "stderr",
     "output_type": "stream",
     "text": [
      "/Users/dylanadlard/Documents/Oxford/PhD/Projects/BDQ_analysis/BDQ_analysis/notebooks/paper/../protocols/Predict.py:80: RuntimeWarning: invalid value encountered in scalar divide\n",
      "  sensitivity = cm[0][0] / (cm[0][0] + cm[0][1])\n"
     ]
    },
    {
     "data": {
      "text/plain": [
       "(array([0.5, 1.5]), [Text(0, 0.5, 'R'), Text(0, 1.5, 'S')])"
      ]
     },
     "execution_count": 11,
     "metadata": {},
     "output_type": "execute_result"
    },
    {
     "data": {
      "image/png": "[encoded data removed]",
      "text/plain": [
       "<Figure size 800x600 with 1 Axes>"
      ]
     },
     "metadata": {},
     "output_type": "display_data"
    }
   ],
   "source": [
    "from protocols.Predict import predict\n",
    "\n",
    "cm = predict(all, catalogue_09, Print=True)[\"cm\"]\n",
    "df_cm = pd.DataFrame(cm, index=[\"R\", \"S\"], columns=[\"R\", \"S\", 'U'])\n",
    "plt.figure(figsize=(8, 6))\n",
    "sns.set_context(\"talk\")\n",
    "sns.heatmap(df_cm, annot=True, cbar=False, fmt=\"g\", cmap=\"Greens\")\n",
    "plt.xticks(fontsize=12)\n",
    "plt.yticks(fontsize=12)"
   ]
  },
  {
   "cell_type": "markdown",
   "metadata": {},
   "source": [
    "### Heterogenous"
   ]
  },
  {
   "cell_type": "code",
   "execution_count": 12,
   "metadata": {},
   "outputs": [
    {
     "name": "stdout",
     "output_type": "stream",
     "text": [
      "[[  388   159    30]\n",
      " [  133 13322   186]]\n",
      "Catalogue coverage of isolates: 0.9848079898719933\n",
      "Catalogue coverage of mutations: 0.5272435897435898\n",
      "Sensitivity: 0.7093235831809872\n",
      "Specificity: 0.990115198810851\n"
     ]
    },
    {
     "data": {
      "text/plain": [
       "(array([0.5, 1.5]), [Text(0, 0.5, 'R'), Text(0, 1.5, 'S')])"
      ]
     },
     "execution_count": 12,
     "metadata": {},
     "output_type": "execute_result"
    },
    {
     "data": {
      "image/png": "[encoded data removed]",
      "text/plain": [
       "<Figure size 800x600 with 1 Axes>"
      ]
     },
     "metadata": {},
     "output_type": "display_data"
    }
   ],
   "source": [
    "cm = predict(all, catalogue_01, Print=True)[\"cm\"]\n",
    "df_cm = pd.DataFrame(cm, index=[\"R\", \"S\"], columns=[\"R\", \"S\", 'U'])\n",
    "plt.figure(figsize=(8, 6))\n",
    "sns.set_context(\"talk\")\n",
    "sns.heatmap(df_cm, annot=True, cbar=False, fmt=\"g\", cmap=\"Greens\")\n",
    "plt.xticks(fontsize=12)\n",
    "plt.yticks(fontsize=12)"
   ]
  },
  {
   "cell_type": "markdown",
   "metadata": {},
   "source": [
    "## Build Catalogue + predict with cross validation"
   ]
  },
  {
   "cell_type": "code",
   "execution_count": 34,
   "metadata": {},
   "outputs": [],
   "source": [
    "samples = pd.merge(genomes, phenotypes, on=['UNIQUEID'], how='inner')\n",
    "all = pd.merge(samples, mutations, on='UNIQUEID', how='left')"
   ]
  },
  {
   "cell_type": "markdown",
   "metadata": {},
   "source": [
    "#### Homogenous"
   ]
  },
  {
   "cell_type": "code",
   "execution_count": 35,
   "metadata": {},
   "outputs": [
    {
     "name": "stderr",
     "output_type": "stream",
     "text": [
      "/Users/dylanadlard/Documents/Oxford/PhD/Projects/BDQ_analysis/BDQ_analysis/notebooks/paper/../protocols/Predict.py:80: RuntimeWarning: invalid value encountered in scalar divide\n",
      "  sensitivity = cm[0][0] / (cm[0][0] + cm[0][1])\n",
      "/Users/dylanadlard/Documents/Oxford/PhD/Projects/BDQ_analysis/BDQ_analysis/notebooks/paper/../protocols/Predict.py:81: RuntimeWarning: invalid value encountered in scalar divide\n",
      "  specificity = cm[1][1] / (cm[1][1] + cm[1][0])\n",
      "/Users/dylanadlard/Documents/Oxford/PhD/Projects/BDQ_analysis/BDQ_analysis/notebooks/paper/../protocols/Predict.py:80: RuntimeWarning: invalid value encountered in scalar divide\n",
      "  sensitivity = cm[0][0] / (cm[0][0] + cm[0][1])\n",
      "/Users/dylanadlard/Documents/Oxford/PhD/Projects/BDQ_analysis/BDQ_analysis/notebooks/paper/../protocols/Predict.py:81: RuntimeWarning: invalid value encountered in scalar divide\n",
      "  specificity = cm[1][1] / (cm[1][1] + cm[1][0])\n",
      "/Users/dylanadlard/Documents/Oxford/PhD/Projects/BDQ_analysis/BDQ_analysis/notebooks/paper/../protocols/Predict.py:80: RuntimeWarning: invalid value encountered in scalar divide\n",
      "  sensitivity = cm[0][0] / (cm[0][0] + cm[0][1])\n",
      "/Users/dylanadlard/Documents/Oxford/PhD/Projects/BDQ_analysis/BDQ_analysis/notebooks/paper/../protocols/Predict.py:81: RuntimeWarning: invalid value encountered in scalar divide\n",
      "  specificity = cm[1][1] / (cm[1][1] + cm[1][0])\n"
     ]
    },
    {
     "name": "stdout",
     "output_type": "stream",
     "text": [
      "isolate_cov (0.17961605584642232, 0.35923211169284464)\n",
      "specificity (nan, nan)\n",
      "sensitivity (nan, nan)\n"
     ]
    },
    {
     "name": "stderr",
     "output_type": "stream",
     "text": [
      "/Users/dylanadlard/Documents/Oxford/PhD/Projects/BDQ_analysis/BDQ_analysis/notebooks/paper/../protocols/Predict.py:80: RuntimeWarning: invalid value encountered in scalar divide\n",
      "  sensitivity = cm[0][0] / (cm[0][0] + cm[0][1])\n",
      "/Users/dylanadlard/Documents/Oxford/PhD/Projects/BDQ_analysis/BDQ_analysis/notebooks/paper/../protocols/Predict.py:81: RuntimeWarning: invalid value encountered in scalar divide\n",
      "  specificity = cm[1][1] / (cm[1][1] + cm[1][0])\n"
     ]
    },
    {
     "data": {
      "text/plain": [
       "(array([0.5, 1.5]), [Text(0, 0.5, 'R'), Text(0, 1.5, 'S')])"
      ]
     },
     "execution_count": 35,
     "metadata": {},
     "output_type": "execute_result"
    },
    {
     "data": {
      "image/png": "[encoded data removed]",
      "text/plain": [
       "<Figure size 800x500 with 1 Axes>"
      ]
     },
     "metadata": {},
     "output_type": "display_data"
    }
   ],
   "source": [
    "X = all.UNIQUEID.unique()\n",
    "y = []\n",
    "for i in X:\n",
    "    y.append(all[all.UNIQUEID == i].PHENOTYPE.tolist()[0])\n",
    "\n",
    "\n",
    "rs = ShuffleSplit(n_splits=5, test_size=0.2, random_state=7)\n",
    "train_indices, test_indices = [], []\n",
    "for i, (train_index, test_index) in enumerate(rs.split(X)):\n",
    "    train_indices.append(train_index)\n",
    "    test_indices.append(test_index)\n",
    "\n",
    "ax_arr = []\n",
    "\n",
    "isolate_cov, specificities, sensitivities, cms = [], [], [], []\n",
    "for fold in range(len(train_indices)):\n",
    "    train_ids, test_ids = [], []\n",
    "    for i in train_indices[fold]:\n",
    "        train_ids.append(X[i])\n",
    "    for j in test_indices[fold]:\n",
    "        test_ids.append(X[j])\n",
    "\n",
    "    train_samples = samples[samples.UNIQUEID.isin(train_ids)]\n",
    "    train_mutations = mutations[mutations.UNIQUEID.isin(train_ids)]\n",
    "    test_df = all[all.UNIQUEID.isin(test_ids)]\n",
    "\n",
    "    catalogue = BuildCatalogue(train_samples, train_mutations, 0.9).return_catalogue()\n",
    "    catalogue = (\n",
    "        pd.DataFrame.from_dict(catalogue, orient=\"index\")\n",
    "        .reset_index(0)\n",
    "        .rename(columns={\"index\": \"GENE_MUT\", 0: \"phenotype\"})\n",
    "    )\n",
    "    catalogue.index.rename(\"GENE_MUT\", inplace=True)\n",
    "\n",
    "    performance = predict(test_df, catalogue, Print=False)\n",
    "    isolate_cov.append(performance[\"isolate_cov\"])\n",
    "    specificities.append(performance[\"specificity\"])\n",
    "    sensitivities.append(performance[\"sensitivity\"])\n",
    "    cms.append(performance[\"cm\"])\n",
    "\n",
    "isolate_cov = (np.mean(isolate_cov), np.std(isolate_cov))\n",
    "specificity = (np.mean(specificities), np.std(specificities))\n",
    "sensitivity = (np.mean(sensitivities), np.std(sensitivities))\n",
    "\n",
    "print(\"isolate_cov\", isolate_cov)\n",
    "print(\"specificity\", specificity)\n",
    "print(\"sensitivity\", sensitivity)\n",
    "\n",
    "\n",
    "mean = np.mean(cms, axis=0)\n",
    "std = np.std(cms, axis=0)\n",
    "\n",
    "labels = [[], []]\n",
    "\n",
    "for i in range(len(mean)):\n",
    "    for j in range(len(mean[i])):\n",
    "        labels[i].append(\"%s\" % int(mean[i][j]))\n",
    "\n",
    "df_cm = pd.DataFrame(mean, index=[\"R\", \"S\"], columns=[\"R\", \"S\", \"U\"])\n",
    "plt.figure(figsize=(8, 5))\n",
    "sns.heatmap(df_cm, annot=labels, cbar=False, cmap=\"Greens\", fmt=\"\")\n",
    "plt.xticks(fontsize=12)\n",
    "plt.yticks(fontsize=12)"
   ]
  },
  {
   "cell_type": "markdown",
   "metadata": {},
   "source": [
    "#### Heterogenous"
   ]
  },
  {
   "cell_type": "code",
   "execution_count": 15,
   "metadata": {},
   "outputs": [
    {
     "name": "stdout",
     "output_type": "stream",
     "text": [
      "isolate_cov (0.8983595113438045, 0.0034931926012416754)\n",
      "specificity (0.985503536895098, 0.0022038798735416684)\n",
      "sensitivity (0.6956215321133539, 0.06228080363935468)\n"
     ]
    },
    {
     "data": {
      "text/plain": [
       "(array([0.5, 1.5]), [Text(0, 0.5, 'R'), Text(0, 1.5, 'S')])"
      ]
     },
     "execution_count": 15,
     "metadata": {},
     "output_type": "execute_result"
    },
    {
     "data": {
      "image/png": "[encoded data removed]",
      "text/plain": [
       "<Figure size 800x500 with 1 Axes>"
      ]
     },
     "metadata": {},
     "output_type": "display_data"
    }
   ],
   "source": [
    "X = all.UNIQUEID.unique()\n",
    "y = []\n",
    "for i in X:\n",
    "    y.append(all[all.UNIQUEID == i].PHENOTYPE.tolist()[0])\n",
    "\n",
    "\n",
    "rs = ShuffleSplit(n_splits=5, test_size=0.2, random_state=7)\n",
    "train_indices, test_indices = [], []\n",
    "for i, (train_index, test_index) in enumerate(rs.split(X)):\n",
    "    train_indices.append(train_index)\n",
    "    test_indices.append(test_index)\n",
    "\n",
    "ax_arr = []\n",
    "\n",
    "isolate_cov, specificities, sensitivities, cms = [], [], [], []\n",
    "for fold in range(len(train_indices)):\n",
    "    train_ids, test_ids = [], []\n",
    "    for i in train_indices[fold]:\n",
    "        train_ids.append(X[i])\n",
    "    for j in test_indices[fold]:\n",
    "        test_ids.append(X[j])\n",
    "\n",
    "    train_samples = samples[samples.UNIQUEID.isin(train_ids)]\n",
    "    train_mutations = mutations[mutations.UNIQUEID.isin(train_ids)]\n",
    "    test_df = all[all.UNIQUEID.isin(test_ids)]\n",
    "\n",
    "    catalogue = BuildCatalogue(train_samples, train_mutations, 0.1).return_catalogue()\n",
    "    catalogue = (\n",
    "        pd.DataFrame.from_dict(catalogue, orient=\"index\")\n",
    "        .reset_index(0)\n",
    "        .rename(columns={\"index\": \"GENE_MUT\", 0: \"phenotype\"})\n",
    "    )\n",
    "    catalogue.index.rename(\"GENE_MUT\", inplace=True)\n",
    "\n",
    "    performance = predict(test_df, catalogue, Print=False)\n",
    "    isolate_cov.append(performance[\"isolate_cov\"])\n",
    "    specificities.append(performance[\"specificity\"])\n",
    "    sensitivities.append(performance[\"sensitivity\"])\n",
    "    cms.append(performance[\"cm\"])\n",
    "\n",
    "isolate_cov = (np.mean(isolate_cov), np.std(isolate_cov))\n",
    "specificity = (np.mean(specificities), np.std(specificities))\n",
    "sensitivity = (np.mean(sensitivities), np.std(sensitivities))\n",
    "\n",
    "print(\"isolate_cov\", isolate_cov)\n",
    "print(\"specificity\", specificity)\n",
    "print(\"sensitivity\", sensitivity)\n",
    "\n",
    "\n",
    "mean = np.mean(cms, axis=0)\n",
    "std = np.std(cms, axis=0)\n",
    "\n",
    "labels = [[], []]\n",
    "\n",
    "for i in range(len(mean)):\n",
    "    for j in range(len(mean[i])):\n",
    "        labels[i].append(\"%s\" % int(mean[i][j]))\n",
    "\n",
    "\n",
    "df_cm = pd.DataFrame(mean, index=[\"R\", \"S\"], columns=[\"R\", \"S\", \"U\"])\n",
    "plt.figure(figsize=(8, 5))\n",
    "sns.heatmap(df_cm, annot=labels, cbar=False, cmap=\"Greens\", fmt=\"\")\n",
    "plt.xticks(fontsize=12)\n",
    "plt.yticks(fontsize=12)"
   ]
  },
  {
   "cell_type": "code",
   "execution_count": null,
   "metadata": {},
   "outputs": [],
   "source": []
  },
  {
   "cell_type": "markdown",
   "metadata": {},
   "source": [
    "## Remove mmpL5 from dataset and rebuild and predict"
   ]
  },
  {
   "cell_type": "code",
   "execution_count": 17,
   "metadata": {},
   "outputs": [],
   "source": [
    "all_no_mmpL5 = all[all.GENE != \"mmpL5\"]\n",
    "mutations_no_mmpL5 = mutations[mutations.GENE!='mmpL5']"
   ]
  },
  {
   "cell_type": "markdown",
   "metadata": {},
   "source": [
    "### Build and predict on entire dataset"
   ]
  },
  {
   "cell_type": "markdown",
   "metadata": {},
   "source": [
    "#### Homogenous"
   ]
  },
  {
   "cell_type": "code",
   "execution_count": 18,
   "metadata": {},
   "outputs": [
    {
     "data": {
      "text/html": [
       "<div>\n",
       "<style scoped>\n",
       "    .dataframe tbody tr th:only-of-type {\n",
       "        vertical-align: middle;\n",
       "    }\n",
       "\n",
       "    .dataframe tbody tr th {\n",
       "        vertical-align: top;\n",
       "    }\n",
       "\n",
       "    .dataframe thead th {\n",
       "        text-align: right;\n",
       "    }\n",
       "</style>\n",
       "<table border=\"1\" class=\"dataframe\">\n",
       "  <thead>\n",
       "    <tr style=\"text-align: right;\">\n",
       "      <th></th>\n",
       "      <th>GENE_MUT</th>\n",
       "      <th>phenotype</th>\n",
       "    </tr>\n",
       "  </thead>\n",
       "  <tbody>\n",
       "    <tr>\n",
       "      <th>0</th>\n",
       "      <td>Rv0678_c-11a</td>\n",
       "      <td>S</td>\n",
       "    </tr>\n",
       "    <tr>\n",
       "      <th>1</th>\n",
       "      <td>pepQ_V238M</td>\n",
       "      <td>S</td>\n",
       "    </tr>\n",
       "    <tr>\n",
       "      <th>2</th>\n",
       "      <td>Rv0678_R50Q</td>\n",
       "      <td>S</td>\n",
       "    </tr>\n",
       "    <tr>\n",
       "      <th>3</th>\n",
       "      <td>Rv0678_E55D</td>\n",
       "      <td>S</td>\n",
       "    </tr>\n",
       "    <tr>\n",
       "      <th>4</th>\n",
       "      <td>Rv0678_142_ins_t</td>\n",
       "      <td>S</td>\n",
       "    </tr>\n",
       "    <tr>\n",
       "      <th>...</th>\n",
       "      <td>...</td>\n",
       "      <td>...</td>\n",
       "    </tr>\n",
       "    <tr>\n",
       "      <th>319</th>\n",
       "      <td>atpE_E61D</td>\n",
       "      <td>U</td>\n",
       "    </tr>\n",
       "    <tr>\n",
       "      <th>320</th>\n",
       "      <td>Rv0678_S2I</td>\n",
       "      <td>U</td>\n",
       "    </tr>\n",
       "    <tr>\n",
       "      <th>321</th>\n",
       "      <td>Rv0678_M139I</td>\n",
       "      <td>U</td>\n",
       "    </tr>\n",
       "    <tr>\n",
       "      <th>322</th>\n",
       "      <td>Rv0678_N98D</td>\n",
       "      <td>U</td>\n",
       "    </tr>\n",
       "    <tr>\n",
       "      <th>323</th>\n",
       "      <td>Rv0678_Q51R</td>\n",
       "      <td>U</td>\n",
       "    </tr>\n",
       "  </tbody>\n",
       "</table>\n",
       "<p>324 rows × 2 columns</p>\n",
       "</div>"
      ],
      "text/plain": [
       "             GENE_MUT phenotype\n",
       "0        Rv0678_c-11a         S\n",
       "1          pepQ_V238M         S\n",
       "2         Rv0678_R50Q         S\n",
       "3         Rv0678_E55D         S\n",
       "4    Rv0678_142_ins_t         S\n",
       "..                ...       ...\n",
       "319         atpE_E61D         U\n",
       "320        Rv0678_S2I         U\n",
       "321      Rv0678_M139I         U\n",
       "322       Rv0678_N98D         U\n",
       "323       Rv0678_Q51R         U\n",
       "\n",
       "[324 rows x 2 columns]"
      ]
     },
     "execution_count": 18,
     "metadata": {},
     "output_type": "execute_result"
    }
   ],
   "source": [
    "catalogue_09 = BuildCatalogue(samples, mutations_no_mmpL5, 0.9).return_catalogue()\n",
    "catalogue_09 = (\n",
    "    pd.DataFrame.from_dict(catalogue_09, orient=\"index\")\n",
    "    .reset_index(0)\n",
    "    .rename(columns={\"index\": \"GENE_MUT\", 0: \"phenotype\"})\n",
    ")\n",
    "catalogue_09"
   ]
  },
  {
   "cell_type": "code",
   "execution_count": 19,
   "metadata": {},
   "outputs": [
    {
     "name": "stdout",
     "output_type": "stream",
     "text": [
      "[[390  60  68]\n",
      " [148 571 404]]\n",
      "Catalogue coverage of isolates: 0.712370505789153\n",
      "Catalogue coverage of mutations: 0.375\n",
      "Sensitivity: 0.8666666666666667\n",
      "Specificity: 0.7941585535465925\n"
     ]
    },
    {
     "data": {
      "text/plain": [
       "(array([0.5, 1.5]), [Text(0, 0.5, 'R'), Text(0, 1.5, 'S')])"
      ]
     },
     "execution_count": 19,
     "metadata": {},
     "output_type": "execute_result"
    },
    {
     "data": {
      "image/png": "[encoded data removed]",
      "text/plain": [
       "<Figure size 800x600 with 1 Axes>"
      ]
     },
     "metadata": {},
     "output_type": "display_data"
    }
   ],
   "source": [
    "cm = predict(all_no_mmpL5, catalogue_09, Print=True)[\"cm\"]\n",
    "df_cm = pd.DataFrame(cm, index=[\"R\", \"S\"], columns=[\"R\", \"S\", \"U\"])\n",
    "plt.figure(figsize=(8, 6))\n",
    "sns.set_context(\"talk\")\n",
    "sns.heatmap(df_cm, annot=True, cbar=False, fmt=\"g\", cmap=\"Greens\")\n",
    "plt.xticks(fontsize=12)\n",
    "plt.yticks(fontsize=12)"
   ]
  },
  {
   "cell_type": "markdown",
   "metadata": {},
   "source": [
    "#### Heterogenous"
   ]
  },
  {
   "cell_type": "code",
   "execution_count": 20,
   "metadata": {},
   "outputs": [
    {
     "data": {
      "text/html": [
       "<div>\n",
       "<style scoped>\n",
       "    .dataframe tbody tr th:only-of-type {\n",
       "        vertical-align: middle;\n",
       "    }\n",
       "\n",
       "    .dataframe tbody tr th {\n",
       "        vertical-align: top;\n",
       "    }\n",
       "\n",
       "    .dataframe thead th {\n",
       "        text-align: right;\n",
       "    }\n",
       "</style>\n",
       "<table border=\"1\" class=\"dataframe\">\n",
       "  <thead>\n",
       "    <tr style=\"text-align: right;\">\n",
       "      <th></th>\n",
       "      <th>GENE_MUT</th>\n",
       "      <th>phenotype</th>\n",
       "    </tr>\n",
       "  </thead>\n",
       "  <tbody>\n",
       "    <tr>\n",
       "      <th>0</th>\n",
       "      <td>pepQ_V238M</td>\n",
       "      <td>S</td>\n",
       "    </tr>\n",
       "    <tr>\n",
       "      <th>1</th>\n",
       "      <td>Rv0678_R50Q</td>\n",
       "      <td>S</td>\n",
       "    </tr>\n",
       "    <tr>\n",
       "      <th>2</th>\n",
       "      <td>Rv0678_E55D</td>\n",
       "      <td>S</td>\n",
       "    </tr>\n",
       "    <tr>\n",
       "      <th>3</th>\n",
       "      <td>Rv0678_142_ins_t</td>\n",
       "      <td>S</td>\n",
       "    </tr>\n",
       "    <tr>\n",
       "      <th>4</th>\n",
       "      <td>Rv0678_G24S</td>\n",
       "      <td>S</td>\n",
       "    </tr>\n",
       "    <tr>\n",
       "      <th>...</th>\n",
       "      <td>...</td>\n",
       "      <td>...</td>\n",
       "    </tr>\n",
       "    <tr>\n",
       "      <th>419</th>\n",
       "      <td>Rv0678_S68N</td>\n",
       "      <td>R</td>\n",
       "    </tr>\n",
       "    <tr>\n",
       "      <th>420</th>\n",
       "      <td>Rv0678_L40M</td>\n",
       "      <td>R</td>\n",
       "    </tr>\n",
       "    <tr>\n",
       "      <th>421</th>\n",
       "      <td>Rv0678_325_ins_g</td>\n",
       "      <td>R</td>\n",
       "    </tr>\n",
       "    <tr>\n",
       "      <th>422</th>\n",
       "      <td>Rv0678_107_ins_g</td>\n",
       "      <td>R</td>\n",
       "    </tr>\n",
       "    <tr>\n",
       "      <th>423</th>\n",
       "      <td>Rv0678_c-11a</td>\n",
       "      <td>U</td>\n",
       "    </tr>\n",
       "  </tbody>\n",
       "</table>\n",
       "<p>424 rows × 2 columns</p>\n",
       "</div>"
      ],
      "text/plain": [
       "             GENE_MUT phenotype\n",
       "0          pepQ_V238M         S\n",
       "1         Rv0678_R50Q         S\n",
       "2         Rv0678_E55D         S\n",
       "3    Rv0678_142_ins_t         S\n",
       "4         Rv0678_G24S         S\n",
       "..                ...       ...\n",
       "419       Rv0678_S68N         R\n",
       "420       Rv0678_L40M         R\n",
       "421  Rv0678_325_ins_g         R\n",
       "422  Rv0678_107_ins_g         R\n",
       "423      Rv0678_c-11a         U\n",
       "\n",
       "[424 rows x 2 columns]"
      ]
     },
     "execution_count": 20,
     "metadata": {},
     "output_type": "execute_result"
    }
   ],
   "source": [
    "catalogue_01 = BuildCatalogue(samples, mutations_no_mmpL5, 0.1).return_catalogue()\n",
    "catalogue_01 = (\n",
    "    pd.DataFrame.from_dict(catalogue_01, orient=\"index\")\n",
    "    .reset_index(0)\n",
    "    .rename(columns={\"index\": \"GENE_MUT\", 0: \"phenotype\"})\n",
    ")\n",
    "catalogue_01"
   ]
  },
  {
   "cell_type": "code",
   "execution_count": 21,
   "metadata": {},
   "outputs": [
    {
     "name": "stdout",
     "output_type": "stream",
     "text": [
      "[[421  70  27]\n",
      " [146 617 360]]\n",
      "Catalogue coverage of isolates: 0.7641681901279708\n",
      "Catalogue coverage of mutations: 0.49074074074074076\n",
      "Sensitivity: 0.8574338085539714\n",
      "Specificity: 0.8086500655307994\n"
     ]
    },
    {
     "data": {
      "text/plain": [
       "(array([0.5, 1.5]), [Text(0, 0.5, 'R'), Text(0, 1.5, 'S')])"
      ]
     },
     "execution_count": 21,
     "metadata": {},
     "output_type": "execute_result"
    },
    {
     "data": {
      "image/png": "[encoded data removed]",
      "text/plain": [
       "<Figure size 800x600 with 1 Axes>"
      ]
     },
     "metadata": {},
     "output_type": "display_data"
    }
   ],
   "source": [
    "cm = predict(all_no_mmpL5, catalogue_01, Print=True)[\"cm\"]\n",
    "df_cm = pd.DataFrame(cm, index=[\"R\", \"S\"], columns=[\"R\", \"S\", \"U\"])\n",
    "plt.figure(figsize=(8, 6))\n",
    "sns.set_context(\"talk\")\n",
    "sns.heatmap(df_cm, annot=True, cbar=False, fmt=\"g\", cmap=\"Greens\")\n",
    "plt.xticks(fontsize=12)\n",
    "plt.yticks(fontsize=12)"
   ]
  },
  {
   "cell_type": "code",
   "execution_count": null,
   "metadata": {},
   "outputs": [],
   "source": []
  },
  {
   "cell_type": "markdown",
   "metadata": {},
   "source": [
    "### Build and predict with cross validation"
   ]
  },
  {
   "cell_type": "markdown",
   "metadata": {},
   "source": [
    "#### Homogenous"
   ]
  },
  {
   "cell_type": "code",
   "execution_count": 32,
   "metadata": {},
   "outputs": [
    {
     "name": "stdout",
     "output_type": "stream",
     "text": [
      "isolate_cov (0.5173252279635259, 0.031435096592943225)\n",
      "specificity (0.6934278003078422, 0.03389230105056328)\n",
      "sensitivity (0.8621113805684821, 0.02621879170546563)\n"
     ]
    },
    {
     "data": {
      "text/plain": [
       "(array([0.5, 1.5]), [Text(0, 0.5, 'R'), Text(0, 1.5, 'S')])"
      ]
     },
     "execution_count": 32,
     "metadata": {},
     "output_type": "execute_result"
    },
    {
     "data": {
      "image/png": "[encoded data removed]",
      "text/plain": [
       "<Figure size 800x500 with 1 Axes>"
      ]
     },
     "metadata": {},
     "output_type": "display_data"
    }
   ],
   "source": [
    "X = all_no_mmpL5.UNIQUEID.unique()\n",
    "y = []\n",
    "for i in X:\n",
    "    y.append(all_no_mmpL5[all_no_mmpL5.UNIQUEID == i].PHENOTYPE.tolist()[0])\n",
    "\n",
    "\n",
    "rs = ShuffleSplit(n_splits=5, test_size=0.2, random_state=7)\n",
    "train_indices, test_indices = [], []\n",
    "for i, (train_index, test_index) in enumerate(rs.split(X)):\n",
    "    train_indices.append(train_index)\n",
    "    test_indices.append(test_index)\n",
    "\n",
    "ax_arr = []\n",
    "\n",
    "isolate_cov, specificities, sensitivities, cms = [], [], [], []\n",
    "for fold in range(len(train_indices)):\n",
    "    train_ids, test_ids = [], []\n",
    "    for i in train_indices[fold]:\n",
    "        train_ids.append(X[i])\n",
    "    for j in test_indices[fold]:\n",
    "        test_ids.append(X[j])\n",
    "\n",
    "    train_samples = samples[samples.UNIQUEID.isin(train_ids)]\n",
    "    train_mutations = mutations_no_mmpL5[mutations_no_mmpL5.UNIQUEID.isin(train_ids)]\n",
    "    test_df = all_no_mmpL5[all_no_mmpL5.UNIQUEID.isin(test_ids)]\n",
    "\n",
    "    catalogue = BuildCatalogue(train_samples, train_mutations, 0.9).return_catalogue()\n",
    "    catalogue = (\n",
    "        pd.DataFrame.from_dict(catalogue, orient=\"index\")\n",
    "        .reset_index(0)\n",
    "        .rename(columns={\"index\": \"GENE_MUT\", 0: \"phenotype\"})\n",
    "    )\n",
    "    catalogue.index.rename(\"GENE_MUT\", inplace=True)\n",
    "\n",
    "    performance = predict(test_df, catalogue, Print=False)\n",
    "    isolate_cov.append(performance[\"isolate_cov\"])\n",
    "    specificities.append(performance[\"specificity\"])\n",
    "    sensitivities.append(performance[\"sensitivity\"])\n",
    "    cms.append(performance[\"cm\"])\n",
    "\n",
    "isolate_cov = (np.mean(isolate_cov), np.std(isolate_cov))\n",
    "specificity = (np.mean(specificities), np.std(specificities))\n",
    "sensitivity = (np.mean(sensitivities), np.std(sensitivities))\n",
    "\n",
    "print(\"isolate_cov\", isolate_cov)\n",
    "print(\"specificity\", specificity)\n",
    "print(\"sensitivity\", sensitivity)\n",
    "\n",
    "\n",
    "mean = np.mean(cms, axis=0)\n",
    "std = np.std(cms, axis=0)\n",
    "\n",
    "labels = [[], []]\n",
    "\n",
    "for i in range(len(mean)):\n",
    "    for j in range(len(mean[i])):\n",
    "        labels[i].append(\"%s\" % int(mean[i][j]))\n",
    "\n",
    "\n",
    "df_cm = pd.DataFrame(mean, index=[\"R\", \"S\"], columns=[\"R\", \"S\", \"U\"])\n",
    "plt.figure(figsize=(8, 5))\n",
    "sns.heatmap(df_cm, annot=labels, cbar=False, cmap=\"Greens\", fmt=\"\")\n",
    "plt.xticks(fontsize=12)\n",
    "plt.yticks(fontsize=12)"
   ]
  },
  {
   "cell_type": "code",
   "execution_count": null,
   "metadata": {},
   "outputs": [],
   "source": []
  },
  {
   "cell_type": "markdown",
   "metadata": {},
   "source": [
    "#### Heterogenous"
   ]
  },
  {
   "cell_type": "code",
   "execution_count": 33,
   "metadata": {},
   "outputs": [
    {
     "name": "stdout",
     "output_type": "stream",
     "text": [
      "isolate_cov (0.5525835866261398, 0.01351131353853671)\n",
      "specificity (0.6684290987447243, 0.02809917261107198)\n",
      "sensitivity (0.804390188330372, 0.021557393909319877)\n"
     ]
    },
    {
     "data": {
      "text/plain": [
       "(array([0.5, 1.5]), [Text(0, 0.5, 'R'), Text(0, 1.5, 'S')])"
      ]
     },
     "execution_count": 33,
     "metadata": {},
     "output_type": "execute_result"
    },
    {
     "data": {
      "image/png": "[encoded data removed]",
      "text/plain": [
       "<Figure size 800x500 with 1 Axes>"
      ]
     },
     "metadata": {},
     "output_type": "display_data"
    }
   ],
   "source": [
    "X = all_no_mmpL5.UNIQUEID.unique()\n",
    "y = []\n",
    "for i in X:\n",
    "    y.append(all_no_mmpL5[all_no_mmpL5.UNIQUEID == i].PHENOTYPE.tolist()[0])\n",
    "\n",
    "\n",
    "rs = ShuffleSplit(n_splits=5, test_size=0.2, random_state=7)\n",
    "train_indices, test_indices = [], []\n",
    "for i, (train_index, test_index) in enumerate(rs.split(X)):\n",
    "    train_indices.append(train_index)\n",
    "    test_indices.append(test_index)\n",
    "\n",
    "ax_arr = []\n",
    "\n",
    "isolate_cov, specificities, sensitivities, cms = [], [], [], []\n",
    "for fold in range(len(train_indices)):\n",
    "    train_ids, test_ids = [], []\n",
    "    for i in train_indices[fold]:\n",
    "        train_ids.append(X[i])\n",
    "    for j in test_indices[fold]:\n",
    "        test_ids.append(X[j])\n",
    "\n",
    "    train_samples = samples[samples.UNIQUEID.isin(train_ids)]\n",
    "    train_mutations = mutations_no_mmpL5[mutations_no_mmpL5.UNIQUEID.isin(train_ids)]\n",
    "    test_df = all_no_mmpL5[all_no_mmpL5.UNIQUEID.isin(test_ids)]\n",
    "\n",
    "    catalogue = BuildCatalogue(train_samples, train_mutations, 0.1).return_catalogue()\n",
    "    catalogue = (\n",
    "        pd.DataFrame.from_dict(catalogue, orient=\"index\")\n",
    "        .reset_index(0)\n",
    "        .rename(columns={\"index\": \"GENE_MUT\", 0: \"phenotype\"})\n",
    "    )\n",
    "    catalogue.index.rename(\"GENE_MUT\", inplace=True)\n",
    "\n",
    "    performance = predict(test_df, catalogue, Print=False)\n",
    "    isolate_cov.append(performance[\"isolate_cov\"])\n",
    "    specificities.append(performance[\"specificity\"])\n",
    "    sensitivities.append(performance[\"sensitivity\"])\n",
    "    cms.append(performance[\"cm\"])\n",
    "\n",
    "isolate_cov = (np.mean(isolate_cov), np.std(isolate_cov))\n",
    "specificity = (np.mean(specificities), np.std(specificities))\n",
    "sensitivity = (np.mean(sensitivities), np.std(sensitivities))\n",
    "\n",
    "print(\"isolate_cov\", isolate_cov)\n",
    "print(\"specificity\", specificity)\n",
    "print(\"sensitivity\", sensitivity)\n",
    "\n",
    "\n",
    "mean = np.mean(cms, axis=0)\n",
    "std = np.std(cms, axis=0)\n",
    "\n",
    "labels = [[], []]\n",
    "\n",
    "for i in range(len(mean)):\n",
    "    for j in range(len(mean[i])):\n",
    "        labels[i].append(\"%s\" % int(mean[i][j]))\n",
    "\n",
    "\n",
    "df_cm = pd.DataFrame(mean, index=[\"R\", \"S\"], columns=[\"R\", \"S\", \"U\"])\n",
    "plt.figure(figsize=(8, 5))\n",
    "sns.heatmap(df_cm, annot=labels, cbar=False, cmap=\"Greens\", fmt=\"\")\n",
    "plt.xticks(fontsize=12)\n",
    "plt.yticks(fontsize=12)"
   ]
  },
  {
   "cell_type": "markdown",
   "metadata": {},
   "source": []
  },
  {
   "cell_type": "markdown",
   "metadata": {},
   "source": []
  },
  {
   "cell_type": "code",
   "execution_count": 55,
   "metadata": {},
   "outputs": [
    {
     "data": {
      "text/html": [
       "<div>\n",
       "<style scoped>\n",
       "    .dataframe tbody tr th:only-of-type {\n",
       "        vertical-align: middle;\n",
       "    }\n",
       "\n",
       "    .dataframe tbody tr th {\n",
       "        vertical-align: top;\n",
       "    }\n",
       "\n",
       "    .dataframe thead th {\n",
       "        text-align: right;\n",
       "    }\n",
       "</style>\n",
       "<table border=\"1\" class=\"dataframe\">\n",
       "  <thead>\n",
       "    <tr style=\"text-align: right;\">\n",
       "      <th></th>\n",
       "      <th>GENE_MUT</th>\n",
       "      <th>FRS</th>\n",
       "      <th>MIC</th>\n",
       "      <th>binned_FRS</th>\n",
       "      <th>binned_MIC</th>\n",
       "    </tr>\n",
       "  </thead>\n",
       "  <tbody>\n",
       "    <tr>\n",
       "      <th>0</th>\n",
       "      <td>Rv0678_V120M</td>\n",
       "      <td>0.133</td>\n",
       "      <td>-5.058893689053568</td>\n",
       "      <td>0.1</td>\n",
       "      <td>-5.058893689053568</td>\n",
       "    </tr>\n",
       "    <tr>\n",
       "      <th>1</th>\n",
       "      <td>Rv0678_141_ins_c</td>\n",
       "      <td>0.596</td>\n",
       "      <td>-4.058893689053568</td>\n",
       "      <td>0.6</td>\n",
       "      <td>-4.058893689053568</td>\n",
       "    </tr>\n",
       "    <tr>\n",
       "      <th>2</th>\n",
       "      <td>Rv0678_138_ins_g</td>\n",
       "      <td>0.600</td>\n",
       "      <td>-1.0</td>\n",
       "      <td>0.6</td>\n",
       "      <td>-1.0</td>\n",
       "    </tr>\n",
       "    <tr>\n",
       "      <th>3</th>\n",
       "      <td>Rv0678_138_ins_g</td>\n",
       "      <td>0.462</td>\n",
       "      <td>-1.0</td>\n",
       "      <td>0.5</td>\n",
       "      <td>-1.0</td>\n",
       "    </tr>\n",
       "    <tr>\n",
       "      <th>4</th>\n",
       "      <td>Rv0678_141_ins_c</td>\n",
       "      <td>1.000</td>\n",
       "      <td>-3.0588936890535687</td>\n",
       "      <td>1.0</td>\n",
       "      <td>-3.0588936890535687</td>\n",
       "    </tr>\n",
       "    <tr>\n",
       "      <th>...</th>\n",
       "      <td>...</td>\n",
       "      <td>...</td>\n",
       "      <td>...</td>\n",
       "      <td>...</td>\n",
       "      <td>...</td>\n",
       "    </tr>\n",
       "    <tr>\n",
       "      <th>449</th>\n",
       "      <td>Rv0678_L40F</td>\n",
       "      <td>1.000</td>\n",
       "      <td>-1.0</td>\n",
       "      <td>1.0</td>\n",
       "      <td>-1.0</td>\n",
       "    </tr>\n",
       "    <tr>\n",
       "      <th>450</th>\n",
       "      <td>mmpL5_L709I</td>\n",
       "      <td>1.000</td>\n",
       "      <td>-1.0</td>\n",
       "      <td>1.0</td>\n",
       "      <td>-1.0</td>\n",
       "    </tr>\n",
       "    <tr>\n",
       "      <th>451</th>\n",
       "      <td>Rv0678_325_ins_g</td>\n",
       "      <td>1.000</td>\n",
       "      <td>0.0</td>\n",
       "      <td>1.0</td>\n",
       "      <td>0.0</td>\n",
       "    </tr>\n",
       "    <tr>\n",
       "      <th>452</th>\n",
       "      <td>Rv0678_138_ins_g</td>\n",
       "      <td>1.000</td>\n",
       "      <td>-2.0</td>\n",
       "      <td>1.0</td>\n",
       "      <td>-2.0</td>\n",
       "    </tr>\n",
       "    <tr>\n",
       "      <th>453</th>\n",
       "      <td>Rv0678_107_ins_g</td>\n",
       "      <td>1.000</td>\n",
       "      <td>-1.0</td>\n",
       "      <td>1.0</td>\n",
       "      <td>-1.0</td>\n",
       "    </tr>\n",
       "  </tbody>\n",
       "</table>\n",
       "<p>454 rows × 5 columns</p>\n",
       "</div>"
      ],
      "text/plain": [
       "             GENE_MUT    FRS                  MIC binned_FRS  \\\n",
       "0        Rv0678_V120M  0.133   -5.058893689053568        0.1   \n",
       "1    Rv0678_141_ins_c  0.596   -4.058893689053568        0.6   \n",
       "2    Rv0678_138_ins_g  0.600                 -1.0        0.6   \n",
       "3    Rv0678_138_ins_g  0.462                 -1.0        0.5   \n",
       "4    Rv0678_141_ins_c  1.000  -3.0588936890535687        1.0   \n",
       "..                ...    ...                  ...        ...   \n",
       "449       Rv0678_L40F  1.000                 -1.0        1.0   \n",
       "450       mmpL5_L709I  1.000                 -1.0        1.0   \n",
       "451  Rv0678_325_ins_g  1.000                  0.0        1.0   \n",
       "452  Rv0678_138_ins_g  1.000                 -2.0        1.0   \n",
       "453  Rv0678_107_ins_g  1.000                 -1.0        1.0   \n",
       "\n",
       "              binned_MIC  \n",
       "0     -5.058893689053568  \n",
       "1     -4.058893689053568  \n",
       "2                   -1.0  \n",
       "3                   -1.0  \n",
       "4    -3.0588936890535687  \n",
       "..                   ...  \n",
       "449                 -1.0  \n",
       "450                 -1.0  \n",
       "451                  0.0  \n",
       "452                 -2.0  \n",
       "453                 -1.0  \n",
       "\n",
       "[454 rows x 5 columns]"
      ]
     },
     "execution_count": 55,
     "metadata": {},
     "output_type": "execute_result"
    },
    {
     "data": {
      "text/plain": [
       "<Figure size 800x700 with 0 Axes>"
      ]
     },
     "metadata": {},
     "output_type": "display_data"
    }
   ],
   "source": [
    "sns.set_context(\"notebook\")\n",
    "\n",
    "\n",
    "samples = pd.merge(genomes, phenotypes, on=[\"UNIQUEID\"], how=\"inner\")\n",
    "all = pd.merge(samples, mutations, on=\"UNIQUEID\", how=\"left\")\n",
    "all['MIC_FLOAT'] = Helpers.mic_to_float(list(all['METHOD_MIC']))\n",
    "\n",
    "catalogue_01 = BuildCatalogue(samples, mutations, 0.1).return_catalogue()\n",
    "catalogue_01 = (\n",
    "    pd.DataFrame.from_dict(catalogue_01, orient=\"index\")\n",
    "    .reset_index(0)\n",
    "    .rename(columns={\"index\": \"GENE_MUT\", 0: \"phenotype\"})\n",
    ")\n",
    "\n",
    "R_muts = catalogue_01[catalogue_01.phenotype == \"R\"].GENE_MUT.tolist()\n",
    "# should only look at samples with a single R mutation (can have multipled S) that has been catalogued as R\n",
    "ids, solo_Rs = all.UNIQUEID.unique(), []\n",
    "for i in ids:\n",
    "    df = all[all.UNIQUEID == i]\n",
    "    if len(df[(df.GENE_MUT.isin(R_muts))]) == 1:\n",
    "        solo_Rs.append(i)\n",
    "\n",
    "plt.figure(figsize=(8, 7))\n",
    "df = pd.DataFrame.from_dict(\n",
    "    {\n",
    "        \"GENE_MUT\": all[\n",
    "            (all.UNIQUEID.isin(solo_Rs)) & (all.GENE_MUT.isin(R_muts))\n",
    "        ].GENE_MUT.tolist(),\n",
    "        \"FRS\": all[\n",
    "            (all.UNIQUEID.isin(solo_Rs)) & (all.GENE_MUT.isin(R_muts))\n",
    "        ].FRS.tolist(),\n",
    "        \"MIC\": [\n",
    "            str(i)\n",
    "            for i in np.log2(\n",
    "                (\n",
    "                    all[\n",
    "                        (all.UNIQUEID.isin(solo_Rs)) & (all.GENE_MUT.isin(R_muts))\n",
    "                    ].MIC_FLOAT\n",
    "                )\n",
    "            ).tolist()\n",
    "        ],\n",
    "    }\n",
    ")\n",
    "df[\"binned_FRS\"] = [str(round(i, 1)) for i in df.FRS.tolist()]\n",
    "df[\"binned_MIC\"] = [str(i) for i in df.MIC]\n",
    "df"
   ]
  },
  {
   "cell_type": "code",
   "execution_count": 40,
   "metadata": {},
   "outputs": [
    {
     "data": {
      "text/plain": [
       "Index(['UNIQUEID', 'SITEID', 'SUBJID', 'LABID', 'ISOLATENO', 'SEQREPS',\n",
       "       'CLOCKWORK_VERSION', 'FTP_PATH', 'FTP_FILENAME_VCF', 'TREE_PATH',\n",
       "       'TREE_FILENAME_VCF', 'WGS_PREDICTION_STRING', 'DRUG', 'PHENOTYPE',\n",
       "       'METHOD_MIC', 'Unnamed: 0', 'GENE', 'MUTATION', 'REF', 'ALT',\n",
       "       'NUCLEOTIDE_NUMBER', 'NUCLEOTIDE_INDEX', 'GENE_POSITION',\n",
       "       'CODES_PROTEIN', 'INDEL_LENGTH', 'INDEL_NUCLEOTIDES',\n",
       "       'AMINO_ACID_NUMBER', 'AMINO_ACID_SEQUENCE', 'NUMBER_NUCLEOTIDE_CHANGES',\n",
       "       'IS_MINOR_ALLELE', 'MINOR_MUTATION', 'FRS', 'GENE_MUT'],\n",
       "      dtype='object')"
      ]
     },
     "execution_count": 40,
     "metadata": {},
     "output_type": "execute_result"
    }
   ],
   "source": [
    "all.columns"
   ]
  },
  {
   "cell_type": "code",
   "execution_count": 56,
   "metadata": {},
   "outputs": [],
   "source": [
    "df[\"binned_FRS\"] = [str(round(i, 1)) for i in df.FRS.tolist()]\n",
    "df[\"binned_MIC\"] = [str(i) for i in df.MIC]\n",
    "df[\"Mutation\"] = [\n",
    "    i if i in [\"Rv0678_192_ins_g\", \"Rv0678_141_ins_c\"] else \"Rv0678\"\n",
    "    for i in df[\"GENE_MUT\"]\n",
    "]\n",
    "df = df.sort_values(by=[\"Mutation\"])"
   ]
  },
  {
   "cell_type": "code",
   "execution_count": 57,
   "metadata": {},
   "outputs": [
    {
     "data": {
      "image/png": "[encoded data removed]",
      "text/plain": [
       "<Figure size 1000x500 with 1 Axes>"
      ]
     },
     "metadata": {},
     "output_type": "display_data"
    }
   ],
   "source": [
    "plt.figure(figsize=(10, 5))\n",
    "ax = sns.stripplot(data=df[df.FRS < 0.9], x=\"FRS\", y=\"MIC\", jitter=0.3, hue=\"Mutation\")\n",
    "ax.invert_yaxis()\n",
    "# ax = sns.scatterplot(x=all_bdq_sha[(all_bdq_sha.UNIQUEID.isin(solo_Rs))&(all_bdq_sha.GENE_MUT.isin(R_muts))].FRS, y=np.log2((all_bdq_sha[(all_bdq_sha.UNIQUEID.isin(solo_Rs))&(all_bdq_sha.GENE_MUT.isin(R_muts))].MIC_FLOAT)))\n",
    "# ax = sns.scatterplot(x=all_bdq_sha[(all_bdq_sha.UNIQUEID.isin(solo_Rs))&(all_bdq_sha.GENE_MUT.isin(R_muts))].FRS, y=np.log((all_bdq_sha[(all_bdq_sha.UNIQUEID.isin(solo_Rs))&(all_bdq_sha.GENE_MUT.isin(R_muts))].MIC_FLOAT)))\n",
    "ax.set(xlabel=\"Fraction Read Support\", ylabel=\"Bedaquiline MIC\")\n",
    "ax.set_yticks([0, 1, 2, 3], labels=[1.0, 2.0, 4.0, \">=8.0\"])\n",
    "plt.legend(fontsize=\"small\")\n",
    "plt.show()"
   ]
  },
  {
   "cell_type": "code",
   "execution_count": null,
   "metadata": {},
   "outputs": [],
   "source": []
  }
 ],
 "metadata": {
  "kernelspec": {
   "display_name": "BDQ_catalogue_builder",
   "language": "python",
   "name": "python3"
  },
  "language_info": {
   "codemirror_mode": {
    "name": "ipython",
    "version": 3
   },
   "file_extension": ".py",
   "mimetype": "text/x-python",
   "name": "python",
   "nbconvert_exporter": "python",
   "pygments_lexer": "ipython3",
   "version": "3.11.3"
  }
 },
 "nbformat": 4,
 "nbformat_minor": 2
}
